{
 "cells": [
  {
   "cell_type": "code",
   "execution_count": 1,
   "id": "49d04529",
   "metadata": {},
   "outputs": [],
   "source": [
    "import os\n",
    "import sys\n",
    "import csv"
   ]
  },
  {
   "cell_type": "code",
   "execution_count": 2,
   "id": "3bc70ba9",
   "metadata": {},
   "outputs": [],
   "source": [
    "sourceDir = \"../rawdata\""
   ]
  },
  {
   "cell_type": "markdown",
   "id": "f1cae2e0",
   "metadata": {},
   "source": [
    "0 NoticeId\n",
    "1 Title\n",
    "2 Sol#\n",
    "3 Department/Ind.Agency\n",
    "4 CGAC\n",
    "5 Sub-Tier\n",
    "6 FPDS Code\n",
    "7 Office\n",
    "8 AAC Code\n",
    "9 PostedDate\n",
    "10 Type\n",
    "11 BaseType\n",
    "12 ArchiveType\n",
    "13 ArchiveDate\n",
    "14 SetASideCode\n",
    "15 SetASide\n",
    "16 ResponseDeadLine\n",
    "17 NaicsCode\n",
    "18 ClassificationCode\n",
    "19 PopStreetAddress\n",
    "20 PopCity\n",
    "21 PopState\n",
    "22 PopZip\n",
    "23 PopCountry\n",
    "24 Active\n",
    "25 AwardNumber\n",
    "26 AwardDate\n",
    "27 Award$\n",
    "28 Awardee\n",
    "29 PrimaryContactTitle\n",
    "30 PrimaryContactFullname\n",
    "31 PrimaryContactEmail\n",
    "32 PrimaryContactPhone\n",
    "33 PrimaryContactFax\n",
    "34 SecondaryContactTitle\n",
    "35 SecondaryContactFullname\n",
    "36 SecondaryContactEmail\n",
    "37 SecondaryContactPhone\n",
    "38 SecondaryContactFax\n",
    "39 OrganizationType\n",
    "40 State\n",
    "41 City\n",
    "42 ZipCode\n",
    "43 CountryCode\n",
    "44 AdditionalInfoLink\n",
    "45 Link\n",
    "46 Description"
   ]
  },
  {
   "cell_type": "code",
   "execution_count": 3,
   "id": "09faffb7",
   "metadata": {},
   "outputs": [],
   "source": [
    "def getFilesInDirecotry(directory):\n",
    "    rv = []\n",
    "    for filename in os.listdir(directory):\n",
    "        f = os.path.join(directory, filename)\n",
    "        # checking if it is a file\n",
    "        if os.path.isfile(f):\n",
    "            rv.extend([f])\n",
    "    return rv"
   ]
  },
  {
   "cell_type": "code",
   "execution_count": 4,
   "id": "3f94f8e0",
   "metadata": {},
   "outputs": [
    {
     "name": "stdout",
     "output_type": "stream",
     "text": [
      "['../rawdata\\\\ContractOpportunitiesFullCSV.csv', '../rawdata\\\\FY2018_archived_opportunities.csv', '../rawdata\\\\FY2019_archived_opportunities.csv', '../rawdata\\\\FY2020_archived_opportunities.csv', '../rawdata\\\\FY2021_archived_opportunities.csv', '../rawdata\\\\FY2022_archived_opportunities.csv', '../rawdata\\\\FY2023_archived_opportunities.csv']\n"
     ]
    }
   ],
   "source": [
    "rawFiles = getFilesInDirecotry(sourceDir)\n",
    "print(rawFiles)"
   ]
  },
  {
   "cell_type": "code",
   "execution_count": 5,
   "id": "65453235",
   "metadata": {},
   "outputs": [],
   "source": [
    "def processRawFile(f):\n",
    "    lineCount=0\n",
    "    sols={}\n",
    "    rv={\n",
    "        \"fileName\": f,\n",
    "        \"fileLines\": 0,\n",
    "        \"sols\":[]\n",
    "    }\n",
    "    with open(f) as fIn:\n",
    "        reader = csv.reader(fIn, delimiter=\",\")\n",
    "        for i, line in enumerate(reader):\n",
    "#            if(lineCount<2):\n",
    "#                print(line)\n",
    "            if(i>0):\n",
    "                sol = line[2].strip()\n",
    "                if(sol!=\"\"):\n",
    "                    if(sol not in sols):\n",
    "                        sols[sol]={\n",
    "                            \"count\": 0,\n",
    "                            \"data\":[]\n",
    "                        }\n",
    "                    sols[sol][\"count\"]=sols[sol][\"count\"]+1\n",
    "                    sols[sol][\"data\"].extend([line])\n",
    "            lineCount=lineCount+1\n",
    "    rv[\"sols\"] = sols\n",
    "    rv[\"fileLines\"] = lineCount\n",
    "    return rv"
   ]
  },
  {
   "cell_type": "code",
   "execution_count": 6,
   "id": "b9cf41ab",
   "metadata": {},
   "outputs": [
    {
     "name": "stdout",
     "output_type": "stream",
     "text": [
      "../rawdata\\ContractOpportunitiesFullCSV.csv 68773 34198\n",
      "../rawdata\\FY2018_archived_opportunities.csv 399100 208403\n",
      "../rawdata\\FY2019_archived_opportunities.csv 355480 191886\n",
      "../rawdata\\FY2020_archived_opportunities.csv 371248 211205\n",
      "../rawdata\\FY2021_archived_opportunities.csv 350904 203520\n",
      "../rawdata\\FY2022_archived_opportunities.csv 347140 203786\n",
      "../rawdata\\FY2023_archived_opportunities.csv 226035 142241\n"
     ]
    }
   ],
   "source": [
    "sols={}\n",
    "for f in rawFiles:\n",
    "    rFile = processRawFile(f)\n",
    "    print(rFile[\"fileName\"], rFile[\"fileLines\"], len(rFile[\"sols\"]))\n",
    "    for sol in rFile[\"sols\"]:\n",
    "        if(sol not in sols):\n",
    "            sols[sol]={\"count\": 0, \"data\":[]}\n",
    "        sols[sol][\"count\"]=sols[sol][\"count\"]+rFile[\"sols\"][sol][\"count\"]\n",
    "        sols[sol][\"data\"].extend(rFile[\"sols\"][sol][\"data\"])"
   ]
  },
  {
   "cell_type": "code",
   "execution_count": 7,
   "id": "3117f392",
   "metadata": {},
   "outputs": [],
   "source": [
    "#for x in sols:\n",
    "#    if(sols[x][\"count\"]>20 and sols[x][\"count\"]<30):\n",
    "#        print(x, sols[x][\"count\"])\n",
    "#        lastd = sols[x][\"data\"][-1]\n",
    "#        print(lastd[9], lastd[46][:100])\n",
    "        #for d in sols[x][\"data\"]:\n",
    "        #    print(d[9], d[13])\n",
    "        #print(\"\")"
   ]
  },
  {
   "cell_type": "code",
   "execution_count": 13,
   "id": "432d023a",
   "metadata": {},
   "outputs": [
    {
     "name": "stdout",
     "output_type": "stream",
     "text": [
      "100000\n",
      "200000\n",
      "300000\n",
      "400000\n",
      "500000\n",
      "600000\n",
      "700000\n",
      "800000\n",
      "900000\n",
      "1000000\n",
      "1100000\n"
     ]
    }
   ],
   "source": [
    "count=0\n",
    "with open(\"20230710-descriptions.txt\", 'w') as fOut:\n",
    "    for x in sols:\n",
    "        lastd = sols[x][\"data\"][-1]\n",
    "        desc = lastd[46]\n",
    "        descClean = desc.replace(\"\\r\",\"\").replace(\"\\n\", \" \").replace(\"  \",\" \").strip()\n",
    "        if(descClean != \"\") and (descClean!=\"No Description Provided\"):\n",
    "            fOut.write(descClean)\n",
    "            fOut.write(\"\\n\")\n",
    "        count=count+1\n",
    "        #if(count>500000):\n",
    "        #    break\n",
    "        if(count % 100000==0):\n",
    "            print(count)\n",
    "    "
   ]
  },
  {
   "cell_type": "code",
   "execution_count": null,
   "id": "733e5963",
   "metadata": {},
   "outputs": [],
   "source": []
  }
 ],
 "metadata": {
  "kernelspec": {
   "display_name": "Python 3 (ipykernel)",
   "language": "python",
   "name": "python3"
  },
  "language_info": {
   "codemirror_mode": {
    "name": "ipython",
    "version": 3
   },
   "file_extension": ".py",
   "mimetype": "text/x-python",
   "name": "python",
   "nbconvert_exporter": "python",
   "pygments_lexer": "ipython3",
   "version": "3.10.9"
  }
 },
 "nbformat": 4,
 "nbformat_minor": 5
}
