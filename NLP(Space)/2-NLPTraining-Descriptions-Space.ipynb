{
 "cells": [
  {
   "cell_type": "code",
   "execution_count": 8,
   "id": "1a7e2f3d",
   "metadata": {},
   "outputs": [],
   "source": [
    "%matplotlib inline"
   ]
  },
  {
   "cell_type": "code",
   "execution_count": 9,
   "id": "195659b0",
   "metadata": {},
   "outputs": [],
   "source": [
    "import logging\n",
    "logging.basicConfig(format='%(asctime)s : %(levelname)s : %(message)s', level=logging.WARN)"
   ]
  },
  {
   "cell_type": "code",
   "execution_count": 10,
   "id": "e2241529",
   "metadata": {},
   "outputs": [],
   "source": [
    "import json\n",
    "import pickle"
   ]
  },
  {
   "cell_type": "code",
   "execution_count": 11,
   "id": "48fa83aa",
   "metadata": {},
   "outputs": [],
   "source": [
    "import os\n",
    "import gensim\n",
    "import pandas as pd"
   ]
  },
  {
   "cell_type": "code",
   "execution_count": 12,
   "id": "2c429eaa",
   "metadata": {},
   "outputs": [],
   "source": [
    "df = pd.read_csv('SpaceNASA-Sol#_Updated.csv', encoding='iso-8859-1')"
   ]
  },
  {
   "cell_type": "code",
   "execution_count": 13,
   "id": "68b7ce28",
   "metadata": {},
   "outputs": [],
   "source": [
    "def getTextTokens():\n",
    "    allTokens = []\n",
    "    descriptions = df['Description']\n",
    "    with open('SpaceNASA-Sol#_Updated.csv') as f:\n",
    "        for i, line in enumerate(f):\n",
    "#            if(i>100000):\n",
    "#                continue    \n",
    "            jLineText = line.strip()\n",
    "            for i in range(0, 16):\n",
    "                tokens = gensim.utils.simple_preprocess(str(descriptions.iloc[i]))\n",
    "#             tokens = gensim.utils.simple_preprocess(jLineText)\n",
    "            if(i%25000==0):\n",
    "                print(i)   \n",
    "            yield gensim.models.doc2vec.TaggedDocument(tokens, [i])\n",
    "    return allTokens"
   ]
  },
  {
   "cell_type": "code",
   "execution_count": 14,
   "id": "1467880e",
   "metadata": {
    "scrolled": true
   },
   "outputs": [
    {
     "name": "stdout",
     "output_type": "stream",
     "text": [
      "[TaggedDocument(words=['nasa', 'technology', 'transfer', 'program', 'solicits', 'inquiries', 'from', 'companies', 'interested', 'in', 'obtaining', 'license', 'rights', 'to', 'commercialize', 'manufacture', 'and', 'market', 'the', 'following', 'technology', 'license', 'rights', 'may', 'be', 'issued', 'on', 'an', 'exclusive', 'or', 'nonexclusive', 'basis', 'and', 'may', 'include', 'specific', 'fields', 'of', 'use', 'nasa', 'provides', 'no', 'funding', 'in', 'conjunction', 'with', 'these', 'potential', 'licenses', 'the', 'technology', 'nasa', 'langley', 'research', 'center', 'has', 'developed', 'metallic', 'material', 'that', 'can', 'be', 'embedded', 'into', 'structural', 'alloys', 'to', 'enhance', 'nondestructive', 'evaluation', 'nde', 'of', 'structure', 'current', 'nde', 'tools', 'such', 'as', 'eddy', 'current', 'probes', 'and', 'others', 'can', 'have', 'some', 'difficulties', 'detecting', 'small', 'flaws', 'in', 'certain', 'materials', 'and', 'structures', 'also', 'using', 'them', 'can', 'be', 'costly', 'time', 'consuming', 'and', 'labor', 'intensive', 'often', 'resulting', 'in', 'significant', 'downtime', 'in', 'the', 'case', 'of', 'examination', 'of', 'machinery', 'and', 'vehicles', 'this', 'innovation', 'is', 'to', 'embed', 'particles', 'that', 'react', 'to', 'strain', 'with', 'easily', 'detected', 'acoustic', 'emissions', 'and', 'change', 'in', 'magnetic', 'properties', 'to', 'express', 'interest', 'in', 'this', 'opportunity', 'please', 'submit', 'license', 'application', 'through', 'nasa', 'automated', 'technology', 'licensing', 'application', 'system', 'atlas', 'by', 'visiting', 'https', 'technology', 'nasa', 'gov', 'patent', 'lar', 'tops', 'if', 'you', 'have', 'any', 'questions', 'please', 'mail', 'nasa', 'technology', 'transfer', 'program', 'at', 'agency', 'patent', 'licensing', 'mail', 'nasa', 'gov', 'with', 'the', 'title', 'of', 'this', 'technology', 'transfer', 'opportunity', 'as', 'listed', 'in', 'this', 'sam', 'gov', 'notice', 'and', 'your', 'preferred', 'contact', 'information', 'for', 'more', 'information', 'about', 'licensing', 'other', 'nasa', 'developed', 'technologies', 'please', 'visit', 'the', 'nasa', 'technology', 'transfer', 'portal', 'at', 'https', 'technology', 'nasa', 'gov', 'these', 'responses', 'are', 'provided', 'to', 'members', 'of', 'nasa', 'technology', 'transfer', 'program', 'for', 'the', 'purpose', 'of', 'promoting', 'public', 'awareness', 'of', 'nasa', 'developed', 'technology', 'products', 'and', 'conducting', 'preliminary', 'market', 'research', 'to', 'determine', 'public', 'interest', 'in', 'and', 'potential', 'for', 'future', 'licensing', 'opportunities', 'no', 'follow', 'on', 'procurement', 'is', 'expected', 'to', 'result', 'from', 'responses', 'to', 'this', 'notice'], tags=[15]), TaggedDocument(words=['nasa', 'technology', 'transfer', 'program', 'solicits', 'inquiries', 'from', 'companies', 'interested', 'in', 'obtaining', 'license', 'rights', 'to', 'commercialize', 'manufacture', 'and', 'market', 'the', 'following', 'technology', 'license', 'rights', 'may', 'be', 'issued', 'on', 'an', 'exclusive', 'or', 'nonexclusive', 'basis', 'and', 'may', 'include', 'specific', 'fields', 'of', 'use', 'nasa', 'provides', 'no', 'funding', 'in', 'conjunction', 'with', 'these', 'potential', 'licenses', 'the', 'technology', 'nasa', 'langley', 'research', 'center', 'has', 'developed', 'metallic', 'material', 'that', 'can', 'be', 'embedded', 'into', 'structural', 'alloys', 'to', 'enhance', 'nondestructive', 'evaluation', 'nde', 'of', 'structure', 'current', 'nde', 'tools', 'such', 'as', 'eddy', 'current', 'probes', 'and', 'others', 'can', 'have', 'some', 'difficulties', 'detecting', 'small', 'flaws', 'in', 'certain', 'materials', 'and', 'structures', 'also', 'using', 'them', 'can', 'be', 'costly', 'time', 'consuming', 'and', 'labor', 'intensive', 'often', 'resulting', 'in', 'significant', 'downtime', 'in', 'the', 'case', 'of', 'examination', 'of', 'machinery', 'and', 'vehicles', 'this', 'innovation', 'is', 'to', 'embed', 'particles', 'that', 'react', 'to', 'strain', 'with', 'easily', 'detected', 'acoustic', 'emissions', 'and', 'change', 'in', 'magnetic', 'properties', 'to', 'express', 'interest', 'in', 'this', 'opportunity', 'please', 'submit', 'license', 'application', 'through', 'nasa', 'automated', 'technology', 'licensing', 'application', 'system', 'atlas', 'by', 'visiting', 'https', 'technology', 'nasa', 'gov', 'patent', 'lar', 'tops', 'if', 'you', 'have', 'any', 'questions', 'please', 'mail', 'nasa', 'technology', 'transfer', 'program', 'at', 'agency', 'patent', 'licensing', 'mail', 'nasa', 'gov', 'with', 'the', 'title', 'of', 'this', 'technology', 'transfer', 'opportunity', 'as', 'listed', 'in', 'this', 'sam', 'gov', 'notice', 'and', 'your', 'preferred', 'contact', 'information', 'for', 'more', 'information', 'about', 'licensing', 'other', 'nasa', 'developed', 'technologies', 'please', 'visit', 'the', 'nasa', 'technology', 'transfer', 'portal', 'at', 'https', 'technology', 'nasa', 'gov', 'these', 'responses', 'are', 'provided', 'to', 'members', 'of', 'nasa', 'technology', 'transfer', 'program', 'for', 'the', 'purpose', 'of', 'promoting', 'public', 'awareness', 'of', 'nasa', 'developed', 'technology', 'products', 'and', 'conducting', 'preliminary', 'market', 'research', 'to', 'determine', 'public', 'interest', 'in', 'and', 'potential', 'for', 'future', 'licensing', 'opportunities', 'no', 'follow', 'on', 'procurement', 'is', 'expected', 'to', 'result', 'from', 'responses', 'to', 'this', 'notice'], tags=[15]), TaggedDocument(words=['nasa', 'technology', 'transfer', 'program', 'solicits', 'inquiries', 'from', 'companies', 'interested', 'in', 'obtaining', 'license', 'rights', 'to', 'commercialize', 'manufacture', 'and', 'market', 'the', 'following', 'technology', 'license', 'rights', 'may', 'be', 'issued', 'on', 'an', 'exclusive', 'or', 'nonexclusive', 'basis', 'and', 'may', 'include', 'specific', 'fields', 'of', 'use', 'nasa', 'provides', 'no', 'funding', 'in', 'conjunction', 'with', 'these', 'potential', 'licenses', 'the', 'technology', 'nasa', 'langley', 'research', 'center', 'has', 'developed', 'metallic', 'material', 'that', 'can', 'be', 'embedded', 'into', 'structural', 'alloys', 'to', 'enhance', 'nondestructive', 'evaluation', 'nde', 'of', 'structure', 'current', 'nde', 'tools', 'such', 'as', 'eddy', 'current', 'probes', 'and', 'others', 'can', 'have', 'some', 'difficulties', 'detecting', 'small', 'flaws', 'in', 'certain', 'materials', 'and', 'structures', 'also', 'using', 'them', 'can', 'be', 'costly', 'time', 'consuming', 'and', 'labor', 'intensive', 'often', 'resulting', 'in', 'significant', 'downtime', 'in', 'the', 'case', 'of', 'examination', 'of', 'machinery', 'and', 'vehicles', 'this', 'innovation', 'is', 'to', 'embed', 'particles', 'that', 'react', 'to', 'strain', 'with', 'easily', 'detected', 'acoustic', 'emissions', 'and', 'change', 'in', 'magnetic', 'properties', 'to', 'express', 'interest', 'in', 'this', 'opportunity', 'please', 'submit', 'license', 'application', 'through', 'nasa', 'automated', 'technology', 'licensing', 'application', 'system', 'atlas', 'by', 'visiting', 'https', 'technology', 'nasa', 'gov', 'patent', 'lar', 'tops', 'if', 'you', 'have', 'any', 'questions', 'please', 'mail', 'nasa', 'technology', 'transfer', 'program', 'at', 'agency', 'patent', 'licensing', 'mail', 'nasa', 'gov', 'with', 'the', 'title', 'of', 'this', 'technology', 'transfer', 'opportunity', 'as', 'listed', 'in', 'this', 'sam', 'gov', 'notice', 'and', 'your', 'preferred', 'contact', 'information', 'for', 'more', 'information', 'about', 'licensing', 'other', 'nasa', 'developed', 'technologies', 'please', 'visit', 'the', 'nasa', 'technology', 'transfer', 'portal', 'at', 'https', 'technology', 'nasa', 'gov', 'these', 'responses', 'are', 'provided', 'to', 'members', 'of', 'nasa', 'technology', 'transfer', 'program', 'for', 'the', 'purpose', 'of', 'promoting', 'public', 'awareness', 'of', 'nasa', 'developed', 'technology', 'products', 'and', 'conducting', 'preliminary', 'market', 'research', 'to', 'determine', 'public', 'interest', 'in', 'and', 'potential', 'for', 'future', 'licensing', 'opportunities', 'no', 'follow', 'on', 'procurement', 'is', 'expected', 'to', 'result', 'from', 'responses', 'to', 'this', 'notice'], tags=[15]), TaggedDocument(words=['nasa', 'technology', 'transfer', 'program', 'solicits', 'inquiries', 'from', 'companies', 'interested', 'in', 'obtaining', 'license', 'rights', 'to', 'commercialize', 'manufacture', 'and', 'market', 'the', 'following', 'technology', 'license', 'rights', 'may', 'be', 'issued', 'on', 'an', 'exclusive', 'or', 'nonexclusive', 'basis', 'and', 'may', 'include', 'specific', 'fields', 'of', 'use', 'nasa', 'provides', 'no', 'funding', 'in', 'conjunction', 'with', 'these', 'potential', 'licenses', 'the', 'technology', 'nasa', 'langley', 'research', 'center', 'has', 'developed', 'metallic', 'material', 'that', 'can', 'be', 'embedded', 'into', 'structural', 'alloys', 'to', 'enhance', 'nondestructive', 'evaluation', 'nde', 'of', 'structure', 'current', 'nde', 'tools', 'such', 'as', 'eddy', 'current', 'probes', 'and', 'others', 'can', 'have', 'some', 'difficulties', 'detecting', 'small', 'flaws', 'in', 'certain', 'materials', 'and', 'structures', 'also', 'using', 'them', 'can', 'be', 'costly', 'time', 'consuming', 'and', 'labor', 'intensive', 'often', 'resulting', 'in', 'significant', 'downtime', 'in', 'the', 'case', 'of', 'examination', 'of', 'machinery', 'and', 'vehicles', 'this', 'innovation', 'is', 'to', 'embed', 'particles', 'that', 'react', 'to', 'strain', 'with', 'easily', 'detected', 'acoustic', 'emissions', 'and', 'change', 'in', 'magnetic', 'properties', 'to', 'express', 'interest', 'in', 'this', 'opportunity', 'please', 'submit', 'license', 'application', 'through', 'nasa', 'automated', 'technology', 'licensing', 'application', 'system', 'atlas', 'by', 'visiting', 'https', 'technology', 'nasa', 'gov', 'patent', 'lar', 'tops', 'if', 'you', 'have', 'any', 'questions', 'please', 'mail', 'nasa', 'technology', 'transfer', 'program', 'at', 'agency', 'patent', 'licensing', 'mail', 'nasa', 'gov', 'with', 'the', 'title', 'of', 'this', 'technology', 'transfer', 'opportunity', 'as', 'listed', 'in', 'this', 'sam', 'gov', 'notice', 'and', 'your', 'preferred', 'contact', 'information', 'for', 'more', 'information', 'about', 'licensing', 'other', 'nasa', 'developed', 'technologies', 'please', 'visit', 'the', 'nasa', 'technology', 'transfer', 'portal', 'at', 'https', 'technology', 'nasa', 'gov', 'these', 'responses', 'are', 'provided', 'to', 'members', 'of', 'nasa', 'technology', 'transfer', 'program', 'for', 'the', 'purpose', 'of', 'promoting', 'public', 'awareness', 'of', 'nasa', 'developed', 'technology', 'products', 'and', 'conducting', 'preliminary', 'market', 'research', 'to', 'determine', 'public', 'interest', 'in', 'and', 'potential', 'for', 'future', 'licensing', 'opportunities', 'no', 'follow', 'on', 'procurement', 'is', 'expected', 'to', 'result', 'from', 'responses', 'to', 'this', 'notice'], tags=[15]), TaggedDocument(words=['nasa', 'technology', 'transfer', 'program', 'solicits', 'inquiries', 'from', 'companies', 'interested', 'in', 'obtaining', 'license', 'rights', 'to', 'commercialize', 'manufacture', 'and', 'market', 'the', 'following', 'technology', 'license', 'rights', 'may', 'be', 'issued', 'on', 'an', 'exclusive', 'or', 'nonexclusive', 'basis', 'and', 'may', 'include', 'specific', 'fields', 'of', 'use', 'nasa', 'provides', 'no', 'funding', 'in', 'conjunction', 'with', 'these', 'potential', 'licenses', 'the', 'technology', 'nasa', 'langley', 'research', 'center', 'has', 'developed', 'metallic', 'material', 'that', 'can', 'be', 'embedded', 'into', 'structural', 'alloys', 'to', 'enhance', 'nondestructive', 'evaluation', 'nde', 'of', 'structure', 'current', 'nde', 'tools', 'such', 'as', 'eddy', 'current', 'probes', 'and', 'others', 'can', 'have', 'some', 'difficulties', 'detecting', 'small', 'flaws', 'in', 'certain', 'materials', 'and', 'structures', 'also', 'using', 'them', 'can', 'be', 'costly', 'time', 'consuming', 'and', 'labor', 'intensive', 'often', 'resulting', 'in', 'significant', 'downtime', 'in', 'the', 'case', 'of', 'examination', 'of', 'machinery', 'and', 'vehicles', 'this', 'innovation', 'is', 'to', 'embed', 'particles', 'that', 'react', 'to', 'strain', 'with', 'easily', 'detected', 'acoustic', 'emissions', 'and', 'change', 'in', 'magnetic', 'properties', 'to', 'express', 'interest', 'in', 'this', 'opportunity', 'please', 'submit', 'license', 'application', 'through', 'nasa', 'automated', 'technology', 'licensing', 'application', 'system', 'atlas', 'by', 'visiting', 'https', 'technology', 'nasa', 'gov', 'patent', 'lar', 'tops', 'if', 'you', 'have', 'any', 'questions', 'please', 'mail', 'nasa', 'technology', 'transfer', 'program', 'at', 'agency', 'patent', 'licensing', 'mail', 'nasa', 'gov', 'with', 'the', 'title', 'of', 'this', 'technology', 'transfer', 'opportunity', 'as', 'listed', 'in', 'this', 'sam', 'gov', 'notice', 'and', 'your', 'preferred', 'contact', 'information', 'for', 'more', 'information', 'about', 'licensing', 'other', 'nasa', 'developed', 'technologies', 'please', 'visit', 'the', 'nasa', 'technology', 'transfer', 'portal', 'at', 'https', 'technology', 'nasa', 'gov', 'these', 'responses', 'are', 'provided', 'to', 'members', 'of', 'nasa', 'technology', 'transfer', 'program', 'for', 'the', 'purpose', 'of', 'promoting', 'public', 'awareness', 'of', 'nasa', 'developed', 'technology', 'products', 'and', 'conducting', 'preliminary', 'market', 'research', 'to', 'determine', 'public', 'interest', 'in', 'and', 'potential', 'for', 'future', 'licensing', 'opportunities', 'no', 'follow', 'on', 'procurement', 'is', 'expected', 'to', 'result', 'from', 'responses', 'to', 'this', 'notice'], tags=[15])]\n"
     ]
    }
   ],
   "source": [
    "trainingCorpus = list(getTextTokens())\n",
    "print(trainingCorpus[:5])"
   ]
  },
  {
   "cell_type": "code",
   "execution_count": null,
   "id": "d1a49d91",
   "metadata": {},
   "outputs": [],
   "source": [
    "#with open('sam-20211210-tokens-v2.dat', 'wb') as f:\n",
    "#    pickle.dump(trainingCorpus, f, protocol=2)"
   ]
  },
  {
   "cell_type": "code",
   "execution_count": null,
   "id": "2eef52b7",
   "metadata": {},
   "outputs": [],
   "source": []
  },
  {
   "cell_type": "code",
   "execution_count": 15,
   "id": "da0c516e",
   "metadata": {},
   "outputs": [],
   "source": [
    "model = gensim.models.doc2vec.Doc2Vec(vector_size=150, min_count=2, epochs=50, workers=4)"
   ]
  },
  {
   "cell_type": "code",
   "execution_count": 16,
   "id": "2d98da93",
   "metadata": {},
   "outputs": [],
   "source": [
    "model.build_vocab(trainingCorpus)"
   ]
  },
  {
   "cell_type": "code",
   "execution_count": 17,
   "id": "791ef074",
   "metadata": {},
   "outputs": [],
   "source": [
    "model.train(trainingCorpus, total_examples=model.corpus_count, epochs=model.epochs)"
   ]
  },
  {
   "cell_type": "code",
   "execution_count": 18,
   "id": "f05af205",
   "metadata": {},
   "outputs": [
    {
     "name": "stdout",
     "output_type": "stream",
     "text": [
      "[ 0.00065047  0.00251295 -0.00155167 -0.00314516 -0.00069632]\n"
     ]
    }
   ],
   "source": [
    "vector = model.infer_vector(['Space', 'Aeronautics', 'NASA', 'proposals'])\n",
    "print(vector[:5])"
   ]
  },
  {
   "cell_type": "code",
   "execution_count": 19,
   "id": "bc5944f0",
   "metadata": {},
   "outputs": [],
   "source": [
    "ranks = []\n",
    "second_ranks = []\n",
    "for doc_id in range(0, 16):\n",
    "    inferred_vector = model.infer_vector(trainingCorpus[doc_id].words)\n",
    "    sims = model.dv.most_similar([inferred_vector], topn=len(model.dv))\n",
    "    rank = [docid for docid, sim in sims].index(doc_id)\n",
    "    ranks.append(rank)\n",
    "\n",
    "    second_ranks.append(sims[1])"
   ]
  },
  {
   "cell_type": "code",
   "execution_count": 20,
   "id": "eafc873a",
   "metadata": {},
   "outputs": [
    {
     "name": "stdout",
     "output_type": "stream",
     "text": [
      "Counter({3: 1, 4: 1, 8: 1, 14: 1, 10: 1, 12: 1, 1: 1, 15: 1, 5: 1, 11: 1, 9: 1, 2: 1, 13: 1, 7: 1, 6: 1, 0: 1})\n"
     ]
    }
   ],
   "source": [
    "import collections\n",
    "\n",
    "counter = collections.Counter(ranks)\n",
    "print(counter)"
   ]
  },
  {
   "cell_type": "code",
   "execution_count": 21,
   "id": "168859b8",
   "metadata": {},
   "outputs": [
    {
     "name": "stdout",
     "output_type": "stream",
     "text": [
      "Document (15): «nasa technology transfer program solicits inquiries from companies interested in obtaining license rights to commercialize manufacture and market the following technology license rights may be issued on an exclusive or nonexclusive basis and may include specific fields of use nasa provides no funding in conjunction with these potential licenses the technology nasa langley research center has developed metallic material that can be embedded into structural alloys to enhance nondestructive evaluation nde of structure current nde tools such as eddy current probes and others can have some difficulties detecting small flaws in certain materials and structures also using them can be costly time consuming and labor intensive often resulting in significant downtime in the case of examination of machinery and vehicles this innovation is to embed particles that react to strain with easily detected acoustic emissions and change in magnetic properties to express interest in this opportunity please submit license application through nasa automated technology licensing application system atlas by visiting https technology nasa gov patent lar tops if you have any questions please mail nasa technology transfer program at agency patent licensing mail nasa gov with the title of this technology transfer opportunity as listed in this sam gov notice and your preferred contact information for more information about licensing other nasa developed technologies please visit the nasa technology transfer portal at https technology nasa gov these responses are provided to members of nasa technology transfer program for the purpose of promoting public awareness of nasa developed technology products and conducting preliminary market research to determine public interest in and potential for future licensing opportunities no follow on procurement is expected to result from responses to this notice»\n",
      "\n",
      "SIMILAR/DISSIMILAR DOCS PER MODEL Doc2Vec<dm/m,d150,n5,w5,mc2,s0.001,t4>:\n",
      "\n",
      "MOST (15, 0.9966463446617126): «nasa technology transfer program solicits inquiries from companies interested in obtaining license rights to commercialize manufacture and market the following technology license rights may be issued on an exclusive or nonexclusive basis and may include specific fields of use nasa provides no funding in conjunction with these potential licenses the technology nasa langley research center has developed metallic material that can be embedded into structural alloys to enhance nondestructive evaluation nde of structure current nde tools such as eddy current probes and others can have some difficulties detecting small flaws in certain materials and structures also using them can be costly time consuming and labor intensive often resulting in significant downtime in the case of examination of machinery and vehicles this innovation is to embed particles that react to strain with easily detected acoustic emissions and change in magnetic properties to express interest in this opportunity please submit license application through nasa automated technology licensing application system atlas by visiting https technology nasa gov patent lar tops if you have any questions please mail nasa technology transfer program at agency patent licensing mail nasa gov with the title of this technology transfer opportunity as listed in this sam gov notice and your preferred contact information for more information about licensing other nasa developed technologies please visit the nasa technology transfer portal at https technology nasa gov these responses are provided to members of nasa technology transfer program for the purpose of promoting public awareness of nasa developed technology products and conducting preliminary market research to determine public interest in and potential for future licensing opportunities no follow on procurement is expected to result from responses to this notice»\n",
      "\n",
      "SECOND-MOST (6, 0.24482662975788116): «nasa technology transfer program solicits inquiries from companies interested in obtaining license rights to commercialize manufacture and market the following technology license rights may be issued on an exclusive or nonexclusive basis and may include specific fields of use nasa provides no funding in conjunction with these potential licenses the technology nasa langley research center has developed metallic material that can be embedded into structural alloys to enhance nondestructive evaluation nde of structure current nde tools such as eddy current probes and others can have some difficulties detecting small flaws in certain materials and structures also using them can be costly time consuming and labor intensive often resulting in significant downtime in the case of examination of machinery and vehicles this innovation is to embed particles that react to strain with easily detected acoustic emissions and change in magnetic properties to express interest in this opportunity please submit license application through nasa automated technology licensing application system atlas by visiting https technology nasa gov patent lar tops if you have any questions please mail nasa technology transfer program at agency patent licensing mail nasa gov with the title of this technology transfer opportunity as listed in this sam gov notice and your preferred contact information for more information about licensing other nasa developed technologies please visit the nasa technology transfer portal at https technology nasa gov these responses are provided to members of nasa technology transfer program for the purpose of promoting public awareness of nasa developed technology products and conducting preliminary market research to determine public interest in and potential for future licensing opportunities no follow on procurement is expected to result from responses to this notice»\n",
      "\n",
      "MEDIAN (2, -0.033365264534950256): «nasa technology transfer program solicits inquiries from companies interested in obtaining license rights to commercialize manufacture and market the following technology license rights may be issued on an exclusive or nonexclusive basis and may include specific fields of use nasa provides no funding in conjunction with these potential licenses the technology nasa langley research center has developed metallic material that can be embedded into structural alloys to enhance nondestructive evaluation nde of structure current nde tools such as eddy current probes and others can have some difficulties detecting small flaws in certain materials and structures also using them can be costly time consuming and labor intensive often resulting in significant downtime in the case of examination of machinery and vehicles this innovation is to embed particles that react to strain with easily detected acoustic emissions and change in magnetic properties to express interest in this opportunity please submit license application through nasa automated technology licensing application system atlas by visiting https technology nasa gov patent lar tops if you have any questions please mail nasa technology transfer program at agency patent licensing mail nasa gov with the title of this technology transfer opportunity as listed in this sam gov notice and your preferred contact information for more information about licensing other nasa developed technologies please visit the nasa technology transfer portal at https technology nasa gov these responses are provided to members of nasa technology transfer program for the purpose of promoting public awareness of nasa developed technology products and conducting preliminary market research to determine public interest in and potential for future licensing opportunities no follow on procurement is expected to result from responses to this notice»\n",
      "\n",
      "LEAST (7, -0.1044304221868515): «nasa technology transfer program solicits inquiries from companies interested in obtaining license rights to commercialize manufacture and market the following technology license rights may be issued on an exclusive or nonexclusive basis and may include specific fields of use nasa provides no funding in conjunction with these potential licenses the technology nasa langley research center has developed metallic material that can be embedded into structural alloys to enhance nondestructive evaluation nde of structure current nde tools such as eddy current probes and others can have some difficulties detecting small flaws in certain materials and structures also using them can be costly time consuming and labor intensive often resulting in significant downtime in the case of examination of machinery and vehicles this innovation is to embed particles that react to strain with easily detected acoustic emissions and change in magnetic properties to express interest in this opportunity please submit license application through nasa automated technology licensing application system atlas by visiting https technology nasa gov patent lar tops if you have any questions please mail nasa technology transfer program at agency patent licensing mail nasa gov with the title of this technology transfer opportunity as listed in this sam gov notice and your preferred contact information for more information about licensing other nasa developed technologies please visit the nasa technology transfer portal at https technology nasa gov these responses are provided to members of nasa technology transfer program for the purpose of promoting public awareness of nasa developed technology products and conducting preliminary market research to determine public interest in and potential for future licensing opportunities no follow on procurement is expected to result from responses to this notice»\n",
      "\n"
     ]
    }
   ],
   "source": [
    "print('Document ({}): «{}»\\n'.format(doc_id, ' '.join(trainingCorpus[doc_id].words)))\n",
    "print(u'SIMILAR/DISSIMILAR DOCS PER MODEL %s:\\n' % model)\n",
    "for label, index in [('MOST', 0), ('SECOND-MOST', 1), ('MEDIAN', len(sims)//2), ('LEAST', len(sims) - 1)]:\n",
    "    print(u'%s %s: «%s»\\n' % (label, sims[index], ' '.join(trainingCorpus[sims[index][0]].words)))"
   ]
  },
  {
   "cell_type": "code",
   "execution_count": null,
   "id": "e418c983",
   "metadata": {},
   "outputs": [],
   "source": [
    "model.save(\"SpaceNASA-Sol#_5.model\")"
   ]
  },
  {
   "cell_type": "code",
   "execution_count": null,
   "id": "fdfef81a",
   "metadata": {},
   "outputs": [],
   "source": [
    "import gc\n",
    "\n",
    "gc.collect()"
   ]
  },
  {
   "cell_type": "code",
   "execution_count": null,
   "id": "f4151f63",
   "metadata": {},
   "outputs": [],
   "source": []
  },
  {
   "cell_type": "code",
   "execution_count": null,
   "id": "d2c6c361",
   "metadata": {},
   "outputs": [],
   "source": []
  }
 ],
 "metadata": {
  "kernelspec": {
   "display_name": "pycharm",
   "language": "python",
   "name": "pycharm"
  },
  "language_info": {
   "codemirror_mode": {
    "name": "ipython",
    "version": 3
   },
   "file_extension": ".py",
   "mimetype": "text/x-python",
   "name": "python",
   "nbconvert_exporter": "python",
   "pygments_lexer": "ipython3",
   "version": "3.10.12"
  }
 },
 "nbformat": 4,
 "nbformat_minor": 5
}
