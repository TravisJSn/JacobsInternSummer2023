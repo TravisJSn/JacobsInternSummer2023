{
 "cells": [
  {
   "cell_type": "code",
   "execution_count": 2,
   "id": "df9593f8",
   "metadata": {},
   "outputs": [],
   "source": [
    "import re  # For preprocessing\n",
    "import pandas as pd  # For data handling\n",
    "from time import time  # To time our operations\n",
    "from collections import defaultdict  # For word frequency\n",
    "\n",
    "import spacy  # For preprocessing\n",
    "\n",
    "import logging  # Setting up the loggings to monitor gensim\n",
    "logging.basicConfig(format=\"%(levelname)s - %(asctime)s: %(message)s\", datefmt= '%H:%M:%S', level=logging.INFO)\n",
    "\n",
    "import multiprocessing\n",
    "\n",
    "from gensim.models import Word2Vec\n",
    "\n",
    "import numpy as np\n",
    "import matplotlib.pyplot as plt\n",
    "%matplotlib inline\n",
    " \n",
    "import seaborn as sns\n",
    "sns.set_style(\"darkgrid\")\n",
    "\n",
    "from sklearn.decomposition import PCA\n",
    "from sklearn.manifold import TSNE"
   ]
  },
  {
   "cell_type": "code",
   "execution_count": 3,
   "id": "24dc9e14",
   "metadata": {},
   "outputs": [
    {
     "data": {
      "text/plain": [
       "(158314, 2)"
      ]
     },
     "execution_count": 3,
     "metadata": {},
     "output_type": "execute_result"
    }
   ],
   "source": [
    "df = pd.read_csv('C:/Kaggle/simpsons_dataset.csv')\n",
    "df.shape"
   ]
  },
  {
   "cell_type": "code",
   "execution_count": 3,
   "id": "ef16b31b",
   "metadata": {},
   "outputs": [
    {
     "data": {
      "text/html": [
       "<div>\n",
       "<style scoped>\n",
       "    .dataframe tbody tr th:only-of-type {\n",
       "        vertical-align: middle;\n",
       "    }\n",
       "\n",
       "    .dataframe tbody tr th {\n",
       "        vertical-align: top;\n",
       "    }\n",
       "\n",
       "    .dataframe thead th {\n",
       "        text-align: right;\n",
       "    }\n",
       "</style>\n",
       "<table border=\"1\" class=\"dataframe\">\n",
       "  <thead>\n",
       "    <tr style=\"text-align: right;\">\n",
       "      <th></th>\n",
       "      <th>raw_character_text</th>\n",
       "      <th>spoken_words</th>\n",
       "    </tr>\n",
       "  </thead>\n",
       "  <tbody>\n",
       "    <tr>\n",
       "      <th>0</th>\n",
       "      <td>Miss Hoover</td>\n",
       "      <td>No, actually, it was a little of both. Sometim...</td>\n",
       "    </tr>\n",
       "    <tr>\n",
       "      <th>1</th>\n",
       "      <td>Lisa Simpson</td>\n",
       "      <td>Where's Mr. Bergstrom?</td>\n",
       "    </tr>\n",
       "    <tr>\n",
       "      <th>2</th>\n",
       "      <td>Miss Hoover</td>\n",
       "      <td>I don't know. Although I'd sure like to talk t...</td>\n",
       "    </tr>\n",
       "    <tr>\n",
       "      <th>3</th>\n",
       "      <td>Lisa Simpson</td>\n",
       "      <td>That life is worth living.</td>\n",
       "    </tr>\n",
       "    <tr>\n",
       "      <th>4</th>\n",
       "      <td>Edna Krabappel-Flanders</td>\n",
       "      <td>The polls will be open from now until the end ...</td>\n",
       "    </tr>\n",
       "  </tbody>\n",
       "</table>\n",
       "</div>"
      ],
      "text/plain": [
       "        raw_character_text                                       spoken_words\n",
       "0              Miss Hoover  No, actually, it was a little of both. Sometim...\n",
       "1             Lisa Simpson                             Where's Mr. Bergstrom?\n",
       "2              Miss Hoover  I don't know. Although I'd sure like to talk t...\n",
       "3             Lisa Simpson                         That life is worth living.\n",
       "4  Edna Krabappel-Flanders  The polls will be open from now until the end ..."
      ]
     },
     "execution_count": 3,
     "metadata": {},
     "output_type": "execute_result"
    }
   ],
   "source": [
    "df.head()"
   ]
  },
  {
   "cell_type": "code",
   "execution_count": 4,
   "id": "8c617b09",
   "metadata": {},
   "outputs": [
    {
     "data": {
      "text/plain": [
       "raw_character_text    17814\n",
       "spoken_words          26459\n",
       "dtype: int64"
      ]
     },
     "execution_count": 4,
     "metadata": {},
     "output_type": "execute_result"
    }
   ],
   "source": [
    "df.isnull().sum()"
   ]
  },
  {
   "cell_type": "code",
   "execution_count": 5,
   "id": "cf8c5123",
   "metadata": {},
   "outputs": [
    {
     "data": {
      "text/plain": [
       "raw_character_text    0\n",
       "spoken_words          0\n",
       "dtype: int64"
      ]
     },
     "execution_count": 5,
     "metadata": {},
     "output_type": "execute_result"
    }
   ],
   "source": [
    "df = df.dropna().reset_index(drop=True)\n",
    "df.isnull().sum()"
   ]
  },
  {
   "cell_type": "code",
   "execution_count": 6,
   "id": "2d5f1432",
   "metadata": {},
   "outputs": [],
   "source": [
    "nlp = spacy.load('en_core_web_sm', disable=['ner', 'parser']) # disabling Named Entity Recognition for speed\n",
    "\n",
    "def cleaning(doc):\n",
    "    # Lemmatizes and removes stopwords\n",
    "    # doc needs to be a spacy Doc object\n",
    "    txt = [token.lemma_ for token in doc if not token.is_stop]\n",
    "    # Word2Vec uses context words to learn the vector representation of a target word,\n",
    "    # if a sentence is only one or two words long,\n",
    "    # the benefit for the training is very small\n",
    "    if len(txt) > 2:\n",
    "        return ' '.join(txt)"
   ]
  },
  {
   "cell_type": "code",
   "execution_count": 7,
   "id": "ceb1b643",
   "metadata": {},
   "outputs": [],
   "source": [
    "brief_cleaning = (re.sub(\"[^A-Za-z']+\", ' ', str(row)).lower() for row in df['spoken_words'])"
   ]
  },
  {
   "cell_type": "code",
   "execution_count": 8,
   "id": "6f4c8db4",
   "metadata": {},
   "outputs": [
    {
     "name": "stdout",
     "output_type": "stream",
     "text": [
      "Time to clean up everything: 2.77 mins\n"
     ]
    }
   ],
   "source": [
    "t = time()\n",
    "\n",
    "txt = [cleaning(doc) for doc in nlp.pipe(brief_cleaning, batch_size=5000, n_process=-1)]\n",
    "\n",
    "print('Time to clean up everything: {} mins'.format(round((time() - t) / 60, 2)))"
   ]
  },
  {
   "cell_type": "code",
   "execution_count": 9,
   "id": "0472a07f",
   "metadata": {},
   "outputs": [
    {
     "data": {
      "text/plain": [
       "(85955, 1)"
      ]
     },
     "execution_count": 9,
     "metadata": {},
     "output_type": "execute_result"
    }
   ],
   "source": [
    "df_clean = pd.DataFrame({'clean': txt})\n",
    "df_clean = df_clean.dropna().drop_duplicates()\n",
    "df_clean.shape"
   ]
  },
  {
   "cell_type": "code",
   "execution_count": 10,
   "id": "3ca7b3ec",
   "metadata": {},
   "outputs": [],
   "source": [
    "from gensim.models.phrases import Phrases, Phraser"
   ]
  },
  {
   "cell_type": "code",
   "execution_count": 11,
   "id": "4f4755b8",
   "metadata": {},
   "outputs": [],
   "source": [
    "sent = [row.split() for row in df_clean['clean']]"
   ]
  },
  {
   "cell_type": "code",
   "execution_count": 12,
   "id": "caa2ef88",
   "metadata": {},
   "outputs": [
    {
     "name": "stderr",
     "output_type": "stream",
     "text": [
      "INFO - 15:50:08: collecting all words and their counts\n",
      "INFO - 15:50:08: PROGRESS: at sentence #0, processed 0 words and 0 word types\n",
      "INFO - 15:50:08: PROGRESS: at sentence #10000, processed 63557 words and 52723 word types\n",
      "INFO - 15:50:08: PROGRESS: at sentence #20000, processed 130936 words and 99612 word types\n",
      "INFO - 15:50:08: PROGRESS: at sentence #30000, processed 192961 words and 138181 word types\n",
      "INFO - 15:50:08: PROGRESS: at sentence #40000, processed 249832 words and 172156 word types\n",
      "INFO - 15:50:08: PROGRESS: at sentence #50000, processed 311269 words and 207943 word types\n",
      "INFO - 15:50:08: PROGRESS: at sentence #60000, processed 373578 words and 242950 word types\n",
      "INFO - 15:50:08: PROGRESS: at sentence #70000, processed 436424 words and 277852 word types\n",
      "INFO - 15:50:08: PROGRESS: at sentence #80000, processed 497887 words and 310927 word types\n",
      "INFO - 15:50:08: collected 329641 token types (unigram + bigrams) from a corpus of 537095 words and 85955 sentences\n",
      "INFO - 15:50:08: merged Phrases<329641 vocab, min_count=30, threshold=10.0, max_vocab_size=40000000>\n",
      "INFO - 15:50:08: Phrases lifecycle event {'msg': 'built Phrases<329641 vocab, min_count=30, threshold=10.0, max_vocab_size=40000000> in 0.69s', 'datetime': '2023-07-10T15:50:08.788456', 'gensim': '4.3.1', 'python': '3.10.12 | packaged by conda-forge | (main, Jun 23 2023, 22:34:57) [MSC v.1936 64 bit (AMD64)]', 'platform': 'Windows-10-10.0.19045-SP0', 'event': 'created'}\n"
     ]
    }
   ],
   "source": [
    "phrases = Phrases(sent, min_count=30, progress_per=10000)"
   ]
  },
  {
   "cell_type": "code",
   "execution_count": 13,
   "id": "ec04726a",
   "metadata": {},
   "outputs": [
    {
     "name": "stderr",
     "output_type": "stream",
     "text": [
      "INFO - 15:50:08: exporting phrases from Phrases<329641 vocab, min_count=30, threshold=10.0, max_vocab_size=40000000>\n",
      "INFO - 15:50:09: FrozenPhrases lifecycle event {'msg': 'exported FrozenPhrases<128 phrases, min_count=30, threshold=10.0> from Phrases<329641 vocab, min_count=30, threshold=10.0, max_vocab_size=40000000> in 0.62s', 'datetime': '2023-07-10T15:50:09.422776', 'gensim': '4.3.1', 'python': '3.10.12 | packaged by conda-forge | (main, Jun 23 2023, 22:34:57) [MSC v.1936 64 bit (AMD64)]', 'platform': 'Windows-10-10.0.19045-SP0', 'event': 'created'}\n"
     ]
    }
   ],
   "source": [
    "bigram = Phraser(phrases)"
   ]
  },
  {
   "cell_type": "code",
   "execution_count": 14,
   "id": "7b763f7d",
   "metadata": {},
   "outputs": [],
   "source": [
    "sentences = bigram[sent]"
   ]
  },
  {
   "cell_type": "code",
   "execution_count": 15,
   "id": "ddbce04b",
   "metadata": {},
   "outputs": [
    {
     "data": {
      "text/plain": [
       "29694"
      ]
     },
     "execution_count": 15,
     "metadata": {},
     "output_type": "execute_result"
    }
   ],
   "source": [
    "word_freq = defaultdict(int)\n",
    "for sent in sentences:\n",
    "    for i in sent:\n",
    "        word_freq[i] += 1\n",
    "len(word_freq)"
   ]
  },
  {
   "cell_type": "code",
   "execution_count": 16,
   "id": "9a15dd5b",
   "metadata": {
    "scrolled": true
   },
   "outputs": [
    {
     "data": {
      "text/plain": [
       "['oh', 'like', 'know', 'get', 'hey', 'think', 'come', 'right', 'look', 'want']"
      ]
     },
     "execution_count": 16,
     "metadata": {},
     "output_type": "execute_result"
    }
   ],
   "source": [
    "sorted(word_freq, key=word_freq.get, reverse=True)[:10]"
   ]
  },
  {
   "cell_type": "code",
   "execution_count": 17,
   "id": "8fe520d3",
   "metadata": {},
   "outputs": [],
   "source": [
    "cores = multiprocessing.cpu_count() # Count the number of cores in a computer"
   ]
  },
  {
   "cell_type": "code",
   "execution_count": 18,
   "id": "6c657696",
   "metadata": {},
   "outputs": [
    {
     "name": "stderr",
     "output_type": "stream",
     "text": [
      "INFO - 15:50:10: Word2Vec lifecycle event {'params': 'Word2Vec<vocab=0, vector_size=300, alpha=0.03>', 'datetime': '2023-07-10T15:50:10.126242', 'gensim': '4.3.1', 'python': '3.10.12 | packaged by conda-forge | (main, Jun 23 2023, 22:34:57) [MSC v.1936 64 bit (AMD64)]', 'platform': 'Windows-10-10.0.19045-SP0', 'event': 'created'}\n"
     ]
    }
   ],
   "source": [
    "w2v_model = Word2Vec(min_count=20,\n",
    "                     window=2,\n",
    "                     vector_size=300,\n",
    "                     sample=6e-5, \n",
    "                     alpha=0.03, \n",
    "                     min_alpha=0.0007, \n",
    "                     negative=20,\n",
    "                     workers=cores-1)"
   ]
  },
  {
   "cell_type": "code",
   "execution_count": 19,
   "id": "b14d9d3a",
   "metadata": {},
   "outputs": [
    {
     "name": "stderr",
     "output_type": "stream",
     "text": [
      "INFO - 15:50:10: collecting all words and their counts\n",
      "INFO - 15:50:10: PROGRESS: at sentence #0, processed 0 words, keeping 0 word types\n",
      "INFO - 15:50:10: PROGRESS: at sentence #10000, processed 61697 words, keeping 9518 word types\n",
      "INFO - 15:50:10: PROGRESS: at sentence #20000, processed 127312 words, keeping 14384 word types\n",
      "INFO - 15:50:10: PROGRESS: at sentence #30000, processed 187772 words, keeping 17442 word types\n",
      "INFO - 15:50:10: PROGRESS: at sentence #40000, processed 243265 words, keeping 20121 word types\n",
      "INFO - 15:50:10: PROGRESS: at sentence #50000, processed 303120 words, keeping 22551 word types\n",
      "INFO - 15:50:10: PROGRESS: at sentence #60000, processed 363858 words, keeping 24820 word types\n",
      "INFO - 15:50:10: PROGRESS: at sentence #70000, processed 425311 words, keeping 26987 word types\n",
      "INFO - 15:50:10: PROGRESS: at sentence #80000, processed 485433 words, keeping 28822 word types\n",
      "INFO - 15:50:10: collected 29694 word types from a corpus of 523538 raw words and 85955 sentences\n",
      "INFO - 15:50:10: Creating a fresh vocabulary\n",
      "INFO - 15:50:10: Word2Vec lifecycle event {'msg': 'effective_min_count=20 retains 3325 unique words (11.20% of original 29694, drops 26369)', 'datetime': '2023-07-10T15:50:10.956061', 'gensim': '4.3.1', 'python': '3.10.12 | packaged by conda-forge | (main, Jun 23 2023, 22:34:57) [MSC v.1936 64 bit (AMD64)]', 'platform': 'Windows-10-10.0.19045-SP0', 'event': 'prepare_vocab'}\n",
      "INFO - 15:50:10: Word2Vec lifecycle event {'msg': 'effective_min_count=20 leaves 438016 word corpus (83.66% of original 523538, drops 85522)', 'datetime': '2023-07-10T15:50:10.957058', 'gensim': '4.3.1', 'python': '3.10.12 | packaged by conda-forge | (main, Jun 23 2023, 22:34:57) [MSC v.1936 64 bit (AMD64)]', 'platform': 'Windows-10-10.0.19045-SP0', 'event': 'prepare_vocab'}\n",
      "INFO - 15:50:10: deleting the raw counts dictionary of 29694 items\n",
      "INFO - 15:50:10: sample=6e-05 downsamples 1198 most-common words\n",
      "INFO - 15:50:10: Word2Vec lifecycle event {'msg': 'downsampling leaves estimated 199427.65110464947 word corpus (45.5%% of prior 438016)', 'datetime': '2023-07-10T15:50:10.989611', 'gensim': '4.3.1', 'python': '3.10.12 | packaged by conda-forge | (main, Jun 23 2023, 22:34:57) [MSC v.1936 64 bit (AMD64)]', 'platform': 'Windows-10-10.0.19045-SP0', 'event': 'prepare_vocab'}\n",
      "INFO - 15:50:11: estimated required memory for 3325 words and 300 dimensions: 9642500 bytes\n",
      "INFO - 15:50:11: resetting layer weights\n",
      "INFO - 15:50:11: Word2Vec lifecycle event {'update': False, 'trim_rule': 'None', 'datetime': '2023-07-10T15:50:11.030864', 'gensim': '4.3.1', 'python': '3.10.12 | packaged by conda-forge | (main, Jun 23 2023, 22:34:57) [MSC v.1936 64 bit (AMD64)]', 'platform': 'Windows-10-10.0.19045-SP0', 'event': 'build_vocab'}\n"
     ]
    },
    {
     "name": "stdout",
     "output_type": "stream",
     "text": [
      "Time to build vocab: 0.01 mins\n"
     ]
    }
   ],
   "source": [
    "t = time()\n",
    "\n",
    "w2v_model.build_vocab(sentences, progress_per=10000)\n",
    "\n",
    "print('Time to build vocab: {} mins'.format(round((time() - t) / 60, 2)))"
   ]
  },
  {
   "cell_type": "code",
   "execution_count": 20,
   "id": "f9f69e47",
   "metadata": {},
   "outputs": [
    {
     "name": "stderr",
     "output_type": "stream",
     "text": [
      "INFO - 15:50:11: Word2Vec lifecycle event {'msg': 'training model with 15 workers on 3325 vocabulary and 300 features, using sg=0 hs=0 sample=6e-05 negative=20 window=2 shrink_windows=True', 'datetime': '2023-07-10T15:50:11.057693', 'gensim': '4.3.1', 'python': '3.10.12 | packaged by conda-forge | (main, Jun 23 2023, 22:34:57) [MSC v.1936 64 bit (AMD64)]', 'platform': 'Windows-10-10.0.19045-SP0', 'event': 'train'}\n",
      "INFO - 15:50:12: EPOCH 0 - PROGRESS: at 11.23% examples, 20751 words/s, in_qsize 29, out_qsize 0\n",
      "INFO - 15:50:12: EPOCH 0: training on 523538 raw words (199481 effective words) took 1.5s, 130485 effective words/s\n",
      "INFO - 15:50:13: EPOCH 1 - PROGRESS: at 9.45% examples, 17985 words/s, in_qsize 29, out_qsize 0\n",
      "INFO - 15:50:14: EPOCH 1: training on 523538 raw words (199715 effective words) took 1.5s, 132810 effective words/s\n",
      "INFO - 15:50:15: EPOCH 2 - PROGRESS: at 13.09% examples, 26045 words/s, in_qsize 29, out_qsize 7\n",
      "INFO - 15:50:15: EPOCH 2: training on 523538 raw words (199496 effective words) took 1.3s, 150622 effective words/s\n",
      "INFO - 15:50:16: EPOCH 3 - PROGRESS: at 41.30% examples, 82350 words/s, in_qsize 29, out_qsize 0\n",
      "INFO - 15:50:16: EPOCH 3: training on 523538 raw words (199387 effective words) took 1.2s, 168005 effective words/s\n",
      "INFO - 15:50:17: EPOCH 4 - PROGRESS: at 33.66% examples, 68269 words/s, in_qsize 29, out_qsize 0\n",
      "INFO - 15:50:18: EPOCH 4: training on 523538 raw words (199551 effective words) took 1.3s, 154683 effective words/s\n",
      "INFO - 15:50:19: EPOCH 5 - PROGRESS: at 43.69% examples, 84764 words/s, in_qsize 29, out_qsize 0\n",
      "INFO - 15:50:19: EPOCH 5: training on 523538 raw words (199269 effective words) took 1.2s, 168460 effective words/s\n",
      "INFO - 15:50:20: EPOCH 6 - PROGRESS: at 96.36% examples, 189164 words/s, in_qsize 2, out_qsize 1\n",
      "INFO - 15:50:20: EPOCH 6: training on 523538 raw words (199025 effective words) took 1.0s, 192527 effective words/s\n",
      "INFO - 15:50:21: EPOCH 7 - PROGRESS: at 39.39% examples, 79356 words/s, in_qsize 29, out_qsize 0\n",
      "INFO - 15:50:21: EPOCH 7: training on 523538 raw words (199340 effective words) took 1.2s, 169267 effective words/s\n",
      "INFO - 15:50:22: EPOCH 8: training on 523538 raw words (199080 effective words) took 1.0s, 200281 effective words/s\n",
      "INFO - 15:50:23: EPOCH 9 - PROGRESS: at 78.54% examples, 156124 words/s, in_qsize 12, out_qsize 1\n",
      "INFO - 15:50:23: EPOCH 9: training on 523538 raw words (199215 effective words) took 1.0s, 192878 effective words/s\n",
      "INFO - 15:50:24: EPOCH 10 - PROGRESS: at 65.22% examples, 125201 words/s, in_qsize 19, out_qsize 0\n",
      "INFO - 15:50:24: EPOCH 10: training on 523538 raw words (199583 effective words) took 1.1s, 175694 effective words/s\n",
      "INFO - 15:50:25: EPOCH 11 - PROGRESS: at 100.00% examples, 198548 words/s, in_qsize 0, out_qsize 1\n",
      "INFO - 15:50:25: EPOCH 11: training on 523538 raw words (198977 effective words) took 1.0s, 198328 effective words/s\n",
      "INFO - 15:50:26: EPOCH 12 - PROGRESS: at 43.69% examples, 86651 words/s, in_qsize 29, out_qsize 0\n",
      "INFO - 15:50:27: EPOCH 12: training on 523538 raw words (198979 effective words) took 1.2s, 171556 effective words/s\n",
      "INFO - 15:50:28: EPOCH 13 - PROGRESS: at 53.70% examples, 105979 words/s, in_qsize 21, out_qsize 4\n",
      "INFO - 15:50:28: EPOCH 13: training on 523538 raw words (199513 effective words) took 1.2s, 170839 effective words/s\n",
      "INFO - 15:50:29: EPOCH 14 - PROGRESS: at 96.36% examples, 189807 words/s, in_qsize 2, out_qsize 1\n",
      "INFO - 15:50:29: EPOCH 14: training on 523538 raw words (199472 effective words) took 1.0s, 194627 effective words/s\n",
      "INFO - 15:50:30: EPOCH 15 - PROGRESS: at 35.35% examples, 67397 words/s, in_qsize 29, out_qsize 0\n",
      "INFO - 15:50:30: EPOCH 15: training on 523538 raw words (199540 effective words) took 1.3s, 152616 effective words/s\n",
      "INFO - 15:50:31: EPOCH 16 - PROGRESS: at 67.19% examples, 132303 words/s, in_qsize 18, out_qsize 0\n",
      "INFO - 15:50:31: EPOCH 16: training on 523538 raw words (199329 effective words) took 1.1s, 181088 effective words/s\n",
      "INFO - 15:50:32: EPOCH 17 - PROGRESS: at 35.35% examples, 70872 words/s, in_qsize 29, out_qsize 0\n",
      "INFO - 15:50:33: EPOCH 17: training on 523538 raw words (199188 effective words) took 1.3s, 154617 effective words/s\n",
      "INFO - 15:50:34: EPOCH 18 - PROGRESS: at 67.19% examples, 127524 words/s, in_qsize 18, out_qsize 0\n",
      "INFO - 15:50:34: EPOCH 18: training on 523538 raw words (199390 effective words) took 1.1s, 174252 effective words/s\n",
      "INFO - 15:50:35: EPOCH 19 - PROGRESS: at 80.41% examples, 159863 words/s, in_qsize 11, out_qsize 1\n",
      "INFO - 15:50:35: EPOCH 19: training on 523538 raw words (199183 effective words) took 1.1s, 189112 effective words/s\n",
      "INFO - 15:50:36: EPOCH 20 - PROGRESS: at 53.64% examples, 105667 words/s, in_qsize 24, out_qsize 1\n",
      "INFO - 15:50:36: EPOCH 20: training on 523538 raw words (199346 effective words) took 1.1s, 174539 effective words/s\n",
      "INFO - 15:50:37: EPOCH 21 - PROGRESS: at 67.19% examples, 127392 words/s, in_qsize 18, out_qsize 0\n",
      "INFO - 15:50:37: EPOCH 21: training on 523538 raw words (199280 effective words) took 1.1s, 174939 effective words/s\n",
      "INFO - 15:50:38: EPOCH 22 - PROGRESS: at 80.41% examples, 159789 words/s, in_qsize 11, out_qsize 1\n",
      "INFO - 15:50:38: EPOCH 22: training on 523538 raw words (199103 effective words) took 1.0s, 194299 effective words/s\n",
      "INFO - 15:50:39: EPOCH 23 - PROGRESS: at 57.47% examples, 113266 words/s, in_qsize 20, out_qsize 3\n",
      "INFO - 15:50:39: EPOCH 23: training on 523538 raw words (199530 effective words) took 1.1s, 175901 effective words/s\n",
      "INFO - 15:50:40: EPOCH 24 - PROGRESS: at 74.74% examples, 145851 words/s, in_qsize 14, out_qsize 1\n",
      "INFO - 15:50:40: EPOCH 24: training on 523538 raw words (199606 effective words) took 1.1s, 185956 effective words/s\n",
      "INFO - 15:50:41: EPOCH 25: training on 523538 raw words (199296 effective words) took 1.0s, 208156 effective words/s\n",
      "INFO - 15:50:42: EPOCH 26 - PROGRESS: at 59.50% examples, 117395 words/s, in_qsize 21, out_qsize 1\n",
      "INFO - 15:50:43: EPOCH 26: training on 523538 raw words (199444 effective words) took 1.1s, 179409 effective words/s\n",
      "INFO - 15:50:44: EPOCH 27 - PROGRESS: at 67.13% examples, 129483 words/s, in_qsize 18, out_qsize 0\n",
      "INFO - 15:50:44: EPOCH 27: training on 523538 raw words (199693 effective words) took 1.1s, 178912 effective words/s\n",
      "INFO - 15:50:45: EPOCH 28 - PROGRESS: at 63.32% examples, 124579 words/s, in_qsize 20, out_qsize 0\n",
      "INFO - 15:50:45: EPOCH 28: training on 523538 raw words (199508 effective words) took 1.1s, 174923 effective words/s\n",
      "INFO - 15:50:47: EPOCH 29 - PROGRESS: at 7.41% examples, 6913 words/s, in_qsize 29, out_qsize 0\n",
      "INFO - 15:50:48: EPOCH 29: training on 523538 raw words (199337 effective words) took 2.6s, 75645 effective words/s\n",
      "INFO - 15:50:49: EPOCH 30 - PROGRESS: at 67.19% examples, 132436 words/s, in_qsize 18, out_qsize 0\n",
      "INFO - 15:50:49: EPOCH 30: training on 523538 raw words (199591 effective words) took 1.1s, 177223 effective words/s\n",
      "INFO - 15:50:50: EPOCH 31 - PROGRESS: at 7.41% examples, 12291 words/s, in_qsize 22, out_qsize 0\n",
      "INFO - 15:50:51: EPOCH 31: training on 523538 raw words (199530 effective words) took 2.0s, 97703 effective words/s\n",
      "INFO - 15:50:52: EPOCH 32 - PROGRESS: at 11.32% examples, 18980 words/s, in_qsize 29, out_qsize 0\n",
      "INFO - 15:50:52: EPOCH 32: training on 523538 raw words (199545 effective words) took 1.5s, 131015 effective words/s\n",
      "INFO - 15:50:53: EPOCH 33 - PROGRESS: at 69.06% examples, 135958 words/s, in_qsize 17, out_qsize 0\n",
      "INFO - 15:50:53: EPOCH 33: training on 523538 raw words (199309 effective words) took 1.1s, 182265 effective words/s\n",
      "INFO - 15:50:54: EPOCH 34 - PROGRESS: at 65.14% examples, 128932 words/s, in_qsize 19, out_qsize 0\n",
      "INFO - 15:50:55: EPOCH 34: training on 523538 raw words (199496 effective words) took 1.1s, 179661 effective words/s\n",
      "INFO - 15:50:56: EPOCH 35 - PROGRESS: at 72.86% examples, 144450 words/s, in_qsize 15, out_qsize 0\n",
      "INFO - 15:50:56: EPOCH 35: training on 523538 raw words (199572 effective words) took 1.1s, 185758 effective words/s\n",
      "INFO - 15:50:57: EPOCH 36: training on 523538 raw words (199293 effective words) took 0.9s, 222297 effective words/s\n",
      "INFO - 15:50:58: EPOCH 37 - PROGRESS: at 88.59% examples, 176185 words/s, in_qsize 4, out_qsize 5\n",
      "INFO - 15:50:58: EPOCH 37: training on 523538 raw words (199304 effective words) took 1.0s, 194584 effective words/s\n"
     ]
    },
    {
     "name": "stderr",
     "output_type": "stream",
     "text": [
      "INFO - 15:50:59: EPOCH 38 - PROGRESS: at 74.73% examples, 146072 words/s, in_qsize 14, out_qsize 1\n",
      "INFO - 15:50:59: EPOCH 38: training on 523538 raw words (199745 effective words) took 1.1s, 187863 effective words/s\n",
      "INFO - 15:51:00: EPOCH 39: training on 523538 raw words (199825 effective words) took 0.9s, 215621 effective words/s\n",
      "INFO - 15:51:01: EPOCH 40 - PROGRESS: at 72.86% examples, 143596 words/s, in_qsize 14, out_qsize 2\n",
      "INFO - 15:51:01: EPOCH 40: training on 523538 raw words (199280 effective words) took 1.1s, 189313 effective words/s\n",
      "INFO - 15:51:02: EPOCH 41 - PROGRESS: at 67.19% examples, 128521 words/s, in_qsize 18, out_qsize 0\n",
      "INFO - 15:51:02: EPOCH 41: training on 523538 raw words (199527 effective words) took 1.1s, 179959 effective words/s\n",
      "INFO - 15:51:03: EPOCH 42: training on 523538 raw words (199402 effective words) took 1.0s, 203613 effective words/s\n",
      "INFO - 15:51:04: EPOCH 43 - PROGRESS: at 67.19% examples, 132216 words/s, in_qsize 18, out_qsize 0\n",
      "INFO - 15:51:04: EPOCH 43: training on 523538 raw words (199227 effective words) took 1.1s, 175748 effective words/s\n",
      "INFO - 15:51:05: EPOCH 44 - PROGRESS: at 55.62% examples, 108583 words/s, in_qsize 24, out_qsize 0\n",
      "INFO - 15:51:05: EPOCH 44: training on 523538 raw words (199326 effective words) took 1.1s, 178974 effective words/s\n",
      "INFO - 15:51:06: EPOCH 45: training on 523538 raw words (199450 effective words) took 0.9s, 219874 effective words/s\n",
      "INFO - 15:51:07: EPOCH 46 - PROGRESS: at 78.54% examples, 156239 words/s, in_qsize 12, out_qsize 1\n",
      "INFO - 15:51:07: EPOCH 46: training on 523538 raw words (199544 effective words) took 1.1s, 189917 effective words/s\n",
      "INFO - 15:51:08: EPOCH 47 - PROGRESS: at 76.62% examples, 151786 words/s, in_qsize 13, out_qsize 1\n",
      "INFO - 15:51:08: EPOCH 47: training on 523538 raw words (199884 effective words) took 1.1s, 189126 effective words/s\n",
      "INFO - 15:51:09: EPOCH 48: training on 523538 raw words (199163 effective words) took 0.9s, 210823 effective words/s\n",
      "INFO - 15:51:10: EPOCH 49 - PROGRESS: at 74.74% examples, 146465 words/s, in_qsize 14, out_qsize 1\n",
      "INFO - 15:51:10: EPOCH 49: training on 523538 raw words (199151 effective words) took 1.1s, 187009 effective words/s\n",
      "INFO - 15:51:11: EPOCH 50 - PROGRESS: at 84.22% examples, 166982 words/s, in_qsize 9, out_qsize 1\n",
      "INFO - 15:51:11: EPOCH 50: training on 523538 raw words (199068 effective words) took 1.0s, 191018 effective words/s\n",
      "INFO - 15:51:12: EPOCH 51: training on 523538 raw words (199664 effective words) took 1.0s, 209918 effective words/s\n",
      "INFO - 15:51:14: EPOCH 52 - PROGRESS: at 11.32% examples, 20837 words/s, in_qsize 30, out_qsize 0\n",
      "INFO - 15:51:14: EPOCH 52: training on 523538 raw words (199868 effective words) took 1.4s, 143378 effective words/s\n",
      "INFO - 15:51:15: EPOCH 53: training on 523538 raw words (199334 effective words) took 1.0s, 208066 effective words/s\n",
      "INFO - 15:51:16: EPOCH 54 - PROGRESS: at 67.19% examples, 131924 words/s, in_qsize 18, out_qsize 0\n",
      "INFO - 15:51:16: EPOCH 54: training on 523538 raw words (199609 effective words) took 1.1s, 183698 effective words/s\n",
      "INFO - 15:51:17: EPOCH 55 - PROGRESS: at 67.19% examples, 131852 words/s, in_qsize 18, out_qsize 0\n",
      "INFO - 15:51:17: EPOCH 55: training on 523538 raw words (199237 effective words) took 1.1s, 177794 effective words/s\n",
      "INFO - 15:51:18: EPOCH 56: training on 523538 raw words (199336 effective words) took 1.0s, 200378 effective words/s\n",
      "INFO - 15:51:19: EPOCH 57 - PROGRESS: at 72.86% examples, 139473 words/s, in_qsize 15, out_qsize 0\n",
      "INFO - 15:51:19: EPOCH 57: training on 523538 raw words (199380 effective words) took 1.1s, 183090 effective words/s\n",
      "INFO - 15:51:20: EPOCH 58 - PROGRESS: at 57.51% examples, 113417 words/s, in_qsize 19, out_qsize 4\n",
      "INFO - 15:51:20: EPOCH 58: training on 523538 raw words (199469 effective words) took 1.1s, 174843 effective words/s\n",
      "INFO - 15:51:21: EPOCH 59: training on 523538 raw words (199864 effective words) took 1.0s, 209742 effective words/s\n",
      "INFO - 15:51:22: EPOCH 60 - PROGRESS: at 69.06% examples, 132999 words/s, in_qsize 17, out_qsize 0\n",
      "INFO - 15:51:22: EPOCH 60: training on 523538 raw words (199574 effective words) took 1.1s, 180559 effective words/s\n",
      "INFO - 15:51:23: EPOCH 61: training on 523538 raw words (199457 effective words) took 0.9s, 221736 effective words/s\n",
      "INFO - 15:51:24: EPOCH 62 - PROGRESS: at 74.78% examples, 147168 words/s, in_qsize 13, out_qsize 3\n",
      "INFO - 15:51:24: EPOCH 62: training on 523538 raw words (199386 effective words) took 1.1s, 188218 effective words/s\n",
      "INFO - 15:51:25: EPOCH 63 - PROGRESS: at 88.78% examples, 176346 words/s, in_qsize 4, out_qsize 5\n",
      "INFO - 15:51:25: EPOCH 63: training on 523538 raw words (199161 effective words) took 1.0s, 196916 effective words/s\n",
      "INFO - 15:51:26: EPOCH 64: training on 523538 raw words (199742 effective words) took 0.9s, 219715 effective words/s\n",
      "INFO - 15:51:27: EPOCH 65 - PROGRESS: at 88.79% examples, 175839 words/s, in_qsize 6, out_qsize 1\n",
      "INFO - 15:51:27: EPOCH 65: training on 523538 raw words (199103 effective words) took 1.0s, 195130 effective words/s\n",
      "INFO - 15:51:28: EPOCH 66 - PROGRESS: at 72.86% examples, 144454 words/s, in_qsize 15, out_qsize 0\n",
      "INFO - 15:51:29: EPOCH 66: training on 523538 raw words (199500 effective words) took 1.1s, 187384 effective words/s\n",
      "INFO - 15:51:29: EPOCH 67: training on 523538 raw words (199505 effective words) took 0.9s, 230479 effective words/s\n",
      "INFO - 15:51:30: EPOCH 68 - PROGRESS: at 84.88% examples, 168927 words/s, in_qsize 8, out_qsize 1\n",
      "INFO - 15:51:30: EPOCH 68: training on 523538 raw words (199522 effective words) took 1.0s, 195048 effective words/s\n",
      "INFO - 15:51:31: EPOCH 69: training on 523538 raw words (199279 effective words) took 0.9s, 232051 effective words/s\n",
      "INFO - 15:51:32: EPOCH 70 - PROGRESS: at 81.10% examples, 161284 words/s, in_qsize 10, out_qsize 1\n",
      "INFO - 15:51:32: EPOCH 70: training on 523538 raw words (199453 effective words) took 1.0s, 191581 effective words/s\n",
      "INFO - 15:51:33: EPOCH 71 - PROGRESS: at 7.41% examples, 14982 words/s, in_qsize 23, out_qsize 0\n",
      "INFO - 15:51:34: EPOCH 71: training on 523538 raw words (199261 effective words) took 1.6s, 128280 effective words/s\n",
      "INFO - 15:51:35: EPOCH 72 - PROGRESS: at 70.97% examples, 139279 words/s, in_qsize 16, out_qsize 0\n",
      "INFO - 15:51:35: EPOCH 72: training on 523538 raw words (199774 effective words) took 1.1s, 183806 effective words/s\n",
      "INFO - 15:51:36: EPOCH 73 - PROGRESS: at 43.69% examples, 86241 words/s, in_qsize 29, out_qsize 0\n",
      "INFO - 15:51:36: EPOCH 73: training on 523538 raw words (199863 effective words) took 1.2s, 169757 effective words/s\n",
      "INFO - 15:51:37: EPOCH 74 - PROGRESS: at 69.06% examples, 134786 words/s, in_qsize 17, out_qsize 0\n",
      "INFO - 15:51:37: EPOCH 74: training on 523538 raw words (199053 effective words) took 1.1s, 180209 effective words/s\n",
      "INFO - 15:51:38: EPOCH 75: training on 523538 raw words (199405 effective words) took 0.9s, 228993 effective words/s\n",
      "INFO - 15:51:39: EPOCH 76 - PROGRESS: at 65.22% examples, 126436 words/s, in_qsize 19, out_qsize 0\n",
      "INFO - 15:51:40: EPOCH 76: training on 523538 raw words (199228 effective words) took 1.1s, 178873 effective words/s\n",
      "INFO - 15:51:41: EPOCH 77 - PROGRESS: at 70.97% examples, 139281 words/s, in_qsize 16, out_qsize 0\n",
      "INFO - 15:51:41: EPOCH 77: training on 523538 raw words (199647 effective words) took 1.1s, 184816 effective words/s\n",
      "INFO - 15:51:42: EPOCH 78: training on 523538 raw words (199022 effective words) took 1.0s, 209209 effective words/s\n",
      "INFO - 15:51:43: EPOCH 79: training on 523538 raw words (199415 effective words) took 0.9s, 212173 effective words/s\n",
      "INFO - 15:51:44: EPOCH 80 - PROGRESS: at 14.84% examples, 29514 words/s, in_qsize 29, out_qsize 0\n",
      "INFO - 15:51:44: EPOCH 80: training on 523538 raw words (199190 effective words) took 1.3s, 156138 effective words/s\n",
      "INFO - 15:51:45: EPOCH 81 - PROGRESS: at 33.49% examples, 67556 words/s, in_qsize 30, out_qsize 1\n",
      "INFO - 15:51:45: EPOCH 81: training on 523538 raw words (199303 effective words) took 1.3s, 156558 effective words/s\n",
      "INFO - 15:51:46: EPOCH 82 - PROGRESS: at 39.39% examples, 76802 words/s, in_qsize 29, out_qsize 0\n",
      "INFO - 15:51:46: EPOCH 82: training on 523538 raw words (199541 effective words) took 1.2s, 165440 effective words/s\n"
     ]
    },
    {
     "name": "stderr",
     "output_type": "stream",
     "text": [
      "INFO - 15:51:48: EPOCH 83 - PROGRESS: at 35.35% examples, 68767 words/s, in_qsize 29, out_qsize 0\n",
      "INFO - 15:51:48: EPOCH 83: training on 523538 raw words (199205 effective words) took 1.2s, 164413 effective words/s\n",
      "INFO - 15:51:49: EPOCH 84: training on 523538 raw words (199246 effective words) took 1.0s, 201716 effective words/s\n",
      "INFO - 15:51:50: EPOCH 85 - PROGRESS: at 45.65% examples, 90968 words/s, in_qsize 27, out_qsize 2\n",
      "INFO - 15:51:50: EPOCH 85: training on 523538 raw words (199546 effective words) took 1.1s, 176574 effective words/s\n",
      "INFO - 15:51:51: EPOCH 86 - PROGRESS: at 9.45% examples, 18223 words/s, in_qsize 30, out_qsize 9\n",
      "INFO - 15:51:51: EPOCH 86: training on 523538 raw words (199539 effective words) took 1.3s, 154816 effective words/s\n",
      "INFO - 15:51:52: EPOCH 87 - PROGRESS: at 41.37% examples, 82020 words/s, in_qsize 29, out_qsize 0\n",
      "INFO - 15:51:52: EPOCH 87: training on 523538 raw words (199374 effective words) took 1.2s, 168779 effective words/s\n",
      "INFO - 15:51:54: EPOCH 88 - PROGRESS: at 9.28% examples, 17386 words/s, in_qsize 29, out_qsize 0\n",
      "INFO - 15:51:54: EPOCH 88: training on 523538 raw words (199874 effective words) took 1.4s, 139536 effective words/s\n",
      "INFO - 15:51:55: EPOCH 89 - PROGRESS: at 39.39% examples, 79303 words/s, in_qsize 29, out_qsize 0\n",
      "INFO - 15:51:55: EPOCH 89: training on 523538 raw words (199459 effective words) took 1.2s, 173101 effective words/s\n",
      "INFO - 15:51:56: EPOCH 90: training on 523538 raw words (199874 effective words) took 1.0s, 203747 effective words/s\n",
      "INFO - 15:51:57: EPOCH 91 - PROGRESS: at 45.42% examples, 90889 words/s, in_qsize 28, out_qsize 1\n",
      "INFO - 15:51:57: EPOCH 91: training on 523538 raw words (199558 effective words) took 1.1s, 174128 effective words/s\n",
      "INFO - 15:51:58: EPOCH 92: training on 523538 raw words (199392 effective words) took 0.9s, 216932 effective words/s\n",
      "INFO - 15:51:59: EPOCH 93 - PROGRESS: at 70.97% examples, 140488 words/s, in_qsize 16, out_qsize 0\n",
      "INFO - 15:51:59: EPOCH 93: training on 523538 raw words (199513 effective words) took 1.1s, 186589 effective words/s\n",
      "INFO - 15:52:00: EPOCH 94 - PROGRESS: at 70.97% examples, 139485 words/s, in_qsize 16, out_qsize 0\n",
      "INFO - 15:52:00: EPOCH 94: training on 523538 raw words (199218 effective words) took 1.1s, 186682 effective words/s\n",
      "INFO - 15:52:01: EPOCH 95: training on 523538 raw words (199560 effective words) took 0.9s, 215836 effective words/s\n",
      "INFO - 15:52:02: EPOCH 96 - PROGRESS: at 100.00% examples, 198832 words/s, in_qsize 0, out_qsize 1\n",
      "INFO - 15:52:02: EPOCH 96: training on 523538 raw words (199351 effective words) took 1.0s, 198612 effective words/s\n",
      "INFO - 15:52:03: EPOCH 97 - PROGRESS: at 41.54% examples, 83167 words/s, in_qsize 29, out_qsize 0\n",
      "INFO - 15:52:04: EPOCH 97: training on 523538 raw words (199743 effective words) took 1.2s, 167530 effective words/s\n",
      "INFO - 15:52:05: EPOCH 98 - PROGRESS: at 72.86% examples, 143306 words/s, in_qsize 15, out_qsize 0\n",
      "INFO - 15:52:05: EPOCH 98: training on 523538 raw words (199334 effective words) took 1.1s, 187430 effective words/s\n",
      "INFO - 15:52:06: EPOCH 99 - PROGRESS: at 43.69% examples, 83346 words/s, in_qsize 29, out_qsize 0\n",
      "INFO - 15:52:06: EPOCH 99: training on 523538 raw words (199452 effective words) took 1.2s, 166117 effective words/s\n",
      "INFO - 15:52:07: EPOCH 100 - PROGRESS: at 35.53% examples, 68323 words/s, in_qsize 29, out_qsize 0\n",
      "INFO - 15:52:07: EPOCH 100: training on 523538 raw words (199452 effective words) took 1.2s, 163978 effective words/s\n",
      "INFO - 15:52:08: EPOCH 101 - PROGRESS: at 63.32% examples, 124837 words/s, in_qsize 19, out_qsize 1\n",
      "INFO - 15:52:08: EPOCH 101: training on 523538 raw words (199144 effective words) took 1.1s, 180106 effective words/s\n",
      "INFO - 15:52:09: EPOCH 102 - PROGRESS: at 39.39% examples, 76204 words/s, in_qsize 29, out_qsize 0\n",
      "INFO - 15:52:10: EPOCH 102: training on 523538 raw words (198944 effective words) took 1.2s, 166138 effective words/s\n",
      "INFO - 15:52:11: EPOCH 103 - PROGRESS: at 69.06% examples, 136455 words/s, in_qsize 17, out_qsize 0\n",
      "INFO - 15:52:11: EPOCH 103: training on 523538 raw words (199399 effective words) took 1.1s, 181356 effective words/s\n",
      "INFO - 15:52:12: EPOCH 104: training on 523538 raw words (198773 effective words) took 1.0s, 200842 effective words/s\n",
      "INFO - 15:52:13: EPOCH 105 - PROGRESS: at 25.55% examples, 52581 words/s, in_qsize 29, out_qsize 0\n",
      "INFO - 15:52:13: EPOCH 105: training on 523538 raw words (199031 effective words) took 1.2s, 163446 effective words/s\n",
      "INFO - 15:52:14: EPOCH 106 - PROGRESS: at 7.65% examples, 14610 words/s, in_qsize 29, out_qsize 0\n",
      "INFO - 15:52:14: EPOCH 106: training on 523538 raw words (199597 effective words) took 1.4s, 145611 effective words/s\n",
      "INFO - 15:52:15: EPOCH 107 - PROGRESS: at 13.07% examples, 26369 words/s, in_qsize 29, out_qsize 0\n",
      "INFO - 15:52:16: EPOCH 107: training on 523538 raw words (199538 effective words) took 1.2s, 161625 effective words/s\n",
      "INFO - 15:52:17: EPOCH 108 - PROGRESS: at 37.26% examples, 75775 words/s, in_qsize 29, out_qsize 0\n",
      "INFO - 15:52:17: EPOCH 108: training on 523538 raw words (199919 effective words) took 1.2s, 171186 effective words/s\n",
      "INFO - 15:52:18: EPOCH 109 - PROGRESS: at 37.33% examples, 71786 words/s, in_qsize 29, out_qsize 0\n",
      "INFO - 15:52:18: EPOCH 109: training on 523538 raw words (199453 effective words) took 1.2s, 162737 effective words/s\n",
      "INFO - 15:52:19: EPOCH 110 - PROGRESS: at 92.54% examples, 183161 words/s, in_qsize 4, out_qsize 1\n",
      "INFO - 15:52:19: EPOCH 110: training on 523538 raw words (199234 effective words) took 1.0s, 193398 effective words/s\n",
      "INFO - 15:52:20: EPOCH 111 - PROGRESS: at 43.69% examples, 85043 words/s, in_qsize 29, out_qsize 0\n",
      "INFO - 15:52:20: EPOCH 111: training on 523538 raw words (199404 effective words) took 1.2s, 170729 effective words/s\n",
      "INFO - 15:52:21: EPOCH 112: training on 523538 raw words (199586 effective words) took 1.0s, 201908 effective words/s\n",
      "INFO - 15:52:22: EPOCH 113 - PROGRESS: at 9.28% examples, 17821 words/s, in_qsize 29, out_qsize 0\n",
      "INFO - 15:52:23: EPOCH 113: training on 523538 raw words (199444 effective words) took 1.4s, 146100 effective words/s\n",
      "INFO - 15:52:24: EPOCH 114 - PROGRESS: at 13.07% examples, 26358 words/s, in_qsize 29, out_qsize 0\n",
      "INFO - 15:52:24: EPOCH 114: training on 523538 raw words (199331 effective words) took 1.3s, 157781 effective words/s\n",
      "INFO - 15:52:25: EPOCH 115 - PROGRESS: at 65.22% examples, 127912 words/s, in_qsize 19, out_qsize 0\n",
      "INFO - 15:52:25: EPOCH 115: training on 523538 raw words (199402 effective words) took 1.1s, 182328 effective words/s\n",
      "INFO - 15:52:26: EPOCH 116 - PROGRESS: at 41.54% examples, 83482 words/s, in_qsize 29, out_qsize 0\n",
      "INFO - 15:52:26: EPOCH 116: training on 523538 raw words (199971 effective words) took 1.2s, 172805 effective words/s\n",
      "INFO - 15:52:27: EPOCH 117 - PROGRESS: at 47.55% examples, 94473 words/s, in_qsize 27, out_qsize 1\n",
      "INFO - 15:52:27: EPOCH 117: training on 523538 raw words (199454 effective words) took 1.1s, 177820 effective words/s\n",
      "INFO - 15:52:28: EPOCH 118: training on 523538 raw words (199350 effective words) took 0.9s, 218214 effective words/s\n",
      "INFO - 15:52:29: EPOCH 119 - PROGRESS: at 72.86% examples, 144742 words/s, in_qsize 15, out_qsize 0\n",
      "INFO - 15:52:29: EPOCH 119: training on 523538 raw words (199449 effective words) took 1.1s, 188446 effective words/s\n",
      "INFO - 15:52:30: EPOCH 120: training on 523538 raw words (199594 effective words) took 1.0s, 206305 effective words/s\n",
      "INFO - 15:52:31: EPOCH 121 - PROGRESS: at 69.06% examples, 133388 words/s, in_qsize 17, out_qsize 0\n",
      "INFO - 15:52:32: EPOCH 121: training on 523538 raw words (199182 effective words) took 1.1s, 180734 effective words/s\n",
      "INFO - 15:52:33: EPOCH 122 - PROGRESS: at 49.55% examples, 98137 words/s, in_qsize 26, out_qsize 1\n",
      "INFO - 15:52:33: EPOCH 122: training on 523538 raw words (199464 effective words) took 1.1s, 175495 effective words/s\n",
      "INFO - 15:52:34: EPOCH 123: training on 523538 raw words (199959 effective words) took 1.0s, 206652 effective words/s\n",
      "INFO - 15:52:35: EPOCH 124 - PROGRESS: at 41.54% examples, 82377 words/s, in_qsize 29, out_qsize 0\n",
      "INFO - 15:52:35: EPOCH 124: training on 523538 raw words (199258 effective words) took 1.2s, 172151 effective words/s\n"
     ]
    },
    {
     "name": "stderr",
     "output_type": "stream",
     "text": [
      "INFO - 15:52:36: EPOCH 125 - PROGRESS: at 69.06% examples, 135388 words/s, in_qsize 17, out_qsize 0\n",
      "INFO - 15:52:36: EPOCH 125: training on 523538 raw words (199265 effective words) took 1.1s, 182242 effective words/s\n",
      "INFO - 15:52:37: EPOCH 126: training on 523538 raw words (199564 effective words) took 0.9s, 212404 effective words/s\n",
      "INFO - 15:52:38: EPOCH 127 - PROGRESS: at 67.16% examples, 132569 words/s, in_qsize 17, out_qsize 1\n",
      "INFO - 15:52:38: EPOCH 127: training on 523538 raw words (199463 effective words) took 1.1s, 181046 effective words/s\n",
      "INFO - 15:52:39: EPOCH 128 - PROGRESS: at 39.36% examples, 78408 words/s, in_qsize 29, out_qsize 0\n",
      "INFO - 15:52:39: EPOCH 128: training on 523538 raw words (199544 effective words) took 1.2s, 169489 effective words/s\n",
      "INFO - 15:52:40: EPOCH 129 - PROGRESS: at 18.35% examples, 36281 words/s, in_qsize 29, out_qsize 0\n",
      "INFO - 15:52:41: EPOCH 129: training on 523538 raw words (199395 effective words) took 1.3s, 156330 effective words/s\n",
      "INFO - 15:52:42: EPOCH 130 - PROGRESS: at 13.09% examples, 25991 words/s, in_qsize 29, out_qsize 0\n",
      "INFO - 15:52:42: EPOCH 130: training on 523538 raw words (199225 effective words) took 1.3s, 157823 effective words/s\n",
      "INFO - 15:52:43: EPOCH 131: training on 523538 raw words (199463 effective words) took 1.0s, 202913 effective words/s\n",
      "INFO - 15:52:44: EPOCH 132 - PROGRESS: at 72.86% examples, 142103 words/s, in_qsize 15, out_qsize 0\n",
      "INFO - 15:52:44: EPOCH 132: training on 523538 raw words (199402 effective words) took 1.1s, 187153 effective words/s\n",
      "INFO - 15:52:45: EPOCH 133 - PROGRESS: at 41.54% examples, 81927 words/s, in_qsize 29, out_qsize 0\n",
      "INFO - 15:52:45: EPOCH 133: training on 523538 raw words (199311 effective words) took 1.2s, 172949 effective words/s\n",
      "INFO - 15:52:46: EPOCH 134: training on 523538 raw words (199648 effective words) took 0.9s, 213411 effective words/s\n",
      "INFO - 15:52:47: EPOCH 135 - PROGRESS: at 39.56% examples, 79390 words/s, in_qsize 29, out_qsize 0\n",
      "INFO - 15:52:47: EPOCH 135: training on 523538 raw words (199432 effective words) took 1.1s, 173459 effective words/s\n",
      "INFO - 15:52:48: EPOCH 136: training on 523538 raw words (199089 effective words) took 1.0s, 200594 effective words/s\n",
      "INFO - 15:52:49: EPOCH 137 - PROGRESS: at 55.24% examples, 110433 words/s, in_qsize 21, out_qsize 3\n",
      "INFO - 15:52:49: EPOCH 137: training on 523538 raw words (199865 effective words) took 1.1s, 178874 effective words/s\n",
      "INFO - 15:52:50: EPOCH 138 - PROGRESS: at 65.22% examples, 128546 words/s, in_qsize 19, out_qsize 0\n",
      "INFO - 15:52:51: EPOCH 138: training on 523538 raw words (199344 effective words) took 1.1s, 180387 effective words/s\n",
      "INFO - 15:52:52: EPOCH 139: training on 523538 raw words (199431 effective words) took 1.0s, 209817 effective words/s\n",
      "INFO - 15:52:53: EPOCH 140 - PROGRESS: at 59.46% examples, 116546 words/s, in_qsize 22, out_qsize 0\n",
      "INFO - 15:52:53: EPOCH 140: training on 523538 raw words (199643 effective words) took 1.1s, 179997 effective words/s\n",
      "INFO - 15:52:54: EPOCH 141 - PROGRESS: at 39.27% examples, 76472 words/s, in_qsize 28, out_qsize 1\n",
      "INFO - 15:52:54: EPOCH 141: training on 523538 raw words (199183 effective words) took 1.2s, 165540 effective words/s\n",
      "INFO - 15:52:55: EPOCH 142 - PROGRESS: at 69.06% examples, 137169 words/s, in_qsize 17, out_qsize 0\n",
      "INFO - 15:52:55: EPOCH 142: training on 523538 raw words (199765 effective words) took 1.1s, 183730 effective words/s\n",
      "INFO - 15:52:56: EPOCH 143 - PROGRESS: at 22.00% examples, 45209 words/s, in_qsize 29, out_qsize 0\n",
      "INFO - 15:52:56: EPOCH 143: training on 523538 raw words (199176 effective words) took 1.2s, 162905 effective words/s\n",
      "INFO - 15:52:57: EPOCH 144 - PROGRESS: at 61.41% examples, 121640 words/s, in_qsize 19, out_qsize 2\n",
      "INFO - 15:52:57: EPOCH 144: training on 523538 raw words (199275 effective words) took 1.1s, 175094 effective words/s\n",
      "INFO - 15:52:58: EPOCH 145 - PROGRESS: at 51.19% examples, 102586 words/s, in_qsize 25, out_qsize 1\n",
      "INFO - 15:52:59: EPOCH 145: training on 523538 raw words (199423 effective words) took 1.1s, 176786 effective words/s\n",
      "INFO - 15:53:00: EPOCH 146 - PROGRESS: at 72.86% examples, 142706 words/s, in_qsize 15, out_qsize 0\n",
      "INFO - 15:53:00: EPOCH 146: training on 523538 raw words (199345 effective words) took 1.1s, 187906 effective words/s\n",
      "INFO - 15:53:01: EPOCH 147: training on 523538 raw words (199069 effective words) took 1.0s, 200550 effective words/s\n",
      "INFO - 15:53:02: EPOCH 148 - PROGRESS: at 72.86% examples, 144065 words/s, in_qsize 15, out_qsize 0\n",
      "INFO - 15:53:02: EPOCH 148: training on 523538 raw words (199339 effective words) took 1.1s, 187177 effective words/s\n",
      "INFO - 15:53:03: EPOCH 149 - PROGRESS: at 65.22% examples, 126994 words/s, in_qsize 19, out_qsize 0\n",
      "INFO - 15:53:03: EPOCH 149: training on 523538 raw words (199723 effective words) took 1.1s, 181808 effective words/s\n",
      "INFO - 15:53:04: EPOCH 150 - PROGRESS: at 69.06% examples, 136307 words/s, in_qsize 17, out_qsize 0\n",
      "INFO - 15:53:04: EPOCH 150: training on 523538 raw words (199277 effective words) took 1.1s, 185792 effective words/s\n",
      "INFO - 15:53:05: EPOCH 151 - PROGRESS: at 18.47% examples, 37112 words/s, in_qsize 29, out_qsize 0\n",
      "INFO - 15:53:05: EPOCH 151: training on 523538 raw words (199261 effective words) took 1.2s, 160096 effective words/s\n",
      "INFO - 15:53:06: EPOCH 152: training on 523538 raw words (198784 effective words) took 0.9s, 212208 effective words/s\n",
      "INFO - 15:53:07: EPOCH 153 - PROGRESS: at 78.54% examples, 155934 words/s, in_qsize 11, out_qsize 3\n",
      "INFO - 15:53:07: EPOCH 153: training on 523538 raw words (199131 effective words) took 1.1s, 186549 effective words/s\n",
      "INFO - 15:53:08: EPOCH 154 - PROGRESS: at 72.86% examples, 140251 words/s, in_qsize 15, out_qsize 0\n",
      "INFO - 15:53:08: EPOCH 154: training on 523538 raw words (199286 effective words) took 1.1s, 183370 effective words/s\n",
      "INFO - 15:53:09: EPOCH 155: training on 523538 raw words (199457 effective words) took 0.9s, 227408 effective words/s\n",
      "INFO - 15:53:10: EPOCH 156 - PROGRESS: at 37.41% examples, 74429 words/s, in_qsize 30, out_qsize 0\n",
      "INFO - 15:53:11: EPOCH 156: training on 523538 raw words (199425 effective words) took 1.2s, 162363 effective words/s\n",
      "INFO - 15:53:12: EPOCH 157 - PROGRESS: at 27.72% examples, 56318 words/s, in_qsize 25, out_qsize 5\n",
      "INFO - 15:53:12: EPOCH 157: training on 523538 raw words (199043 effective words) took 1.2s, 162700 effective words/s\n",
      "INFO - 15:53:13: EPOCH 158 - PROGRESS: at 69.06% examples, 135218 words/s, in_qsize 17, out_qsize 0\n",
      "INFO - 15:53:13: EPOCH 158: training on 523538 raw words (199493 effective words) took 1.1s, 182531 effective words/s\n",
      "INFO - 15:53:14: EPOCH 159 - PROGRESS: at 35.44% examples, 69602 words/s, in_qsize 29, out_qsize 0\n",
      "INFO - 15:53:14: EPOCH 159: training on 523538 raw words (199688 effective words) took 1.2s, 167835 effective words/s\n",
      "INFO - 15:53:15: EPOCH 160: training on 523538 raw words (199501 effective words) took 0.9s, 220236 effective words/s\n",
      "INFO - 15:53:16: EPOCH 161 - PROGRESS: at 9.45% examples, 17587 words/s, in_qsize 30, out_qsize 0\n",
      "INFO - 15:53:17: EPOCH 161: training on 523538 raw words (199554 effective words) took 1.5s, 136660 effective words/s\n",
      "INFO - 15:53:18: EPOCH 162 - PROGRESS: at 69.06% examples, 135623 words/s, in_qsize 17, out_qsize 0\n",
      "INFO - 15:53:18: EPOCH 162: training on 523538 raw words (199892 effective words) took 1.1s, 184879 effective words/s\n",
      "INFO - 15:53:19: EPOCH 163: training on 523538 raw words (199376 effective words) took 0.9s, 230391 effective words/s\n",
      "INFO - 15:53:20: EPOCH 164 - PROGRESS: at 80.41% examples, 159809 words/s, in_qsize 11, out_qsize 1\n",
      "INFO - 15:53:20: EPOCH 164: training on 523538 raw words (199562 effective words) took 1.0s, 192452 effective words/s\n",
      "INFO - 15:53:21: EPOCH 165 - PROGRESS: at 72.86% examples, 144249 words/s, in_qsize 15, out_qsize 0\n",
      "INFO - 15:53:21: EPOCH 165: training on 523538 raw words (199422 effective words) took 1.0s, 190180 effective words/s\n",
      "INFO - 15:53:22: EPOCH 166: training on 523538 raw words (199699 effective words) took 0.9s, 228846 effective words/s\n",
      "INFO - 15:53:23: EPOCH 167 - PROGRESS: at 74.74% examples, 148235 words/s, in_qsize 14, out_qsize 1\n",
      "INFO - 15:53:23: EPOCH 167: training on 523538 raw words (199102 effective words) took 1.1s, 189062 effective words/s\n"
     ]
    },
    {
     "name": "stderr",
     "output_type": "stream",
     "text": [
      "INFO - 15:53:24: EPOCH 168 - PROGRESS: at 96.36% examples, 189370 words/s, in_qsize 2, out_qsize 1\n",
      "INFO - 15:53:24: EPOCH 168: training on 523538 raw words (199303 effective words) took 1.0s, 194862 effective words/s\n",
      "INFO - 15:53:25: EPOCH 169: training on 523538 raw words (199226 effective words) took 0.9s, 215811 effective words/s\n",
      "INFO - 15:53:26: EPOCH 170 - PROGRESS: at 49.86% examples, 97986 words/s, in_qsize 27, out_qsize 0\n",
      "INFO - 15:53:26: EPOCH 170: training on 523538 raw words (199078 effective words) took 1.1s, 176336 effective words/s\n",
      "INFO - 15:53:27: EPOCH 171 - PROGRESS: at 72.86% examples, 143744 words/s, in_qsize 15, out_qsize 0\n",
      "INFO - 15:53:27: EPOCH 171: training on 523538 raw words (199879 effective words) took 1.1s, 185067 effective words/s\n",
      "INFO - 15:53:28: EPOCH 172 - PROGRESS: at 37.33% examples, 74502 words/s, in_qsize 29, out_qsize 0\n",
      "INFO - 15:53:28: EPOCH 172: training on 523538 raw words (199306 effective words) took 1.2s, 165500 effective words/s\n",
      "INFO - 15:53:29: EPOCH 173 - PROGRESS: at 41.54% examples, 82556 words/s, in_qsize 29, out_qsize 0\n",
      "INFO - 15:53:29: EPOCH 173: training on 523538 raw words (199766 effective words) took 1.2s, 172229 effective words/s\n",
      "INFO - 15:53:30: EPOCH 174: training on 523538 raw words (199852 effective words) took 1.0s, 205733 effective words/s\n",
      "INFO - 15:53:31: EPOCH 175 - PROGRESS: at 53.71% examples, 106341 words/s, in_qsize 25, out_qsize 0\n",
      "INFO - 15:53:32: EPOCH 175: training on 523538 raw words (199821 effective words) took 1.1s, 180244 effective words/s\n",
      "INFO - 15:53:33: EPOCH 176: training on 523538 raw words (199539 effective words) took 0.9s, 226134 effective words/s\n",
      "INFO - 15:53:34: EPOCH 177 - PROGRESS: at 69.06% examples, 133715 words/s, in_qsize 17, out_qsize 0\n",
      "INFO - 15:53:34: EPOCH 177: training on 523538 raw words (199408 effective words) took 1.1s, 182120 effective words/s\n",
      "INFO - 15:53:35: EPOCH 178 - PROGRESS: at 67.19% examples, 130762 words/s, in_qsize 18, out_qsize 0\n",
      "INFO - 15:53:35: EPOCH 178: training on 523538 raw words (199089 effective words) took 1.1s, 183128 effective words/s\n",
      "INFO - 15:53:36: EPOCH 179: training on 523538 raw words (199281 effective words) took 1.0s, 200974 effective words/s\n",
      "INFO - 15:53:37: EPOCH 180 - PROGRESS: at 41.63% examples, 82396 words/s, in_qsize 29, out_qsize 0\n",
      "INFO - 15:53:37: EPOCH 180: training on 523538 raw words (198907 effective words) took 1.1s, 174492 effective words/s\n",
      "INFO - 15:53:38: EPOCH 181 - PROGRESS: at 41.53% examples, 82809 words/s, in_qsize 29, out_qsize 0\n",
      "INFO - 15:53:38: EPOCH 181: training on 523538 raw words (199601 effective words) took 1.2s, 172786 effective words/s\n",
      "INFO - 15:53:39: EPOCH 182 - PROGRESS: at 96.36% examples, 191539 words/s, in_qsize 2, out_qsize 1\n",
      "INFO - 15:53:39: EPOCH 182: training on 523538 raw words (199647 effective words) took 1.0s, 197386 effective words/s\n",
      "INFO - 15:53:40: EPOCH 183 - PROGRESS: at 39.39% examples, 77068 words/s, in_qsize 29, out_qsize 0\n",
      "INFO - 15:53:40: EPOCH 183: training on 523538 raw words (199680 effective words) took 1.2s, 166694 effective words/s\n",
      "INFO - 15:53:41: EPOCH 184 - PROGRESS: at 47.69% examples, 94407 words/s, in_qsize 27, out_qsize 1\n",
      "INFO - 15:53:42: EPOCH 184: training on 523538 raw words (199352 effective words) took 1.1s, 179907 effective words/s\n",
      "INFO - 15:53:43: EPOCH 185 - PROGRESS: at 88.79% examples, 176989 words/s, in_qsize 6, out_qsize 1\n",
      "INFO - 15:53:43: EPOCH 185: training on 523538 raw words (199925 effective words) took 1.0s, 197430 effective words/s\n",
      "INFO - 15:53:44: EPOCH 186 - PROGRESS: at 41.54% examples, 83239 words/s, in_qsize 29, out_qsize 0\n",
      "INFO - 15:53:44: EPOCH 186: training on 523538 raw words (199833 effective words) took 1.2s, 172680 effective words/s\n",
      "INFO - 15:53:45: EPOCH 187 - PROGRESS: at 82.30% examples, 163658 words/s, in_qsize 10, out_qsize 1\n",
      "INFO - 15:53:45: EPOCH 187: training on 523538 raw words (199439 effective words) took 1.0s, 192840 effective words/s\n",
      "INFO - 15:53:46: EPOCH 188 - PROGRESS: at 41.37% examples, 83256 words/s, in_qsize 29, out_qsize 0\n",
      "INFO - 15:53:46: EPOCH 188: training on 523538 raw words (199265 effective words) took 1.1s, 174953 effective words/s\n",
      "INFO - 15:53:47: EPOCH 189 - PROGRESS: at 43.69% examples, 83458 words/s, in_qsize 29, out_qsize 0\n",
      "INFO - 15:53:47: EPOCH 189: training on 523538 raw words (199584 effective words) took 1.2s, 168355 effective words/s\n",
      "INFO - 15:53:48: EPOCH 190 - PROGRESS: at 94.38% examples, 187702 words/s, in_qsize 3, out_qsize 1\n",
      "INFO - 15:53:48: EPOCH 190: training on 523538 raw words (199006 effective words) took 1.0s, 197907 effective words/s\n",
      "INFO - 15:53:49: EPOCH 191 - PROGRESS: at 41.63% examples, 83072 words/s, in_qsize 28, out_qsize 1\n",
      "INFO - 15:53:49: EPOCH 191: training on 523538 raw words (199644 effective words) took 1.2s, 173338 effective words/s\n",
      "INFO - 15:53:50: EPOCH 192 - PROGRESS: at 67.19% examples, 131326 words/s, in_qsize 18, out_qsize 0\n",
      "INFO - 15:53:50: EPOCH 192: training on 523538 raw words (199220 effective words) took 1.1s, 181157 effective words/s\n",
      "INFO - 15:53:51: EPOCH 193: training on 523538 raw words (199554 effective words) took 1.0s, 208703 effective words/s\n",
      "INFO - 15:53:53: EPOCH 194 - PROGRESS: at 33.55% examples, 64174 words/s, in_qsize 29, out_qsize 0\n",
      "INFO - 15:53:53: EPOCH 194: training on 523538 raw words (198903 effective words) took 1.2s, 162006 effective words/s\n",
      "INFO - 15:53:54: EPOCH 195 - PROGRESS: at 69.06% examples, 134296 words/s, in_qsize 17, out_qsize 0\n",
      "INFO - 15:53:54: EPOCH 195: training on 523538 raw words (199218 effective words) took 1.1s, 179245 effective words/s\n",
      "INFO - 15:53:55: EPOCH 196: training on 523538 raw words (199366 effective words) took 1.0s, 201916 effective words/s\n",
      "INFO - 15:53:56: EPOCH 197 - PROGRESS: at 43.52% examples, 86950 words/s, in_qsize 27, out_qsize 2\n",
      "INFO - 15:53:56: EPOCH 197: training on 523538 raw words (198926 effective words) took 1.1s, 175021 effective words/s\n",
      "INFO - 15:53:57: EPOCH 198 - PROGRESS: at 39.39% examples, 78870 words/s, in_qsize 29, out_qsize 0\n",
      "INFO - 15:53:57: EPOCH 198: training on 523538 raw words (199604 effective words) took 1.2s, 170819 effective words/s\n",
      "INFO - 15:53:58: EPOCH 199 - PROGRESS: at 67.10% examples, 128783 words/s, in_qsize 18, out_qsize 0\n",
      "INFO - 15:53:58: EPOCH 199: training on 523538 raw words (199583 effective words) took 1.1s, 179405 effective words/s\n",
      "INFO - 15:53:59: EPOCH 200 - PROGRESS: at 35.35% examples, 71893 words/s, in_qsize 30, out_qsize 0\n",
      "INFO - 15:54:00: EPOCH 200: training on 523538 raw words (199608 effective words) took 1.2s, 162548 effective words/s\n",
      "INFO - 15:54:01: EPOCH 201 - PROGRESS: at 74.74% examples, 148270 words/s, in_qsize 14, out_qsize 1\n",
      "INFO - 15:54:01: EPOCH 201: training on 523538 raw words (199530 effective words) took 1.1s, 186447 effective words/s\n",
      "INFO - 15:54:02: EPOCH 202 - PROGRESS: at 45.83% examples, 89318 words/s, in_qsize 29, out_qsize 0\n",
      "INFO - 15:54:02: EPOCH 202: training on 523538 raw words (199392 effective words) took 1.2s, 173364 effective words/s\n",
      "INFO - 15:54:03: EPOCH 203 - PROGRESS: at 45.83% examples, 90067 words/s, in_qsize 29, out_qsize 0\n",
      "INFO - 15:54:03: EPOCH 203: training on 523538 raw words (199355 effective words) took 1.2s, 173203 effective words/s\n",
      "INFO - 15:54:04: EPOCH 204 - PROGRESS: at 41.25% examples, 83572 words/s, in_qsize 29, out_qsize 0\n",
      "INFO - 15:54:04: EPOCH 204: training on 523538 raw words (199661 effective words) took 1.1s, 174213 effective words/s\n",
      "INFO - 15:54:05: EPOCH 205: training on 523538 raw words (199606 effective words) took 0.9s, 227911 effective words/s\n",
      "INFO - 15:54:06: EPOCH 206 - PROGRESS: at 39.55% examples, 76083 words/s, in_qsize 29, out_qsize 0\n",
      "INFO - 15:54:06: EPOCH 206: training on 523538 raw words (199449 effective words) took 1.2s, 166070 effective words/s\n",
      "INFO - 15:54:07: EPOCH 207 - PROGRESS: at 23.98% examples, 48936 words/s, in_qsize 23, out_qsize 6\n",
      "INFO - 15:54:08: EPOCH 207: training on 523538 raw words (199545 effective words) took 1.2s, 163748 effective words/s\n",
      "INFO - 15:54:09: EPOCH 208 - PROGRESS: at 67.19% examples, 130852 words/s, in_qsize 18, out_qsize 0\n",
      "INFO - 15:54:09: EPOCH 208: training on 523538 raw words (199245 effective words) took 1.1s, 180231 effective words/s\n"
     ]
    },
    {
     "name": "stderr",
     "output_type": "stream",
     "text": [
      "INFO - 15:54:10: EPOCH 209 - PROGRESS: at 59.39% examples, 116198 words/s, in_qsize 21, out_qsize 1\n",
      "INFO - 15:54:10: EPOCH 209: training on 523538 raw words (199444 effective words) took 1.1s, 177961 effective words/s\n",
      "INFO - 15:54:11: EPOCH 210 - PROGRESS: at 39.39% examples, 76067 words/s, in_qsize 29, out_qsize 0\n",
      "INFO - 15:54:11: EPOCH 210: training on 523538 raw words (199389 effective words) took 1.2s, 167554 effective words/s\n",
      "INFO - 15:54:12: EPOCH 211 - PROGRESS: at 37.41% examples, 74196 words/s, in_qsize 29, out_qsize 0\n",
      "INFO - 15:54:12: EPOCH 211: training on 523538 raw words (199331 effective words) took 1.2s, 169498 effective words/s\n",
      "INFO - 15:54:13: EPOCH 212: training on 523538 raw words (199347 effective words) took 1.0s, 206313 effective words/s\n",
      "INFO - 15:54:14: EPOCH 213 - PROGRESS: at 41.54% examples, 82316 words/s, in_qsize 29, out_qsize 0\n",
      "INFO - 15:54:15: EPOCH 213: training on 523538 raw words (199730 effective words) took 1.2s, 170574 effective words/s\n",
      "INFO - 15:54:16: EPOCH 214 - PROGRESS: at 47.89% examples, 92635 words/s, in_qsize 28, out_qsize 0\n",
      "INFO - 15:54:16: EPOCH 214: training on 523538 raw words (199576 effective words) took 1.2s, 171726 effective words/s\n",
      "INFO - 15:54:17: EPOCH 215 - PROGRESS: at 67.19% examples, 129628 words/s, in_qsize 18, out_qsize 0\n",
      "INFO - 15:54:17: EPOCH 215: training on 523538 raw words (199585 effective words) took 1.1s, 178082 effective words/s\n",
      "INFO - 15:54:18: EPOCH 216 - PROGRESS: at 9.45% examples, 16845 words/s, in_qsize 29, out_qsize 0\n",
      "INFO - 15:54:18: EPOCH 216: training on 523538 raw words (199240 effective words) took 1.5s, 135698 effective words/s\n",
      "INFO - 15:54:19: EPOCH 217 - PROGRESS: at 35.35% examples, 69939 words/s, in_qsize 29, out_qsize 0\n",
      "INFO - 15:54:20: EPOCH 217: training on 523538 raw words (199617 effective words) took 1.2s, 163278 effective words/s\n",
      "INFO - 15:54:21: EPOCH 218: training on 523538 raw words (199222 effective words) took 0.9s, 230127 effective words/s\n",
      "INFO - 15:54:22: EPOCH 219 - PROGRESS: at 37.41% examples, 73604 words/s, in_qsize 29, out_qsize 0\n",
      "INFO - 15:54:22: EPOCH 219: training on 523538 raw words (199538 effective words) took 1.2s, 162879 effective words/s\n",
      "INFO - 15:54:23: EPOCH 220 - PROGRESS: at 39.56% examples, 77736 words/s, in_qsize 29, out_qsize 0\n",
      "INFO - 15:54:23: EPOCH 220: training on 523538 raw words (199533 effective words) took 1.2s, 169529 effective words/s\n",
      "INFO - 15:54:24: EPOCH 221 - PROGRESS: at 100.00% examples, 197138 words/s, in_qsize 0, out_qsize 1\n",
      "INFO - 15:54:24: EPOCH 221: training on 523538 raw words (199380 effective words) took 1.0s, 196898 effective words/s\n",
      "INFO - 15:54:25: EPOCH 222 - PROGRESS: at 67.19% examples, 128888 words/s, in_qsize 18, out_qsize 0\n",
      "INFO - 15:54:25: EPOCH 222: training on 523538 raw words (199021 effective words) took 1.1s, 179614 effective words/s\n",
      "INFO - 15:54:26: EPOCH 223 - PROGRESS: at 35.44% examples, 71263 words/s, in_qsize 29, out_qsize 0\n",
      "INFO - 15:54:26: EPOCH 223: training on 523538 raw words (199514 effective words) took 1.2s, 169816 effective words/s\n",
      "INFO - 15:54:27: EPOCH 224 - PROGRESS: at 100.00% examples, 199072 words/s, in_qsize 0, out_qsize 1\n",
      "INFO - 15:54:27: EPOCH 224: training on 523538 raw words (199233 effective words) took 1.0s, 198821 effective words/s\n",
      "INFO - 15:54:28: EPOCH 225 - PROGRESS: at 45.52% examples, 90646 words/s, in_qsize 29, out_qsize 0\n",
      "INFO - 15:54:29: EPOCH 225: training on 523538 raw words (199607 effective words) took 1.1s, 174844 effective words/s\n",
      "INFO - 15:54:29: EPOCH 226: training on 523538 raw words (199372 effective words) took 0.9s, 209959 effective words/s\n",
      "INFO - 15:54:31: EPOCH 227 - PROGRESS: at 39.39% examples, 77945 words/s, in_qsize 29, out_qsize 0\n",
      "INFO - 15:54:31: EPOCH 227: training on 523538 raw words (198940 effective words) took 1.2s, 165969 effective words/s\n",
      "INFO - 15:54:32: EPOCH 228 - PROGRESS: at 9.27% examples, 18632 words/s, in_qsize 29, out_qsize 10\n",
      "INFO - 15:54:32: EPOCH 228: training on 523538 raw words (199740 effective words) took 1.3s, 159602 effective words/s\n",
      "INFO - 15:54:33: EPOCH 229 - PROGRESS: at 69.06% examples, 136744 words/s, in_qsize 17, out_qsize 0\n",
      "INFO - 15:54:33: EPOCH 229: training on 523538 raw words (199106 effective words) took 1.1s, 183031 effective words/s\n",
      "INFO - 15:54:34: EPOCH 230 - PROGRESS: at 41.54% examples, 83060 words/s, in_qsize 29, out_qsize 0\n",
      "INFO - 15:54:34: EPOCH 230: training on 523538 raw words (199408 effective words) took 1.2s, 172983 effective words/s\n",
      "INFO - 15:54:35: EPOCH 231 - PROGRESS: at 49.52% examples, 98653 words/s, in_qsize 27, out_qsize 0\n",
      "INFO - 15:54:35: EPOCH 231: training on 523538 raw words (199409 effective words) took 1.1s, 177878 effective words/s\n",
      "INFO - 15:54:36: EPOCH 232: training on 523538 raw words (199448 effective words) took 0.9s, 214843 effective words/s\n",
      "INFO - 15:54:37: EPOCH 233 - PROGRESS: at 69.06% examples, 135013 words/s, in_qsize 17, out_qsize 0\n",
      "INFO - 15:54:37: EPOCH 233: training on 523538 raw words (199679 effective words) took 1.1s, 182418 effective words/s\n",
      "INFO - 15:54:38: EPOCH 234: training on 523538 raw words (199486 effective words) took 0.9s, 214600 effective words/s\n",
      "INFO - 15:54:40: EPOCH 235 - PROGRESS: at 18.56% examples, 35977 words/s, in_qsize 30, out_qsize 6\n",
      "INFO - 15:54:40: EPOCH 235: training on 523538 raw words (199602 effective words) took 1.3s, 150711 effective words/s\n",
      "INFO - 15:54:41: EPOCH 236 - PROGRESS: at 37.41% examples, 72403 words/s, in_qsize 29, out_qsize 0\n",
      "INFO - 15:54:41: EPOCH 236: training on 523538 raw words (199401 effective words) took 1.2s, 164481 effective words/s\n",
      "INFO - 15:54:42: EPOCH 237: training on 523538 raw words (199479 effective words) took 1.0s, 208000 effective words/s\n",
      "INFO - 15:54:43: EPOCH 238 - PROGRESS: at 67.10% examples, 130885 words/s, in_qsize 18, out_qsize 0\n",
      "INFO - 15:54:43: EPOCH 238: training on 523538 raw words (199321 effective words) took 1.1s, 181608 effective words/s\n",
      "INFO - 15:54:44: EPOCH 239 - PROGRESS: at 67.19% examples, 132603 words/s, in_qsize 18, out_qsize 0\n",
      "INFO - 15:54:44: EPOCH 239: training on 523538 raw words (199501 effective words) took 1.1s, 180981 effective words/s\n",
      "INFO - 15:54:45: EPOCH 240: training on 523538 raw words (199606 effective words) took 0.9s, 216629 effective words/s\n",
      "INFO - 15:54:46: EPOCH 241 - PROGRESS: at 11.23% examples, 21971 words/s, in_qsize 27, out_qsize 11\n",
      "INFO - 15:54:47: EPOCH 241: training on 523538 raw words (199601 effective words) took 1.3s, 149339 effective words/s\n",
      "INFO - 15:54:48: EPOCH 242 - PROGRESS: at 21.86% examples, 44347 words/s, in_qsize 30, out_qsize 7\n",
      "INFO - 15:54:48: EPOCH 242: training on 523538 raw words (199438 effective words) took 1.3s, 157113 effective words/s\n",
      "INFO - 15:54:49: EPOCH 243 - PROGRESS: at 59.45% examples, 117688 words/s, in_qsize 21, out_qsize 1\n",
      "INFO - 15:54:49: EPOCH 243: training on 523538 raw words (199476 effective words) took 1.1s, 175986 effective words/s\n",
      "INFO - 15:54:50: EPOCH 244 - PROGRESS: at 37.26% examples, 71660 words/s, in_qsize 28, out_qsize 1\n",
      "INFO - 15:54:50: EPOCH 244: training on 523538 raw words (199401 effective words) took 1.2s, 165673 effective words/s\n",
      "INFO - 15:54:51: EPOCH 245 - PROGRESS: at 70.97% examples, 139375 words/s, in_qsize 16, out_qsize 0\n",
      "INFO - 15:54:51: EPOCH 245: training on 523538 raw words (199823 effective words) took 1.1s, 185735 effective words/s\n",
      "INFO - 15:54:52: EPOCH 246: training on 523538 raw words (199661 effective words) took 0.9s, 210352 effective words/s\n",
      "INFO - 15:54:53: EPOCH 247 - PROGRESS: at 69.06% examples, 130756 words/s, in_qsize 17, out_qsize 0\n",
      "INFO - 15:54:53: EPOCH 247: training on 523538 raw words (199595 effective words) took 1.1s, 177292 effective words/s\n",
      "INFO - 15:54:55: EPOCH 248 - PROGRESS: at 96.36% examples, 190217 words/s, in_qsize 2, out_qsize 1\n",
      "INFO - 15:54:55: EPOCH 248: training on 523538 raw words (199045 effective words) took 1.0s, 193318 effective words/s\n",
      "INFO - 15:54:56: EPOCH 249 - PROGRESS: at 39.55% examples, 76267 words/s, in_qsize 29, out_qsize 0\n",
      "INFO - 15:54:56: EPOCH 249: training on 523538 raw words (199697 effective words) took 1.2s, 168153 effective words/s\n",
      "INFO - 15:54:57: EPOCH 250 - PROGRESS: at 35.35% examples, 71671 words/s, in_qsize 29, out_qsize 0\n"
     ]
    },
    {
     "name": "stderr",
     "output_type": "stream",
     "text": [
      "INFO - 15:54:57: EPOCH 250: training on 523538 raw words (199462 effective words) took 1.2s, 161428 effective words/s\n",
      "INFO - 15:54:58: EPOCH 251: training on 523538 raw words (199291 effective words) took 0.9s, 210401 effective words/s\n",
      "INFO - 15:54:59: EPOCH 252 - PROGRESS: at 45.63% examples, 90754 words/s, in_qsize 24, out_qsize 5\n",
      "INFO - 15:54:59: EPOCH 252: training on 523538 raw words (199636 effective words) took 1.2s, 173351 effective words/s\n",
      "INFO - 15:55:00: EPOCH 253 - PROGRESS: at 69.06% examples, 136546 words/s, in_qsize 17, out_qsize 0\n",
      "INFO - 15:55:00: EPOCH 253: training on 523538 raw words (199653 effective words) took 1.1s, 181110 effective words/s\n",
      "INFO - 15:55:01: EPOCH 254 - PROGRESS: at 45.83% examples, 86693 words/s, in_qsize 29, out_qsize 0\n",
      "INFO - 15:55:01: EPOCH 254: training on 523538 raw words (199596 effective words) took 1.2s, 169107 effective words/s\n",
      "INFO - 15:55:03: EPOCH 255 - PROGRESS: at 37.41% examples, 74221 words/s, in_qsize 29, out_qsize 0\n",
      "INFO - 15:55:03: EPOCH 255: training on 523538 raw words (199887 effective words) took 1.2s, 161672 effective words/s\n",
      "INFO - 15:55:04: EPOCH 256 - PROGRESS: at 91.99% examples, 181386 words/s, in_qsize 5, out_qsize 1\n",
      "INFO - 15:55:04: EPOCH 256: training on 523538 raw words (199287 effective words) took 1.1s, 189630 effective words/s\n",
      "INFO - 15:55:05: EPOCH 257 - PROGRESS: at 39.39% examples, 76686 words/s, in_qsize 29, out_qsize 0\n",
      "INFO - 15:55:05: EPOCH 257: training on 523538 raw words (199029 effective words) took 1.2s, 163391 effective words/s\n",
      "INFO - 15:55:06: EPOCH 258 - PROGRESS: at 45.83% examples, 89044 words/s, in_qsize 29, out_qsize 0\n",
      "INFO - 15:55:06: EPOCH 258: training on 523538 raw words (199151 effective words) took 1.2s, 172726 effective words/s\n",
      "INFO - 15:55:07: EPOCH 259: training on 523538 raw words (199579 effective words) took 0.9s, 211388 effective words/s\n",
      "INFO - 15:55:08: EPOCH 260 - PROGRESS: at 65.19% examples, 128042 words/s, in_qsize 19, out_qsize 0\n",
      "INFO - 15:55:08: EPOCH 260: training on 523538 raw words (199403 effective words) took 1.1s, 183458 effective words/s\n",
      "INFO - 15:55:09: EPOCH 261 - PROGRESS: at 37.41% examples, 75706 words/s, in_qsize 29, out_qsize 0\n",
      "INFO - 15:55:10: EPOCH 261: training on 523538 raw words (199648 effective words) took 1.2s, 171808 effective words/s\n",
      "INFO - 15:55:10: EPOCH 262: training on 523538 raw words (199847 effective words) took 1.0s, 206476 effective words/s\n",
      "INFO - 15:55:12: EPOCH 263 - PROGRESS: at 65.22% examples, 129252 words/s, in_qsize 19, out_qsize 0\n",
      "INFO - 15:55:12: EPOCH 263: training on 523538 raw words (199600 effective words) took 1.1s, 178414 effective words/s\n",
      "INFO - 15:55:13: EPOCH 264: training on 523538 raw words (199411 effective words) took 0.9s, 216463 effective words/s\n",
      "INFO - 15:55:14: EPOCH 265 - PROGRESS: at 65.22% examples, 128010 words/s, in_qsize 19, out_qsize 0\n",
      "INFO - 15:55:14: EPOCH 265: training on 523538 raw words (199126 effective words) took 1.1s, 179004 effective words/s\n",
      "INFO - 15:55:15: EPOCH 266 - PROGRESS: at 51.77% examples, 102500 words/s, in_qsize 23, out_qsize 3\n",
      "INFO - 15:55:15: EPOCH 266: training on 523538 raw words (199453 effective words) took 1.1s, 176506 effective words/s\n",
      "INFO - 15:55:16: EPOCH 267: training on 523538 raw words (199263 effective words) took 0.9s, 220483 effective words/s\n",
      "INFO - 15:55:17: EPOCH 268 - PROGRESS: at 43.40% examples, 87069 words/s, in_qsize 28, out_qsize 1\n",
      "INFO - 15:55:17: EPOCH 268: training on 523538 raw words (199535 effective words) took 1.1s, 178225 effective words/s\n",
      "INFO - 15:55:18: EPOCH 269 - PROGRESS: at 96.36% examples, 189888 words/s, in_qsize 2, out_qsize 1\n",
      "INFO - 15:55:18: EPOCH 269: training on 523538 raw words (199472 effective words) took 1.0s, 195407 effective words/s\n",
      "INFO - 15:55:19: EPOCH 270 - PROGRESS: at 11.32% examples, 20939 words/s, in_qsize 29, out_qsize 0\n",
      "INFO - 15:55:20: EPOCH 270: training on 523538 raw words (199659 effective words) took 1.5s, 136215 effective words/s\n",
      "INFO - 15:55:21: EPOCH 271 - PROGRESS: at 37.41% examples, 72780 words/s, in_qsize 29, out_qsize 0\n",
      "INFO - 15:55:21: EPOCH 271: training on 523538 raw words (199467 effective words) took 1.2s, 161631 effective words/s\n",
      "INFO - 15:55:22: EPOCH 272 - PROGRESS: at 69.06% examples, 135513 words/s, in_qsize 17, out_qsize 0\n",
      "INFO - 15:55:22: EPOCH 272: training on 523538 raw words (199474 effective words) took 1.1s, 180074 effective words/s\n",
      "INFO - 15:55:23: EPOCH 273 - PROGRESS: at 35.53% examples, 67830 words/s, in_qsize 29, out_qsize 0\n",
      "INFO - 15:55:23: EPOCH 273: training on 523538 raw words (199405 effective words) took 1.2s, 162330 effective words/s\n",
      "INFO - 15:55:24: EPOCH 274: training on 523538 raw words (199382 effective words) took 1.0s, 206099 effective words/s\n",
      "INFO - 15:55:25: EPOCH 275: training on 523538 raw words (199740 effective words) took 1.0s, 208651 effective words/s\n",
      "INFO - 15:55:26: EPOCH 276 - PROGRESS: at 63.32% examples, 124569 words/s, in_qsize 20, out_qsize 0\n",
      "INFO - 15:55:26: EPOCH 276: training on 523538 raw words (199512 effective words) took 1.1s, 177109 effective words/s\n",
      "INFO - 15:55:27: EPOCH 277: training on 523538 raw words (199220 effective words) took 1.0s, 206741 effective words/s\n",
      "INFO - 15:55:28: EPOCH 278 - PROGRESS: at 13.09% examples, 24970 words/s, in_qsize 29, out_qsize 0\n",
      "INFO - 15:55:29: EPOCH 278: training on 523538 raw words (199284 effective words) took 1.3s, 150676 effective words/s\n",
      "INFO - 15:55:30: EPOCH 279 - PROGRESS: at 14.94% examples, 28584 words/s, in_qsize 29, out_qsize 0\n",
      "INFO - 15:55:30: EPOCH 279: training on 523538 raw words (199597 effective words) took 1.3s, 154649 effective words/s\n",
      "INFO - 15:55:31: EPOCH 280 - PROGRESS: at 39.39% examples, 74492 words/s, in_qsize 29, out_qsize 0\n",
      "INFO - 15:55:31: EPOCH 280: training on 523538 raw words (199622 effective words) took 1.2s, 159991 effective words/s\n",
      "INFO - 15:55:32: EPOCH 281 - PROGRESS: at 39.36% examples, 76646 words/s, in_qsize 29, out_qsize 0\n",
      "INFO - 15:55:33: EPOCH 281: training on 523538 raw words (199216 effective words) took 1.2s, 167474 effective words/s\n",
      "INFO - 15:55:34: EPOCH 282 - PROGRESS: at 39.39% examples, 77545 words/s, in_qsize 29, out_qsize 0\n",
      "INFO - 15:55:34: EPOCH 282: training on 523538 raw words (199442 effective words) took 1.2s, 163745 effective words/s\n",
      "INFO - 15:55:35: EPOCH 283 - PROGRESS: at 49.79% examples, 97439 words/s, in_qsize 27, out_qsize 0\n",
      "INFO - 15:55:35: EPOCH 283: training on 523538 raw words (199354 effective words) took 1.1s, 174427 effective words/s\n",
      "INFO - 15:55:36: EPOCH 284 - PROGRESS: at 22.08% examples, 45394 words/s, in_qsize 25, out_qsize 4\n",
      "INFO - 15:55:36: EPOCH 284: training on 523538 raw words (199273 effective words) took 1.2s, 160953 effective words/s\n",
      "INFO - 15:55:37: EPOCH 285 - PROGRESS: at 61.34% examples, 121609 words/s, in_qsize 19, out_qsize 2\n",
      "INFO - 15:55:37: EPOCH 285: training on 523538 raw words (199620 effective words) took 1.1s, 174699 effective words/s\n",
      "INFO - 15:55:38: EPOCH 286 - PROGRESS: at 35.35% examples, 70504 words/s, in_qsize 30, out_qsize 0\n",
      "INFO - 15:55:39: EPOCH 286: training on 523538 raw words (198981 effective words) took 1.3s, 157518 effective words/s\n",
      "INFO - 15:55:40: EPOCH 287 - PROGRESS: at 11.31% examples, 21565 words/s, in_qsize 29, out_qsize 6\n",
      "INFO - 15:55:40: EPOCH 287: training on 523538 raw words (199045 effective words) took 1.3s, 155919 effective words/s\n",
      "INFO - 15:55:41: EPOCH 288 - PROGRESS: at 76.66% examples, 152261 words/s, in_qsize 13, out_qsize 1\n",
      "INFO - 15:55:41: EPOCH 288: training on 523538 raw words (199466 effective words) took 1.1s, 188697 effective words/s\n",
      "INFO - 15:55:42: EPOCH 289 - PROGRESS: at 14.84% examples, 29335 words/s, in_qsize 29, out_qsize 0\n",
      "INFO - 15:55:42: EPOCH 289: training on 523538 raw words (199621 effective words) took 1.3s, 156649 effective words/s\n",
      "INFO - 15:55:43: EPOCH 290 - PROGRESS: at 9.45% examples, 18592 words/s, in_qsize 29, out_qsize 0\n",
      "INFO - 15:55:44: EPOCH 290: training on 523538 raw words (199777 effective words) took 1.4s, 147029 effective words/s\n",
      "INFO - 15:55:45: EPOCH 291 - PROGRESS: at 39.39% examples, 79118 words/s, in_qsize 29, out_qsize 0\n",
      "INFO - 15:55:45: EPOCH 291: training on 523538 raw words (199658 effective words) took 1.2s, 168128 effective words/s\n"
     ]
    },
    {
     "name": "stderr",
     "output_type": "stream",
     "text": [
      "INFO - 15:55:46: EPOCH 292 - PROGRESS: at 11.32% examples, 21173 words/s, in_qsize 29, out_qsize 0\n",
      "INFO - 15:55:46: EPOCH 292: training on 523538 raw words (199187 effective words) took 1.4s, 146994 effective words/s\n",
      "INFO - 15:55:47: EPOCH 293 - PROGRESS: at 9.35% examples, 18567 words/s, in_qsize 25, out_qsize 6\n",
      "INFO - 15:55:48: EPOCH 293: training on 523538 raw words (199248 effective words) took 1.3s, 153193 effective words/s\n",
      "INFO - 15:55:49: EPOCH 294 - PROGRESS: at 37.33% examples, 74916 words/s, in_qsize 29, out_qsize 0\n",
      "INFO - 15:55:49: EPOCH 294: training on 523538 raw words (198923 effective words) took 1.2s, 167887 effective words/s\n",
      "INFO - 15:55:50: EPOCH 295 - PROGRESS: at 14.56% examples, 26235 words/s, in_qsize 29, out_qsize 0\n",
      "INFO - 15:55:50: EPOCH 295: training on 523538 raw words (199224 effective words) took 1.4s, 142495 effective words/s\n",
      "INFO - 15:55:51: EPOCH 296 - PROGRESS: at 11.23% examples, 20627 words/s, in_qsize 29, out_qsize 0\n",
      "INFO - 15:55:52: EPOCH 296: training on 523538 raw words (199516 effective words) took 1.4s, 140173 effective words/s\n",
      "INFO - 15:55:53: EPOCH 297 - PROGRESS: at 24.15% examples, 48883 words/s, in_qsize 29, out_qsize 0\n",
      "INFO - 15:55:53: EPOCH 297: training on 523538 raw words (199386 effective words) took 1.3s, 156609 effective words/s\n",
      "INFO - 15:55:54: EPOCH 298 - PROGRESS: at 7.41% examples, 14599 words/s, in_qsize 30, out_qsize 0\n",
      "INFO - 15:55:54: EPOCH 298: training on 523538 raw words (199504 effective words) took 1.4s, 142386 effective words/s\n",
      "INFO - 15:55:56: EPOCH 299 - PROGRESS: at 11.32% examples, 22389 words/s, in_qsize 29, out_qsize 0\n",
      "INFO - 15:55:56: EPOCH 299: training on 523538 raw words (199085 effective words) took 1.3s, 150749 effective words/s\n",
      "INFO - 15:55:57: EPOCH 300 - PROGRESS: at 43.68% examples, 86750 words/s, in_qsize 29, out_qsize 0\n",
      "INFO - 15:55:57: EPOCH 300: training on 523538 raw words (199352 effective words) took 1.1s, 174261 effective words/s\n",
      "INFO - 15:55:58: EPOCH 301 - PROGRESS: at 37.80% examples, 75502 words/s, in_qsize 27, out_qsize 2\n",
      "INFO - 15:55:58: EPOCH 301: training on 523538 raw words (199610 effective words) took 1.2s, 167004 effective words/s\n",
      "INFO - 15:55:59: EPOCH 302: training on 523538 raw words (199596 effective words) took 1.0s, 203129 effective words/s\n",
      "INFO - 15:56:00: EPOCH 303 - PROGRESS: at 14.56% examples, 30021 words/s, in_qsize 29, out_qsize 0\n",
      "INFO - 15:56:01: EPOCH 303: training on 523538 raw words (199286 effective words) took 1.3s, 159257 effective words/s\n",
      "INFO - 15:56:02: EPOCH 304 - PROGRESS: at 39.48% examples, 77389 words/s, in_qsize 29, out_qsize 0\n",
      "INFO - 15:56:02: EPOCH 304: training on 523538 raw words (199848 effective words) took 1.2s, 169058 effective words/s\n",
      "INFO - 15:56:03: EPOCH 305 - PROGRESS: at 96.36% examples, 191572 words/s, in_qsize 2, out_qsize 1\n",
      "INFO - 15:56:03: EPOCH 305: training on 523538 raw words (199557 effective words) took 1.0s, 196471 effective words/s\n",
      "INFO - 15:56:04: EPOCH 306 - PROGRESS: at 43.44% examples, 84647 words/s, in_qsize 28, out_qsize 1\n",
      "INFO - 15:56:04: EPOCH 306: training on 523538 raw words (199422 effective words) took 1.1s, 173490 effective words/s\n",
      "INFO - 15:56:05: EPOCH 307 - PROGRESS: at 69.06% examples, 134804 words/s, in_qsize 17, out_qsize 0\n",
      "INFO - 15:56:05: EPOCH 307: training on 523538 raw words (199231 effective words) took 1.1s, 183162 effective words/s\n",
      "INFO - 15:56:06: EPOCH 308 - PROGRESS: at 45.83% examples, 87364 words/s, in_qsize 29, out_qsize 0\n",
      "INFO - 15:56:06: EPOCH 308: training on 523538 raw words (199533 effective words) took 1.2s, 168323 effective words/s\n",
      "INFO - 15:56:07: EPOCH 309 - PROGRESS: at 14.86% examples, 30497 words/s, in_qsize 27, out_qsize 2\n",
      "INFO - 15:56:08: EPOCH 309: training on 523538 raw words (199699 effective words) took 1.2s, 162030 effective words/s\n",
      "INFO - 15:56:09: EPOCH 310 - PROGRESS: at 70.95% examples, 139506 words/s, in_qsize 16, out_qsize 0\n",
      "INFO - 15:56:09: EPOCH 310: training on 523538 raw words (199512 effective words) took 1.1s, 184529 effective words/s\n",
      "INFO - 15:56:10: EPOCH 311 - PROGRESS: at 15.03% examples, 29988 words/s, in_qsize 29, out_qsize 0\n",
      "INFO - 15:56:10: EPOCH 311: training on 523538 raw words (198975 effective words) took 1.2s, 160984 effective words/s\n",
      "INFO - 15:56:11: EPOCH 312 - PROGRESS: at 53.70% examples, 106151 words/s, in_qsize 23, out_qsize 2\n",
      "INFO - 15:56:11: EPOCH 312: training on 523538 raw words (199521 effective words) took 1.1s, 175108 effective words/s\n",
      "INFO - 15:56:12: EPOCH 313 - PROGRESS: at 84.89% examples, 168910 words/s, in_qsize 8, out_qsize 1\n",
      "INFO - 15:56:12: EPOCH 313: training on 523538 raw words (199732 effective words) took 1.0s, 194388 effective words/s\n",
      "INFO - 15:56:13: EPOCH 314 - PROGRESS: at 39.39% examples, 74401 words/s, in_qsize 29, out_qsize 0\n",
      "INFO - 15:56:13: EPOCH 314: training on 523538 raw words (199382 effective words) took 1.2s, 162152 effective words/s\n",
      "INFO - 15:56:14: EPOCH 315 - PROGRESS: at 88.78% examples, 176471 words/s, in_qsize 5, out_qsize 3\n",
      "INFO - 15:56:14: EPOCH 315: training on 523538 raw words (199406 effective words) took 1.0s, 193676 effective words/s\n",
      "INFO - 15:56:15: EPOCH 316 - PROGRESS: at 45.45% examples, 90676 words/s, in_qsize 29, out_qsize 0\n",
      "INFO - 15:56:16: EPOCH 316: training on 523538 raw words (199008 effective words) took 1.1s, 175880 effective words/s\n",
      "INFO - 15:56:17: EPOCH 317 - PROGRESS: at 55.22% examples, 109190 words/s, in_qsize 20, out_qsize 4\n",
      "INFO - 15:56:17: EPOCH 317: training on 523538 raw words (198832 effective words) took 1.1s, 175224 effective words/s\n",
      "INFO - 15:56:18: EPOCH 318 - PROGRESS: at 100.00% examples, 199041 words/s, in_qsize 0, out_qsize 1\n",
      "INFO - 15:56:18: EPOCH 318: training on 523538 raw words (199398 effective words) took 1.0s, 198792 effective words/s\n",
      "INFO - 15:56:19: EPOCH 319 - PROGRESS: at 41.30% examples, 83010 words/s, in_qsize 29, out_qsize 0\n",
      "INFO - 15:56:19: EPOCH 319: training on 523538 raw words (199413 effective words) took 1.1s, 173789 effective words/s\n",
      "INFO - 15:56:20: EPOCH 320 - PROGRESS: at 39.56% examples, 79093 words/s, in_qsize 30, out_qsize 1\n",
      "INFO - 15:56:20: EPOCH 320: training on 523538 raw words (199171 effective words) took 1.2s, 168120 effective words/s\n",
      "INFO - 15:56:21: EPOCH 321 - PROGRESS: at 14.84% examples, 29993 words/s, in_qsize 29, out_qsize 0\n",
      "INFO - 15:56:21: EPOCH 321: training on 523538 raw words (199086 effective words) took 1.2s, 160230 effective words/s\n",
      "INFO - 15:56:22: EPOCH 322 - PROGRESS: at 35.36% examples, 71628 words/s, in_qsize 29, out_qsize 0\n",
      "INFO - 15:56:23: EPOCH 322: training on 523538 raw words (198992 effective words) took 1.2s, 168033 effective words/s\n",
      "INFO - 15:56:24: EPOCH 323 - PROGRESS: at 35.35% examples, 67451 words/s, in_qsize 29, out_qsize 0\n",
      "INFO - 15:56:24: EPOCH 323: training on 523538 raw words (199211 effective words) took 1.3s, 158405 effective words/s\n",
      "INFO - 15:56:25: EPOCH 324 - PROGRESS: at 70.97% examples, 141006 words/s, in_qsize 15, out_qsize 1\n",
      "INFO - 15:56:25: EPOCH 324: training on 523538 raw words (199384 effective words) took 1.1s, 186959 effective words/s\n",
      "INFO - 15:56:26: EPOCH 325 - PROGRESS: at 39.39% examples, 78455 words/s, in_qsize 29, out_qsize 0\n",
      "INFO - 15:56:26: EPOCH 325: training on 523538 raw words (199409 effective words) took 1.2s, 171778 effective words/s\n",
      "INFO - 15:56:27: EPOCH 326: training on 523538 raw words (199427 effective words) took 1.0s, 208112 effective words/s\n",
      "INFO - 15:56:28: EPOCH 327 - PROGRESS: at 65.22% examples, 125490 words/s, in_qsize 19, out_qsize 0\n",
      "INFO - 15:56:28: EPOCH 327: training on 523538 raw words (199431 effective words) took 1.1s, 176869 effective words/s\n",
      "INFO - 15:56:29: EPOCH 328 - PROGRESS: at 67.19% examples, 131803 words/s, in_qsize 18, out_qsize 0\n",
      "INFO - 15:56:29: EPOCH 328: training on 523538 raw words (199343 effective words) took 1.1s, 176964 effective words/s\n",
      "INFO - 15:56:31: EPOCH 329 - PROGRESS: at 98.13% examples, 195245 words/s, in_qsize 1, out_qsize 1\n",
      "INFO - 15:56:31: EPOCH 329: training on 523538 raw words (199211 effective words) took 1.0s, 198494 effective words/s\n",
      "INFO - 15:56:32: EPOCH 330 - PROGRESS: at 41.54% examples, 81777 words/s, in_qsize 29, out_qsize 0\n",
      "INFO - 15:56:32: EPOCH 330: training on 523538 raw words (199266 effective words) took 1.2s, 172571 effective words/s\n"
     ]
    },
    {
     "name": "stderr",
     "output_type": "stream",
     "text": [
      "INFO - 15:56:33: EPOCH 331: training on 523538 raw words (199597 effective words) took 1.0s, 204915 effective words/s\n",
      "INFO - 15:56:34: EPOCH 332 - PROGRESS: at 74.73% examples, 148272 words/s, in_qsize 14, out_qsize 1\n",
      "INFO - 15:56:34: EPOCH 332: training on 523538 raw words (199551 effective words) took 1.1s, 187864 effective words/s\n",
      "INFO - 15:56:35: EPOCH 333 - PROGRESS: at 11.32% examples, 22250 words/s, in_qsize 24, out_qsize 5\n",
      "INFO - 15:56:35: EPOCH 333: training on 523538 raw words (199630 effective words) took 1.3s, 157459 effective words/s\n",
      "INFO - 15:56:36: EPOCH 334 - PROGRESS: at 70.97% examples, 139992 words/s, in_qsize 16, out_qsize 0\n",
      "INFO - 15:56:36: EPOCH 334: training on 523538 raw words (199699 effective words) took 1.1s, 185967 effective words/s\n",
      "INFO - 15:56:37: EPOCH 335 - PROGRESS: at 13.08% examples, 26208 words/s, in_qsize 30, out_qsize 3\n",
      "INFO - 15:56:38: EPOCH 335: training on 523538 raw words (199505 effective words) took 1.3s, 159214 effective words/s\n",
      "INFO - 15:56:39: EPOCH 336 - PROGRESS: at 14.84% examples, 27059 words/s, in_qsize 29, out_qsize 0\n",
      "INFO - 15:56:39: EPOCH 336: training on 523538 raw words (199222 effective words) took 1.4s, 145558 effective words/s\n",
      "INFO - 15:56:40: EPOCH 337 - PROGRESS: at 67.19% examples, 129183 words/s, in_qsize 18, out_qsize 0\n",
      "INFO - 15:56:40: EPOCH 337: training on 523538 raw words (199493 effective words) took 1.1s, 177828 effective words/s\n",
      "INFO - 15:56:41: EPOCH 338 - PROGRESS: at 9.16% examples, 18638 words/s, in_qsize 29, out_qsize 0\n",
      "INFO - 15:56:42: EPOCH 338: training on 523538 raw words (198919 effective words) took 1.3s, 149446 effective words/s\n",
      "INFO - 15:56:43: EPOCH 339 - PROGRESS: at 9.28% examples, 18650 words/s, in_qsize 21, out_qsize 9\n",
      "INFO - 15:56:43: EPOCH 339: training on 523538 raw words (199208 effective words) took 1.3s, 154430 effective words/s\n",
      "INFO - 15:56:44: EPOCH 340 - PROGRESS: at 98.13% examples, 195582 words/s, in_qsize 1, out_qsize 1\n",
      "INFO - 15:56:44: EPOCH 340: training on 523538 raw words (199742 effective words) took 1.0s, 198977 effective words/s\n",
      "INFO - 15:56:45: EPOCH 341 - PROGRESS: at 43.42% examples, 87336 words/s, in_qsize 29, out_qsize 0\n",
      "INFO - 15:56:45: EPOCH 341: training on 523538 raw words (199683 effective words) took 1.2s, 173540 effective words/s\n",
      "INFO - 15:56:46: EPOCH 342 - PROGRESS: at 13.09% examples, 25344 words/s, in_qsize 29, out_qsize 0\n",
      "INFO - 15:56:46: EPOCH 342: training on 523538 raw words (199259 effective words) took 1.3s, 153510 effective words/s\n",
      "INFO - 15:56:47: EPOCH 343 - PROGRESS: at 39.56% examples, 79099 words/s, in_qsize 29, out_qsize 0\n",
      "INFO - 15:56:48: EPOCH 343: training on 523538 raw words (199517 effective words) took 1.2s, 168578 effective words/s\n",
      "INFO - 15:56:49: EPOCH 344 - PROGRESS: at 11.24% examples, 21656 words/s, in_qsize 29, out_qsize 0\n",
      "INFO - 15:56:49: EPOCH 344: training on 523538 raw words (199316 effective words) took 1.3s, 150558 effective words/s\n",
      "INFO - 15:56:50: EPOCH 345 - PROGRESS: at 69.06% examples, 135806 words/s, in_qsize 17, out_qsize 0\n",
      "INFO - 15:56:50: EPOCH 345: training on 523538 raw words (199565 effective words) took 1.1s, 182942 effective words/s\n",
      "INFO - 15:56:51: EPOCH 346 - PROGRESS: at 35.35% examples, 70522 words/s, in_qsize 29, out_qsize 0\n",
      "INFO - 15:56:51: EPOCH 346: training on 523538 raw words (199390 effective words) took 1.3s, 158233 effective words/s\n",
      "INFO - 15:56:53: EPOCH 347 - PROGRESS: at 11.23% examples, 20015 words/s, in_qsize 29, out_qsize 0\n",
      "INFO - 15:56:53: EPOCH 347: training on 523538 raw words (199042 effective words) took 1.4s, 141038 effective words/s\n",
      "INFO - 15:56:54: EPOCH 348 - PROGRESS: at 37.41% examples, 72700 words/s, in_qsize 29, out_qsize 0\n",
      "INFO - 15:56:54: EPOCH 348: training on 523538 raw words (199269 effective words) took 1.2s, 161381 effective words/s\n",
      "INFO - 15:56:55: EPOCH 349 - PROGRESS: at 13.09% examples, 25333 words/s, in_qsize 26, out_qsize 0\n",
      "INFO - 15:56:56: EPOCH 349: training on 523538 raw words (199492 effective words) took 1.5s, 135850 effective words/s\n",
      "INFO - 15:56:57: EPOCH 350 - PROGRESS: at 11.23% examples, 20637 words/s, in_qsize 29, out_qsize 0\n",
      "INFO - 15:56:57: EPOCH 350: training on 523538 raw words (199104 effective words) took 1.4s, 140457 effective words/s\n",
      "INFO - 15:56:58: EPOCH 351 - PROGRESS: at 11.22% examples, 21128 words/s, in_qsize 28, out_qsize 9\n",
      "INFO - 15:56:58: EPOCH 351: training on 523538 raw words (199571 effective words) took 1.3s, 148151 effective words/s\n",
      "INFO - 15:56:59: EPOCH 352 - PROGRESS: at 63.31% examples, 125615 words/s, in_qsize 18, out_qsize 2\n",
      "INFO - 15:57:00: EPOCH 352: training on 523538 raw words (199981 effective words) took 1.1s, 182729 effective words/s\n",
      "INFO - 15:57:01: EPOCH 353 - PROGRESS: at 11.23% examples, 22565 words/s, in_qsize 29, out_qsize 0\n",
      "INFO - 15:57:01: EPOCH 353: training on 523538 raw words (199778 effective words) took 1.3s, 155961 effective words/s\n",
      "INFO - 15:57:02: EPOCH 354 - PROGRESS: at 70.97% examples, 137458 words/s, in_qsize 16, out_qsize 0\n",
      "INFO - 15:57:02: EPOCH 354: training on 523538 raw words (199252 effective words) took 1.1s, 182466 effective words/s\n",
      "INFO - 15:57:03: EPOCH 355 - PROGRESS: at 13.09% examples, 26013 words/s, in_qsize 29, out_qsize 0\n",
      "INFO - 15:57:03: EPOCH 355: training on 523538 raw words (199757 effective words) took 1.3s, 155126 effective words/s\n",
      "INFO - 15:57:04: EPOCH 356 - PROGRESS: at 13.09% examples, 26482 words/s, in_qsize 30, out_qsize 2\n",
      "INFO - 15:57:05: EPOCH 356: training on 523538 raw words (199612 effective words) took 1.3s, 155676 effective words/s\n",
      "INFO - 15:57:06: EPOCH 357 - PROGRESS: at 70.97% examples, 139109 words/s, in_qsize 16, out_qsize 0\n",
      "INFO - 15:57:06: EPOCH 357: training on 523538 raw words (199198 effective words) took 1.1s, 183686 effective words/s\n",
      "INFO - 15:57:07: EPOCH 358 - PROGRESS: at 14.84% examples, 29885 words/s, in_qsize 26, out_qsize 3\n",
      "INFO - 15:57:07: EPOCH 358: training on 523538 raw words (199021 effective words) took 1.3s, 154913 effective words/s\n",
      "INFO - 15:57:08: EPOCH 359 - PROGRESS: at 35.35% examples, 70895 words/s, in_qsize 29, out_qsize 0\n",
      "INFO - 15:57:08: EPOCH 359: training on 523538 raw words (199454 effective words) took 1.3s, 157619 effective words/s\n",
      "INFO - 15:57:09: EPOCH 360 - PROGRESS: at 67.10% examples, 129114 words/s, in_qsize 18, out_qsize 0\n",
      "INFO - 15:57:09: EPOCH 360: training on 523538 raw words (199515 effective words) took 1.1s, 179697 effective words/s\n",
      "INFO - 15:57:11: EPOCH 361 - PROGRESS: at 16.68% examples, 30483 words/s, in_qsize 30, out_qsize 0\n",
      "INFO - 15:57:11: EPOCH 361: training on 523538 raw words (199619 effective words) took 1.4s, 142766 effective words/s\n",
      "INFO - 15:57:12: EPOCH 362 - PROGRESS: at 43.69% examples, 84523 words/s, in_qsize 29, out_qsize 0\n",
      "INFO - 15:57:12: EPOCH 362: training on 523538 raw words (199523 effective words) took 1.2s, 168251 effective words/s\n",
      "INFO - 15:57:13: EPOCH 363 - PROGRESS: at 9.16% examples, 18470 words/s, in_qsize 29, out_qsize 0\n",
      "INFO - 15:57:13: EPOCH 363: training on 523538 raw words (199095 effective words) took 1.4s, 139613 effective words/s\n",
      "INFO - 15:57:15: EPOCH 364 - PROGRESS: at 10.94% examples, 21778 words/s, in_qsize 29, out_qsize 0\n",
      "INFO - 15:57:15: EPOCH 364: training on 523538 raw words (199296 effective words) took 1.3s, 150619 effective words/s\n",
      "INFO - 15:57:16: EPOCH 365 - PROGRESS: at 53.38% examples, 106035 words/s, in_qsize 23, out_qsize 2\n",
      "INFO - 15:57:16: EPOCH 365: training on 523538 raw words (199296 effective words) took 1.2s, 172121 effective words/s\n",
      "INFO - 15:57:17: EPOCH 366 - PROGRESS: at 11.23% examples, 22635 words/s, in_qsize 28, out_qsize 1\n",
      "INFO - 15:57:17: EPOCH 366: training on 523538 raw words (199683 effective words) took 1.3s, 153596 effective words/s\n",
      "INFO - 15:57:18: EPOCH 367 - PROGRESS: at 11.03% examples, 22499 words/s, in_qsize 29, out_qsize 0\n",
      "INFO - 15:57:19: EPOCH 367: training on 523538 raw words (199302 effective words) took 1.3s, 154390 effective words/s\n",
      "INFO - 15:57:20: EPOCH 368 - PROGRESS: at 65.22% examples, 128582 words/s, in_qsize 19, out_qsize 0\n",
      "INFO - 15:57:20: EPOCH 368: training on 523538 raw words (199348 effective words) took 1.1s, 175122 effective words/s\n",
      "INFO - 15:57:21: EPOCH 369 - PROGRESS: at 13.09% examples, 25395 words/s, in_qsize 29, out_qsize 0\n"
     ]
    },
    {
     "name": "stderr",
     "output_type": "stream",
     "text": [
      "INFO - 15:57:21: EPOCH 369: training on 523538 raw words (199364 effective words) took 1.3s, 154188 effective words/s\n",
      "INFO - 15:57:22: EPOCH 370 - PROGRESS: at 7.41% examples, 14758 words/s, in_qsize 25, out_qsize 0\n",
      "INFO - 15:57:23: EPOCH 370: training on 523538 raw words (199330 effective words) took 1.5s, 129017 effective words/s\n",
      "INFO - 15:57:24: EPOCH 371 - PROGRESS: at 39.39% examples, 78939 words/s, in_qsize 29, out_qsize 0\n",
      "INFO - 15:57:24: EPOCH 371: training on 523538 raw words (199463 effective words) took 1.2s, 167959 effective words/s\n",
      "INFO - 15:57:25: EPOCH 372 - PROGRESS: at 13.07% examples, 26256 words/s, in_qsize 29, out_qsize 0\n",
      "INFO - 15:57:25: EPOCH 372: training on 523538 raw words (199697 effective words) took 1.3s, 158139 effective words/s\n",
      "INFO - 15:57:26: EPOCH 373 - PROGRESS: at 39.56% examples, 75791 words/s, in_qsize 29, out_qsize 0\n",
      "INFO - 15:57:26: EPOCH 373: training on 523538 raw words (198966 effective words) took 1.2s, 165239 effective words/s\n",
      "INFO - 15:57:27: EPOCH 374 - PROGRESS: at 9.36% examples, 18585 words/s, in_qsize 29, out_qsize 0\n",
      "INFO - 15:57:28: EPOCH 374: training on 523538 raw words (198868 effective words) took 1.4s, 145017 effective words/s\n",
      "INFO - 15:57:29: EPOCH 375 - PROGRESS: at 7.41% examples, 14072 words/s, in_qsize 29, out_qsize 0\n",
      "INFO - 15:57:29: EPOCH 375: training on 523538 raw words (199483 effective words) took 1.4s, 141435 effective words/s\n",
      "INFO - 15:57:30: EPOCH 376 - PROGRESS: at 43.69% examples, 83870 words/s, in_qsize 29, out_qsize 0\n",
      "INFO - 15:57:30: EPOCH 376: training on 523538 raw words (199155 effective words) took 1.2s, 166683 effective words/s\n",
      "INFO - 15:57:31: EPOCH 377 - PROGRESS: at 12.99% examples, 26083 words/s, in_qsize 30, out_qsize 8\n",
      "INFO - 15:57:32: EPOCH 377: training on 523538 raw words (199166 effective words) took 1.3s, 156778 effective words/s\n",
      "INFO - 15:57:33: EPOCH 378 - PROGRESS: at 9.45% examples, 18786 words/s, in_qsize 17, out_qsize 13\n",
      "INFO - 15:57:33: EPOCH 378: training on 523538 raw words (199519 effective words) took 1.3s, 152716 effective words/s\n",
      "INFO - 15:57:34: EPOCH 379 - PROGRESS: at 41.50% examples, 82798 words/s, in_qsize 24, out_qsize 7\n",
      "INFO - 15:57:34: EPOCH 379: training on 523538 raw words (199570 effective words) took 1.2s, 168792 effective words/s\n",
      "INFO - 15:57:35: EPOCH 380 - PROGRESS: at 43.69% examples, 82710 words/s, in_qsize 30, out_qsize 0\n",
      "INFO - 15:57:35: EPOCH 380: training on 523538 raw words (199509 effective words) took 1.2s, 165441 effective words/s\n",
      "INFO - 15:57:37: EPOCH 381 - PROGRESS: at 74.73% examples, 145923 words/s, in_qsize 14, out_qsize 1\n",
      "INFO - 15:57:37: EPOCH 381: training on 523538 raw words (198929 effective words) took 1.1s, 186361 effective words/s\n",
      "INFO - 15:57:38: EPOCH 382 - PROGRESS: at 37.41% examples, 75690 words/s, in_qsize 29, out_qsize 0\n",
      "INFO - 15:57:38: EPOCH 382: training on 523538 raw words (199560 effective words) took 1.2s, 163827 effective words/s\n",
      "INFO - 15:57:39: EPOCH 383 - PROGRESS: at 9.38% examples, 18660 words/s, in_qsize 29, out_qsize 0\n",
      "INFO - 15:57:39: EPOCH 383: training on 523538 raw words (199443 effective words) took 1.4s, 146828 effective words/s\n",
      "INFO - 15:57:40: EPOCH 384 - PROGRESS: at 13.09% examples, 24955 words/s, in_qsize 29, out_qsize 0\n",
      "INFO - 15:57:41: EPOCH 384: training on 523538 raw words (199436 effective words) took 1.3s, 149389 effective words/s\n",
      "INFO - 15:57:42: EPOCH 385 - PROGRESS: at 37.41% examples, 70492 words/s, in_qsize 29, out_qsize 0\n",
      "INFO - 15:57:42: EPOCH 385: training on 523538 raw words (199513 effective words) took 1.3s, 156179 effective words/s\n",
      "INFO - 15:57:43: EPOCH 386 - PROGRESS: at 11.32% examples, 20585 words/s, in_qsize 29, out_qsize 0\n",
      "INFO - 15:57:43: EPOCH 386: training on 523538 raw words (199450 effective words) took 1.5s, 136753 effective words/s\n",
      "INFO - 15:57:44: EPOCH 387 - PROGRESS: at 13.07% examples, 25942 words/s, in_qsize 29, out_qsize 0\n",
      "INFO - 15:57:45: EPOCH 387: training on 523538 raw words (199387 effective words) took 1.3s, 153158 effective words/s\n",
      "INFO - 15:57:46: EPOCH 388 - PROGRESS: at 9.45% examples, 17241 words/s, in_qsize 29, out_qsize 0\n",
      "INFO - 15:57:46: EPOCH 388: training on 523538 raw words (199482 effective words) took 1.5s, 137087 effective words/s\n",
      "INFO - 15:57:47: EPOCH 389 - PROGRESS: at 13.16% examples, 26276 words/s, in_qsize 19, out_qsize 11\n",
      "INFO - 15:57:47: EPOCH 389: training on 523538 raw words (200197 effective words) took 1.3s, 157249 effective words/s\n",
      "INFO - 15:57:48: EPOCH 390 - PROGRESS: at 67.19% examples, 131485 words/s, in_qsize 18, out_qsize 0\n",
      "INFO - 15:57:49: EPOCH 390: training on 523538 raw words (199512 effective words) took 1.1s, 181781 effective words/s\n",
      "INFO - 15:57:50: EPOCH 391 - PROGRESS: at 37.41% examples, 74747 words/s, in_qsize 29, out_qsize 0\n",
      "INFO - 15:57:50: EPOCH 391: training on 523538 raw words (199607 effective words) took 1.2s, 164916 effective words/s\n",
      "INFO - 15:57:51: EPOCH 392 - PROGRESS: at 45.83% examples, 88953 words/s, in_qsize 29, out_qsize 0\n",
      "INFO - 15:57:51: EPOCH 392: training on 523538 raw words (199911 effective words) took 1.2s, 169462 effective words/s\n",
      "INFO - 15:57:52: EPOCH 393 - PROGRESS: at 9.45% examples, 18777 words/s, in_qsize 30, out_qsize 0\n",
      "INFO - 15:57:52: EPOCH 393: training on 523538 raw words (199431 effective words) took 1.3s, 151133 effective words/s\n",
      "INFO - 15:57:53: EPOCH 394 - PROGRESS: at 22.25% examples, 44699 words/s, in_qsize 30, out_qsize 5\n",
      "INFO - 15:57:54: EPOCH 394: training on 523538 raw words (199040 effective words) took 1.3s, 156095 effective words/s\n",
      "INFO - 15:57:55: EPOCH 395 - PROGRESS: at 55.69% examples, 109948 words/s, in_qsize 24, out_qsize 0\n",
      "INFO - 15:57:55: EPOCH 395: training on 523538 raw words (199964 effective words) took 1.1s, 177443 effective words/s\n",
      "INFO - 15:57:56: EPOCH 396 - PROGRESS: at 11.32% examples, 22393 words/s, in_qsize 30, out_qsize 0\n",
      "INFO - 15:57:56: EPOCH 396: training on 523538 raw words (199013 effective words) took 1.3s, 154069 effective words/s\n",
      "INFO - 15:57:57: EPOCH 397 - PROGRESS: at 9.45% examples, 17788 words/s, in_qsize 29, out_qsize 0\n",
      "INFO - 15:57:58: EPOCH 397: training on 523538 raw words (199461 effective words) took 1.4s, 142291 effective words/s\n",
      "INFO - 15:57:59: EPOCH 398 - PROGRESS: at 13.08% examples, 26392 words/s, in_qsize 22, out_qsize 12\n",
      "INFO - 15:57:59: EPOCH 398: training on 523538 raw words (199766 effective words) took 1.3s, 154857 effective words/s\n",
      "INFO - 15:58:00: EPOCH 399 - PROGRESS: at 7.41% examples, 14050 words/s, in_qsize 30, out_qsize 0\n",
      "INFO - 15:58:00: EPOCH 399: training on 523538 raw words (199627 effective words) took 1.5s, 135346 effective words/s\n",
      "INFO - 15:58:01: EPOCH 400 - PROGRESS: at 37.41% examples, 74428 words/s, in_qsize 29, out_qsize 0\n",
      "INFO - 15:58:02: EPOCH 400: training on 523538 raw words (199508 effective words) took 1.3s, 159601 effective words/s\n",
      "INFO - 15:58:03: EPOCH 401 - PROGRESS: at 59.44% examples, 117637 words/s, in_qsize 21, out_qsize 1\n",
      "INFO - 15:58:03: EPOCH 401: training on 523538 raw words (199543 effective words) took 1.1s, 175458 effective words/s\n",
      "INFO - 15:58:04: EPOCH 402 - PROGRESS: at 31.40% examples, 62960 words/s, in_qsize 30, out_qsize 0\n",
      "INFO - 15:58:04: EPOCH 402: training on 523538 raw words (199169 effective words) took 1.3s, 150692 effective words/s\n",
      "INFO - 15:58:05: EPOCH 403 - PROGRESS: at 69.06% examples, 135399 words/s, in_qsize 17, out_qsize 0\n",
      "INFO - 15:58:05: EPOCH 403: training on 523538 raw words (199555 effective words) took 1.1s, 177336 effective words/s\n",
      "INFO - 15:58:06: EPOCH 404 - PROGRESS: at 9.19% examples, 18748 words/s, in_qsize 29, out_qsize 0\n",
      "INFO - 15:58:07: EPOCH 404: training on 523538 raw words (199250 effective words) took 1.3s, 150854 effective words/s\n",
      "INFO - 15:58:08: EPOCH 405 - PROGRESS: at 13.14% examples, 26321 words/s, in_qsize 30, out_qsize 0\n",
      "INFO - 15:58:08: EPOCH 405: training on 523538 raw words (199237 effective words) took 1.3s, 156957 effective words/s\n",
      "INFO - 15:58:09: EPOCH 406 - PROGRESS: at 43.69% examples, 86855 words/s, in_qsize 29, out_qsize 0\n",
      "INFO - 15:58:09: EPOCH 406: training on 523538 raw words (199340 effective words) took 1.2s, 172414 effective words/s\n",
      "INFO - 15:58:10: EPOCH 407 - PROGRESS: at 13.06% examples, 24437 words/s, in_qsize 29, out_qsize 0\n"
     ]
    },
    {
     "name": "stderr",
     "output_type": "stream",
     "text": [
      "INFO - 15:58:11: EPOCH 407: training on 523538 raw words (199009 effective words) took 1.3s, 149370 effective words/s\n",
      "INFO - 15:58:12: EPOCH 408 - PROGRESS: at 11.05% examples, 21367 words/s, in_qsize 29, out_qsize 0\n",
      "INFO - 15:58:12: EPOCH 408: training on 523538 raw words (199424 effective words) took 1.3s, 148366 effective words/s\n",
      "INFO - 15:58:13: EPOCH 409 - PROGRESS: at 70.97% examples, 136137 words/s, in_qsize 16, out_qsize 0\n",
      "INFO - 15:58:13: EPOCH 409: training on 523538 raw words (198747 effective words) took 1.1s, 180604 effective words/s\n",
      "INFO - 15:58:14: EPOCH 410 - PROGRESS: at 11.28% examples, 22312 words/s, in_qsize 29, out_qsize 0\n",
      "INFO - 15:58:15: EPOCH 410: training on 523538 raw words (199269 effective words) took 1.4s, 144897 effective words/s\n",
      "INFO - 15:58:16: EPOCH 411 - PROGRESS: at 7.41% examples, 14621 words/s, in_qsize 29, out_qsize 0\n",
      "INFO - 15:58:16: EPOCH 411: training on 523538 raw words (199724 effective words) took 1.4s, 144899 effective words/s\n",
      "INFO - 15:58:17: EPOCH 412 - PROGRESS: at 35.35% examples, 68880 words/s, in_qsize 29, out_qsize 0\n",
      "INFO - 15:58:17: EPOCH 412: training on 523538 raw words (199441 effective words) took 1.3s, 159464 effective words/s\n",
      "INFO - 15:58:18: EPOCH 413 - PROGRESS: at 11.32% examples, 19218 words/s, in_qsize 30, out_qsize 0\n",
      "INFO - 15:58:19: EPOCH 413: training on 523538 raw words (199559 effective words) took 1.5s, 136512 effective words/s\n",
      "INFO - 15:58:20: EPOCH 414 - PROGRESS: at 39.46% examples, 78494 words/s, in_qsize 29, out_qsize 0\n",
      "INFO - 15:58:20: EPOCH 414: training on 523538 raw words (199393 effective words) took 1.2s, 169892 effective words/s\n",
      "INFO - 15:58:21: EPOCH 415 - PROGRESS: at 11.31% examples, 22349 words/s, in_qsize 29, out_qsize 10\n",
      "INFO - 15:58:21: EPOCH 415: training on 523538 raw words (199460 effective words) took 1.3s, 156072 effective words/s\n",
      "INFO - 15:58:22: EPOCH 416 - PROGRESS: at 69.06% examples, 135046 words/s, in_qsize 17, out_qsize 0\n",
      "INFO - 15:58:22: EPOCH 416: training on 523538 raw words (199479 effective words) took 1.1s, 177774 effective words/s\n",
      "INFO - 15:58:23: EPOCH 417 - PROGRESS: at 13.09% examples, 24095 words/s, in_qsize 28, out_qsize 0\n",
      "INFO - 15:58:24: EPOCH 417: training on 523538 raw words (199690 effective words) took 1.5s, 133242 effective words/s\n",
      "INFO - 15:58:25: EPOCH 418 - PROGRESS: at 9.45% examples, 17923 words/s, in_qsize 29, out_qsize 0\n",
      "INFO - 15:58:25: EPOCH 418: training on 523538 raw words (198757 effective words) took 1.4s, 142814 effective words/s\n",
      "INFO - 15:58:26: EPOCH 419 - PROGRESS: at 41.46% examples, 81289 words/s, in_qsize 29, out_qsize 0\n",
      "INFO - 15:58:26: EPOCH 419: training on 523538 raw words (199130 effective words) took 1.2s, 167866 effective words/s\n",
      "INFO - 15:58:28: EPOCH 420 - PROGRESS: at 11.23% examples, 22116 words/s, in_qsize 30, out_qsize 0\n",
      "INFO - 15:58:28: EPOCH 420: training on 523538 raw words (199634 effective words) took 1.4s, 143859 effective words/s\n",
      "INFO - 15:58:29: EPOCH 421 - PROGRESS: at 16.63% examples, 34137 words/s, in_qsize 29, out_qsize 0\n",
      "INFO - 15:58:29: EPOCH 421: training on 523538 raw words (199046 effective words) took 1.2s, 159437 effective words/s\n",
      "INFO - 15:58:30: EPOCH 422 - PROGRESS: at 13.07% examples, 26111 words/s, in_qsize 29, out_qsize 0\n",
      "INFO - 15:58:30: EPOCH 422: training on 523538 raw words (199192 effective words) took 1.3s, 154122 effective words/s\n",
      "INFO - 15:58:32: EPOCH 423 - PROGRESS: at 7.48% examples, 14147 words/s, in_qsize 29, out_qsize 0\n",
      "INFO - 15:58:32: EPOCH 423: training on 523538 raw words (199741 effective words) took 1.4s, 137835 effective words/s\n",
      "INFO - 15:58:33: EPOCH 424 - PROGRESS: at 33.50% examples, 67887 words/s, in_qsize 28, out_qsize 1\n",
      "INFO - 15:58:33: EPOCH 424: training on 523538 raw words (199395 effective words) took 1.3s, 155041 effective words/s\n",
      "INFO - 15:58:34: EPOCH 425 - PROGRESS: at 69.06% examples, 134560 words/s, in_qsize 1, out_qsize 1\n",
      "INFO - 15:58:35: EPOCH 425: training on 523538 raw words (199140 effective words) took 1.3s, 155593 effective words/s\n",
      "INFO - 15:58:36: EPOCH 426 - PROGRESS: at 72.86% examples, 142508 words/s, in_qsize 1, out_qsize 0\n",
      "INFO - 15:58:36: EPOCH 426: training on 523538 raw words (199447 effective words) took 1.3s, 156153 effective words/s\n",
      "INFO - 15:58:37: EPOCH 427 - PROGRESS: at 74.73% examples, 147355 words/s, in_qsize 0, out_qsize 0\n",
      "INFO - 15:58:37: EPOCH 427: training on 523538 raw words (199537 effective words) took 1.1s, 174490 effective words/s\n",
      "INFO - 15:58:38: EPOCH 428 - PROGRESS: at 35.35% examples, 71355 words/s, in_qsize 7, out_qsize 0\n",
      "INFO - 15:58:39: EPOCH 428: training on 523538 raw words (198877 effective words) took 1.5s, 132317 effective words/s\n",
      "INFO - 15:58:40: EPOCH 429 - PROGRESS: at 76.62% examples, 140586 words/s, in_qsize 0, out_qsize 4\n",
      "INFO - 15:58:40: EPOCH 429: training on 523538 raw words (199145 effective words) took 1.3s, 154094 effective words/s\n",
      "INFO - 15:58:41: EPOCH 430 - PROGRESS: at 80.41% examples, 158834 words/s, in_qsize 0, out_qsize 0\n",
      "INFO - 15:58:41: EPOCH 430: training on 523538 raw words (199234 effective words) took 1.2s, 165960 effective words/s\n",
      "INFO - 15:58:42: EPOCH 431 - PROGRESS: at 72.86% examples, 143786 words/s, in_qsize 0, out_qsize 0\n",
      "INFO - 15:58:42: EPOCH 431: training on 523538 raw words (199195 effective words) took 1.3s, 157921 effective words/s\n",
      "INFO - 15:58:43: EPOCH 432 - PROGRESS: at 90.04% examples, 177859 words/s, in_qsize 0, out_qsize 0\n",
      "INFO - 15:58:43: EPOCH 432: training on 523538 raw words (199724 effective words) took 1.1s, 183222 effective words/s\n",
      "INFO - 15:58:44: EPOCH 433 - PROGRESS: at 39.39% examples, 79863 words/s, in_qsize 9, out_qsize 0\n",
      "INFO - 15:58:45: EPOCH 433: training on 523538 raw words (199809 effective words) took 1.3s, 151387 effective words/s\n",
      "INFO - 15:58:46: EPOCH 434 - PROGRESS: at 74.73% examples, 142912 words/s, in_qsize 1, out_qsize 0\n",
      "INFO - 15:58:46: EPOCH 434: training on 523538 raw words (199148 effective words) took 1.3s, 157157 effective words/s\n",
      "INFO - 15:58:47: EPOCH 435 - PROGRESS: at 80.41% examples, 158978 words/s, in_qsize 11, out_qsize 1\n",
      "INFO - 15:58:47: EPOCH 435: training on 523538 raw words (199861 effective words) took 1.1s, 181887 effective words/s\n",
      "INFO - 15:58:48: EPOCH 436 - PROGRESS: at 39.39% examples, 78614 words/s, in_qsize 9, out_qsize 0\n",
      "INFO - 15:58:49: EPOCH 436: training on 523538 raw words (199399 effective words) took 1.4s, 146608 effective words/s\n",
      "INFO - 15:58:50: EPOCH 437 - PROGRESS: at 45.83% examples, 90364 words/s, in_qsize 2, out_qsize 0\n",
      "INFO - 15:58:50: EPOCH 437: training on 523538 raw words (199578 effective words) took 1.4s, 142858 effective words/s\n",
      "INFO - 15:58:51: EPOCH 438 - PROGRESS: at 74.74% examples, 148323 words/s, in_qsize 1, out_qsize 0\n",
      "INFO - 15:58:51: EPOCH 438: training on 523538 raw words (199811 effective words) took 1.2s, 172468 effective words/s\n",
      "INFO - 15:58:52: EPOCH 439 - PROGRESS: at 69.06% examples, 136236 words/s, in_qsize 1, out_qsize 0\n",
      "INFO - 15:58:52: EPOCH 439: training on 523538 raw words (199664 effective words) took 1.3s, 154185 effective words/s\n",
      "INFO - 15:58:54: EPOCH 440 - PROGRESS: at 86.13% examples, 148210 words/s, in_qsize 0, out_qsize 0\n",
      "INFO - 15:58:54: EPOCH 440: training on 523538 raw words (199697 effective words) took 1.3s, 154982 effective words/s\n",
      "INFO - 15:58:55: EPOCH 441 - PROGRESS: at 61.41% examples, 117869 words/s, in_qsize 21, out_qsize 0\n",
      "INFO - 15:58:55: EPOCH 441: training on 523538 raw words (199407 effective words) took 1.1s, 176766 effective words/s\n",
      "INFO - 15:58:56: EPOCH 442 - PROGRESS: at 72.86% examples, 141055 words/s, in_qsize 1, out_qsize 0\n",
      "INFO - 15:58:56: EPOCH 442: training on 523538 raw words (199581 effective words) took 1.3s, 156982 effective words/s\n",
      "INFO - 15:58:57: EPOCH 443 - PROGRESS: at 86.15% examples, 168092 words/s, in_qsize 0, out_qsize 0\n",
      "INFO - 15:58:57: EPOCH 443: training on 523538 raw words (199354 effective words) took 1.1s, 179893 effective words/s\n",
      "INFO - 15:58:58: EPOCH 444 - PROGRESS: at 72.86% examples, 143609 words/s, in_qsize 1, out_qsize 0\n",
      "INFO - 15:58:59: EPOCH 444: training on 523538 raw words (199513 effective words) took 1.3s, 158595 effective words/s\n",
      "INFO - 15:59:00: EPOCH 445 - PROGRESS: at 70.97% examples, 140484 words/s, in_qsize 0, out_qsize 1\n"
     ]
    },
    {
     "name": "stderr",
     "output_type": "stream",
     "text": [
      "INFO - 15:59:00: EPOCH 445: training on 523538 raw words (199237 effective words) took 1.3s, 158008 effective words/s\n",
      "INFO - 15:59:01: EPOCH 446 - PROGRESS: at 88.14% examples, 167657 words/s, in_qsize 1, out_qsize 0\n",
      "INFO - 15:59:01: EPOCH 446: training on 523538 raw words (199037 effective words) took 1.1s, 175045 effective words/s\n",
      "INFO - 15:59:02: EPOCH 447 - PROGRESS: at 67.19% examples, 132802 words/s, in_qsize 0, out_qsize 1\n",
      "INFO - 15:59:02: EPOCH 447: training on 523538 raw words (199134 effective words) took 1.3s, 148943 effective words/s\n",
      "INFO - 15:59:03: EPOCH 448 - PROGRESS: at 67.19% examples, 131576 words/s, in_qsize 0, out_qsize 0\n",
      "INFO - 15:59:04: EPOCH 448: training on 523538 raw words (199027 effective words) took 1.4s, 146035 effective words/s\n",
      "INFO - 15:59:05: EPOCH 449 - PROGRESS: at 82.30% examples, 162350 words/s, in_qsize 1, out_qsize 0\n",
      "INFO - 15:59:05: EPOCH 449: training on 523538 raw words (199250 effective words) took 1.2s, 171380 effective words/s\n",
      "INFO - 15:59:06: EPOCH 450 - PROGRESS: at 72.86% examples, 130318 words/s, in_qsize 0, out_qsize 0\n",
      "INFO - 15:59:06: EPOCH 450: training on 523538 raw words (199559 effective words) took 1.3s, 154474 effective words/s\n",
      "INFO - 15:59:07: EPOCH 451 - PROGRESS: at 82.30% examples, 143255 words/s, in_qsize 0, out_qsize 3\n",
      "INFO - 15:59:08: EPOCH 451: training on 523538 raw words (199477 effective words) took 1.3s, 153333 effective words/s\n",
      "INFO - 15:59:09: EPOCH 452 - PROGRESS: at 82.30% examples, 163104 words/s, in_qsize 0, out_qsize 0\n",
      "INFO - 15:59:09: EPOCH 452: training on 523538 raw words (199503 effective words) took 1.1s, 173679 effective words/s\n",
      "INFO - 15:59:10: EPOCH 453 - PROGRESS: at 39.39% examples, 74743 words/s, in_qsize 10, out_qsize 0\n",
      "INFO - 15:59:10: EPOCH 453: training on 523538 raw words (198979 effective words) took 1.4s, 143115 effective words/s\n",
      "INFO - 15:59:11: EPOCH 454 - PROGRESS: at 90.04% examples, 175551 words/s, in_qsize 0, out_qsize 0\n",
      "INFO - 15:59:11: EPOCH 454: training on 523538 raw words (199528 effective words) took 1.1s, 180741 effective words/s\n",
      "INFO - 15:59:12: EPOCH 455 - PROGRESS: at 70.97% examples, 138867 words/s, in_qsize 0, out_qsize 0\n",
      "INFO - 15:59:13: EPOCH 455: training on 523538 raw words (199589 effective words) took 1.3s, 153187 effective words/s\n",
      "INFO - 15:59:14: EPOCH 456 - PROGRESS: at 69.06% examples, 135562 words/s, in_qsize 0, out_qsize 0\n",
      "INFO - 15:59:14: EPOCH 456: training on 523538 raw words (199356 effective words) took 1.3s, 149706 effective words/s\n",
      "INFO - 15:59:15: EPOCH 457 - PROGRESS: at 86.15% examples, 171366 words/s, in_qsize 1, out_qsize 0\n",
      "INFO - 15:59:15: EPOCH 457: training on 523538 raw words (199262 effective words) took 1.1s, 179391 effective words/s\n",
      "INFO - 15:59:16: EPOCH 458 - PROGRESS: at 72.86% examples, 144045 words/s, in_qsize 0, out_qsize 0\n",
      "INFO - 15:59:16: EPOCH 458: training on 523538 raw words (199442 effective words) took 1.3s, 158547 effective words/s\n",
      "INFO - 15:59:17: EPOCH 459 - PROGRESS: at 78.54% examples, 147464 words/s, in_qsize 0, out_qsize 0\n",
      "INFO - 15:59:18: EPOCH 459: training on 523538 raw words (199791 effective words) took 1.3s, 154744 effective words/s\n",
      "INFO - 15:59:19: EPOCH 460 - PROGRESS: at 84.22% examples, 165539 words/s, in_qsize 0, out_qsize 0\n",
      "INFO - 15:59:19: EPOCH 460: training on 523538 raw words (199500 effective words) took 1.1s, 173613 effective words/s\n",
      "INFO - 15:59:20: EPOCH 461 - PROGRESS: at 69.06% examples, 134235 words/s, in_qsize 0, out_qsize 0\n",
      "INFO - 15:59:20: EPOCH 461: training on 523538 raw words (199789 effective words) took 1.3s, 150283 effective words/s\n",
      "INFO - 15:59:21: EPOCH 462 - PROGRESS: at 86.15% examples, 169366 words/s, in_qsize 0, out_qsize 0\n",
      "INFO - 15:59:21: EPOCH 462: training on 523538 raw words (199660 effective words) took 1.1s, 175383 effective words/s\n",
      "INFO - 15:59:22: EPOCH 463 - PROGRESS: at 69.06% examples, 136076 words/s, in_qsize 0, out_qsize 0\n",
      "INFO - 15:59:23: EPOCH 463: training on 523538 raw words (199549 effective words) took 1.3s, 148603 effective words/s\n",
      "INFO - 15:59:24: EPOCH 464 - PROGRESS: at 74.73% examples, 146427 words/s, in_qsize 0, out_qsize 1\n",
      "INFO - 15:59:24: EPOCH 464: training on 523538 raw words (199011 effective words) took 1.3s, 159123 effective words/s\n",
      "INFO - 15:59:25: EPOCH 465 - PROGRESS: at 82.30% examples, 161878 words/s, in_qsize 1, out_qsize 0\n",
      "INFO - 15:59:25: EPOCH 465: training on 523538 raw words (199607 effective words) took 1.2s, 170780 effective words/s\n",
      "INFO - 15:59:26: EPOCH 466 - PROGRESS: at 69.06% examples, 134889 words/s, in_qsize 0, out_qsize 0\n",
      "INFO - 15:59:26: EPOCH 466: training on 523538 raw words (199600 effective words) took 1.3s, 149439 effective words/s\n",
      "INFO - 15:59:28: EPOCH 467 - PROGRESS: at 70.97% examples, 137378 words/s, in_qsize 0, out_qsize 3\n",
      "INFO - 15:59:28: EPOCH 467: training on 523538 raw words (199157 effective words) took 1.3s, 149143 effective words/s\n",
      "INFO - 15:59:29: EPOCH 468 - PROGRESS: at 86.15% examples, 168370 words/s, in_qsize 0, out_qsize 0\n",
      "INFO - 15:59:29: EPOCH 468: training on 523538 raw words (199267 effective words) took 1.1s, 175095 effective words/s\n",
      "INFO - 15:59:30: EPOCH 469 - PROGRESS: at 69.06% examples, 135406 words/s, in_qsize 1, out_qsize 0\n",
      "INFO - 15:59:30: EPOCH 469: training on 523538 raw words (199224 effective words) took 1.3s, 152095 effective words/s\n",
      "INFO - 15:59:31: EPOCH 470 - PROGRESS: at 82.30% examples, 163172 words/s, in_qsize 0, out_qsize 0\n",
      "INFO - 15:59:32: EPOCH 470: training on 523538 raw words (199176 effective words) took 1.2s, 173040 effective words/s\n",
      "INFO - 15:59:33: EPOCH 471 - PROGRESS: at 70.97% examples, 137431 words/s, in_qsize 1, out_qsize 0\n",
      "INFO - 15:59:33: EPOCH 471: training on 523538 raw words (199226 effective words) took 1.3s, 151919 effective words/s\n",
      "INFO - 15:59:34: EPOCH 472 - PROGRESS: at 69.06% examples, 134722 words/s, in_qsize 0, out_qsize 0\n",
      "INFO - 15:59:34: EPOCH 472: training on 523538 raw words (199225 effective words) took 1.3s, 150176 effective words/s\n",
      "INFO - 15:59:35: EPOCH 473 - PROGRESS: at 90.04% examples, 176675 words/s, in_qsize 6, out_qsize 10\n",
      "INFO - 15:59:35: EPOCH 473: training on 523538 raw words (199808 effective words) took 1.1s, 184379 effective words/s\n",
      "INFO - 15:59:36: EPOCH 474 - PROGRESS: at 65.29% examples, 128928 words/s, in_qsize 0, out_qsize 1\n",
      "INFO - 15:59:37: EPOCH 474: training on 523538 raw words (199470 effective words) took 1.3s, 148643 effective words/s\n",
      "INFO - 15:59:38: EPOCH 475 - PROGRESS: at 72.86% examples, 138589 words/s, in_qsize 1, out_qsize 0\n",
      "INFO - 15:59:38: EPOCH 475: training on 523538 raw words (198980 effective words) took 1.3s, 154027 effective words/s\n",
      "INFO - 15:59:39: EPOCH 476 - PROGRESS: at 88.14% examples, 171993 words/s, in_qsize 1, out_qsize 0\n",
      "INFO - 15:59:39: EPOCH 476: training on 523538 raw words (199322 effective words) took 1.1s, 178615 effective words/s\n",
      "INFO - 15:59:40: EPOCH 477 - PROGRESS: at 63.32% examples, 125200 words/s, in_qsize 0, out_qsize 0\n",
      "INFO - 15:59:40: EPOCH 477: training on 523538 raw words (199223 effective words) took 1.4s, 147230 effective words/s\n",
      "INFO - 15:59:42: EPOCH 478 - PROGRESS: at 70.97% examples, 135205 words/s, in_qsize 1, out_qsize 0\n",
      "INFO - 15:59:42: EPOCH 478: training on 523538 raw words (199482 effective words) took 1.3s, 158514 effective words/s\n",
      "INFO - 15:59:43: EPOCH 479 - PROGRESS: at 90.04% examples, 179182 words/s, in_qsize 16, out_qsize 0\n",
      "INFO - 15:59:43: EPOCH 479: training on 523538 raw words (199521 effective words) took 1.1s, 186153 effective words/s\n",
      "INFO - 15:59:44: EPOCH 480 - PROGRESS: at 72.86% examples, 142620 words/s, in_qsize 1, out_qsize 0\n",
      "INFO - 15:59:44: EPOCH 480: training on 523538 raw words (199537 effective words) took 1.3s, 157387 effective words/s\n",
      "INFO - 15:59:45: EPOCH 481 - PROGRESS: at 31.40% examples, 61877 words/s, in_qsize 29, out_qsize 0\n",
      "INFO - 15:59:45: EPOCH 481: training on 523538 raw words (199545 effective words) took 1.3s, 154243 effective words/s\n",
      "INFO - 15:59:46: EPOCH 482 - PROGRESS: at 69.10% examples, 132094 words/s, in_qsize 17, out_qsize 0\n",
      "INFO - 15:59:47: EPOCH 482: training on 523538 raw words (199886 effective words) took 1.1s, 177881 effective words/s\n",
      "INFO - 15:59:48: EPOCH 483 - PROGRESS: at 74.73% examples, 145643 words/s, in_qsize 1, out_qsize 0\n"
     ]
    },
    {
     "name": "stderr",
     "output_type": "stream",
     "text": [
      "INFO - 15:59:48: EPOCH 483: training on 523538 raw words (199301 effective words) took 1.3s, 159287 effective words/s\n",
      "INFO - 15:59:49: EPOCH 484 - PROGRESS: at 90.04% examples, 176560 words/s, in_qsize 0, out_qsize 0\n",
      "INFO - 15:59:49: EPOCH 484: training on 523538 raw words (199340 effective words) took 1.1s, 181526 effective words/s\n",
      "INFO - 15:59:50: EPOCH 485 - PROGRESS: at 72.86% examples, 143474 words/s, in_qsize 1, out_qsize 0\n",
      "INFO - 15:59:50: EPOCH 485: training on 523538 raw words (199540 effective words) took 1.3s, 159164 effective words/s\n",
      "INFO - 15:59:51: EPOCH 486 - PROGRESS: at 69.10% examples, 136152 words/s, in_qsize 0, out_qsize 2\n",
      "INFO - 15:59:52: EPOCH 486: training on 523538 raw words (199269 effective words) took 1.4s, 144486 effective words/s\n",
      "INFO - 15:59:53: EPOCH 487 - PROGRESS: at 88.14% examples, 169837 words/s, in_qsize 1, out_qsize 1\n",
      "INFO - 15:59:53: EPOCH 487: training on 523538 raw words (199660 effective words) took 1.1s, 175127 effective words/s\n",
      "INFO - 15:59:54: EPOCH 488 - PROGRESS: at 67.19% examples, 130269 words/s, in_qsize 0, out_qsize 0\n",
      "INFO - 15:59:54: EPOCH 488: training on 523538 raw words (199453 effective words) took 1.3s, 151865 effective words/s\n",
      "INFO - 15:59:55: EPOCH 489 - PROGRESS: at 74.74% examples, 133811 words/s, in_qsize 1, out_qsize 0\n",
      "INFO - 15:59:55: EPOCH 489: training on 523538 raw words (199323 effective words) took 1.3s, 156820 effective words/s\n",
      "INFO - 15:59:56: EPOCH 490 - PROGRESS: at 76.63% examples, 147551 words/s, in_qsize 13, out_qsize 1\n",
      "INFO - 15:59:56: EPOCH 490: training on 523538 raw words (199388 effective words) took 1.1s, 183131 effective words/s\n",
      "INFO - 15:59:58: EPOCH 491 - PROGRESS: at 70.97% examples, 138678 words/s, in_qsize 0, out_qsize 0\n",
      "INFO - 15:59:58: EPOCH 491: training on 523538 raw words (199171 effective words) took 1.3s, 156053 effective words/s\n",
      "INFO - 15:59:59: EPOCH 492 - PROGRESS: at 90.04% examples, 177886 words/s, in_qsize 0, out_qsize 0\n",
      "INFO - 15:59:59: EPOCH 492: training on 523538 raw words (199941 effective words) took 1.1s, 184590 effective words/s\n",
      "INFO - 16:00:00: EPOCH 493 - PROGRESS: at 61.41% examples, 115144 words/s, in_qsize 0, out_qsize 0\n",
      "INFO - 16:00:00: EPOCH 493: training on 523538 raw words (199513 effective words) took 1.3s, 150517 effective words/s\n",
      "INFO - 16:00:01: EPOCH 494 - PROGRESS: at 74.73% examples, 146198 words/s, in_qsize 1, out_qsize 0\n",
      "INFO - 16:00:01: EPOCH 494: training on 523538 raw words (199816 effective words) took 1.2s, 160287 effective words/s\n",
      "INFO - 16:00:03: EPOCH 495 - PROGRESS: at 55.69% examples, 110064 words/s, in_qsize 24, out_qsize 0\n",
      "INFO - 16:00:03: EPOCH 495: training on 523538 raw words (199655 effective words) took 1.1s, 177527 effective words/s\n",
      "INFO - 16:00:04: EPOCH 496 - PROGRESS: at 49.75% examples, 92237 words/s, in_qsize 10, out_qsize 0\n",
      "INFO - 16:00:04: EPOCH 496: training on 523538 raw words (199899 effective words) took 1.3s, 153226 effective words/s\n",
      "INFO - 16:00:05: EPOCH 497 - PROGRESS: at 43.68% examples, 82274 words/s, in_qsize 12, out_qsize 0\n",
      "INFO - 16:00:05: EPOCH 497: training on 523538 raw words (199652 effective words) took 1.3s, 152434 effective words/s\n",
      "INFO - 16:00:06: EPOCH 498 - PROGRESS: at 63.32% examples, 120675 words/s, in_qsize 20, out_qsize 0\n",
      "INFO - 16:00:06: EPOCH 498: training on 523538 raw words (199687 effective words) took 1.1s, 176072 effective words/s\n",
      "INFO - 16:00:07: EPOCH 499 - PROGRESS: at 69.06% examples, 134126 words/s, in_qsize 0, out_qsize 1\n",
      "INFO - 16:00:08: EPOCH 499: training on 523538 raw words (199530 effective words) took 1.3s, 153372 effective words/s\n",
      "INFO - 16:00:08: Word2Vec lifecycle event {'msg': 'training on 261769000 raw words (99711547 effective words) took 597.2s, 166967 effective words/s', 'datetime': '2023-07-10T16:00:08.253885', 'gensim': '4.3.1', 'python': '3.10.12 | packaged by conda-forge | (main, Jun 23 2023, 22:34:57) [MSC v.1936 64 bit (AMD64)]', 'platform': 'Windows-10-10.0.19045-SP0', 'event': 'train'}\n"
     ]
    },
    {
     "name": "stdout",
     "output_type": "stream",
     "text": [
      "Time to train the model: 9.95 mins\n"
     ]
    }
   ],
   "source": [
    "t = time()\n",
    "\n",
    "w2v_model.train(sentences, total_examples=w2v_model.corpus_count, epochs=500, report_delay=1)\n",
    "\n",
    "print('Time to train the model: {} mins'.format(round((time() - t) / 60, 2)))"
   ]
  },
  {
   "cell_type": "code",
   "execution_count": 21,
   "id": "5822dd33",
   "metadata": {},
   "outputs": [
    {
     "name": "stderr",
     "output_type": "stream",
     "text": [
      "C:\\Users\\SWANNT\\AppData\\Local\\Temp\\ipykernel_23308\\514372312.py:1: DeprecationWarning: Call to deprecated `init_sims` (Gensim 4.0.0 implemented internal optimizations that make calls to init_sims() unnecessary. init_sims() is now obsoleted and will be completely removed in future versions. See https://github.com/RaRe-Technologies/gensim/wiki/Migrating-from-Gensim-3.x-to-4).\n",
      "  w2v_model.init_sims(replace=True)\n",
      "WARNING - 16:00:08: destructive init_sims(replace=True) deprecated & no longer required for space-efficiency\n"
     ]
    }
   ],
   "source": [
    "w2v_model.init_sims(replace=True)"
   ]
  },
  {
   "cell_type": "code",
   "execution_count": 22,
   "id": "310acf71",
   "metadata": {},
   "outputs": [
    {
     "data": {
      "text/plain": [
       "[('marge', 0.3970673382282257),\n",
       " ('dad', 0.2548356056213379),\n",
       " ('thing', 0.23930324614048004),\n",
       " ('simpson', 0.23853224515914917),\n",
       " ('want', 0.23427224159240723),\n",
       " ('know', 0.23076802492141724),\n",
       " ('homie', 0.22180622816085815),\n",
       " ('people', 0.2201680988073349),\n",
       " ('hey', 0.21936239302158356),\n",
       " ('uh', 0.21319378912448883)]"
      ]
     },
     "execution_count": 22,
     "metadata": {},
     "output_type": "execute_result"
    }
   ],
   "source": [
    "w2v_model.wv.most_similar(positive=[\"homer\"])"
   ]
  },
  {
   "cell_type": "code",
   "execution_count": 23,
   "id": "026ac374",
   "metadata": {},
   "outputs": [
    {
     "data": {
      "text/plain": [
       "[('simpson', 0.2060728669166565),\n",
       " ('sir', 0.20509707927703857),\n",
       " ('man', 0.19420315325260162),\n",
       " ('available', 0.1891089826822281),\n",
       " ('concern', 0.1800335794687271),\n",
       " ('american', 0.17905649542808533),\n",
       " ('scale', 0.17529737949371338),\n",
       " ('mr_simpson', 0.1743680238723755),\n",
       " ('yes', 0.17337295413017273),\n",
       " ('welcome', 0.17033115029335022)]"
      ]
     },
     "execution_count": 23,
     "metadata": {},
     "output_type": "execute_result"
    }
   ],
   "source": [
    "w2v_model.wv.most_similar(positive=[\"homer_simpson\"])"
   ]
  },
  {
   "cell_type": "code",
   "execution_count": 24,
   "id": "083d69cf",
   "metadata": {},
   "outputs": [
    {
     "data": {
      "text/plain": [
       "[('homer', 0.3970673382282257),\n",
       " ('thing', 0.2629895806312561),\n",
       " ('homie', 0.2560619115829468),\n",
       " ('know', 0.2463352084159851),\n",
       " ('want', 0.24322925508022308),\n",
       " ('way', 0.2363802194595337),\n",
       " ('son', 0.23032251000404358),\n",
       " ('time', 0.2233850359916687),\n",
       " ('family', 0.22020526230335236),\n",
       " ('think', 0.2166031450033188)]"
      ]
     },
     "execution_count": 24,
     "metadata": {},
     "output_type": "execute_result"
    }
   ],
   "source": [
    "w2v_model.wv.most_similar(positive=[\"marge\"])"
   ]
  },
  {
   "cell_type": "code",
   "execution_count": 25,
   "id": "cde0a6fb",
   "metadata": {},
   "outputs": [
    {
     "data": {
      "text/plain": [
       "[('lisa', 0.5041964650154114),\n",
       " ('dad', 0.37489941716194153),\n",
       " ('child', 0.35102173686027527),\n",
       " ('kid', 0.33330684900283813),\n",
       " ('son', 0.3063059151172638),\n",
       " ('school', 0.3024362623691559),\n",
       " ('boy', 0.2835147976875305),\n",
       " ('think', 0.28110381960868835),\n",
       " ('student', 0.26800718903541565),\n",
       " ('mom', 0.2560880184173584)]"
      ]
     },
     "execution_count": 25,
     "metadata": {},
     "output_type": "execute_result"
    }
   ],
   "source": [
    "w2v_model.wv.most_similar(positive=[\"bart\"])"
   ]
  },
  {
   "cell_type": "code",
   "execution_count": 26,
   "id": "a912d997",
   "metadata": {},
   "outputs": [
    {
     "data": {
      "text/plain": [
       "0.06823659"
      ]
     },
     "execution_count": 26,
     "metadata": {},
     "output_type": "execute_result"
    }
   ],
   "source": [
    "w2v_model.wv.similarity('homer', 'tavern')"
   ]
  },
  {
   "cell_type": "code",
   "execution_count": 27,
   "id": "9dac2009",
   "metadata": {},
   "outputs": [
    {
     "data": {
      "text/plain": [
       "0.26575837"
      ]
     },
     "execution_count": 27,
     "metadata": {},
     "output_type": "execute_result"
    }
   ],
   "source": [
    "w2v_model.wv.similarity('maggie', 'baby')"
   ]
  },
  {
   "cell_type": "code",
   "execution_count": 28,
   "id": "9df3e26c",
   "metadata": {},
   "outputs": [
    {
     "data": {
      "text/plain": [
       "0.1381157"
      ]
     },
     "execution_count": 28,
     "metadata": {},
     "output_type": "execute_result"
    }
   ],
   "source": [
    "w2v_model.wv.similarity('bart', 'nelson')"
   ]
  },
  {
   "cell_type": "code",
   "execution_count": 29,
   "id": "44752848",
   "metadata": {},
   "outputs": [
    {
     "name": "stderr",
     "output_type": "stream",
     "text": [
      "WARNING - 16:00:08: vectors for words {'kearney'} are not present in the model, ignoring these words\n"
     ]
    },
    {
     "data": {
      "text/plain": [
       "'jimbo'"
      ]
     },
     "execution_count": 29,
     "metadata": {},
     "output_type": "execute_result"
    }
   ],
   "source": [
    "w2v_model.wv.doesnt_match(['jimbo', 'milhouse', 'kearney'])"
   ]
  },
  {
   "cell_type": "code",
   "execution_count": 30,
   "id": "0d2f86ec",
   "metadata": {},
   "outputs": [
    {
     "data": {
      "text/plain": [
       "'nelson'"
      ]
     },
     "execution_count": 30,
     "metadata": {},
     "output_type": "execute_result"
    }
   ],
   "source": [
    "w2v_model.wv.doesnt_match([\"nelson\", \"bart\", \"milhouse\"])"
   ]
  },
  {
   "cell_type": "code",
   "execution_count": 31,
   "id": "7e5a7528",
   "metadata": {},
   "outputs": [
    {
     "data": {
      "text/plain": [
       "'homer'"
      ]
     },
     "execution_count": 31,
     "metadata": {},
     "output_type": "execute_result"
    }
   ],
   "source": [
    "w2v_model.wv.doesnt_match(['homer', 'patty', 'selma'])"
   ]
  },
  {
   "cell_type": "code",
   "execution_count": 32,
   "id": "57eb2221",
   "metadata": {},
   "outputs": [
    {
     "data": {
      "text/plain": [
       "[('wonder', 0.227152019739151),\n",
       " ('man', 0.2080572545528412),\n",
       " ('people', 0.1893930286169052)]"
      ]
     },
     "execution_count": 32,
     "metadata": {},
     "output_type": "execute_result"
    }
   ],
   "source": [
    "w2v_model.wv.most_similar(positive=[\"woman\", \"homer\"], negative=[\"marge\"], topn=3)"
   ]
  },
  {
   "cell_type": "code",
   "execution_count": 33,
   "id": "59093f66",
   "metadata": {},
   "outputs": [
    {
     "data": {
      "text/plain": [
       "[('lisa', 0.3352735936641693),\n",
       " ('student', 0.23793968558311462),\n",
       " ('dad', 0.23723973333835602)]"
      ]
     },
     "execution_count": 33,
     "metadata": {},
     "output_type": "execute_result"
    }
   ],
   "source": [
    "w2v_model.wv.most_similar(positive=[\"woman\", \"bart\"], negative=[\"man\"], topn=3)"
   ]
  },
  {
   "cell_type": "code",
   "execution_count": 48,
   "id": "a4c00bd5",
   "metadata": {},
   "outputs": [],
   "source": [
    "def tsnescatterplot(model, word, list_names):\n",
    "    \"\"\" Plot in seaborn the results from the t-SNE dimensionality reduction algorithm of the vectors of a query word,\n",
    "    its list of most similar words, and a list of words.\n",
    "    \"\"\"\n",
    "    arrays = np.empty((0, 300), dtype='f')\n",
    "    word_labels = [word]\n",
    "    color_list  = ['red']\n",
    "\n",
    "    # adds the vector of the query word\n",
    "    arrays = np.append(arrays, model.wv.__getitem__([word]), axis=0)\n",
    "    \n",
    "    # gets list of most similar words\n",
    "    close_words = model.wv.most_similar([word])\n",
    "    \n",
    "    # adds the vector for each of the closest words to the array\n",
    "    for wrd_score in close_words:\n",
    "        wrd_vector = model.wv.__getitem__([wrd_score[0]])\n",
    "        word_labels.append(wrd_score[0])\n",
    "        color_list.append('blue')\n",
    "        arrays = np.append(arrays, wrd_vector, axis=0)\n",
    "    \n",
    "    # adds the vector for each of the words from list_names to the array\n",
    "    for wrd in list_names:\n",
    "        wrd_vector = model.wv.__getitem__([wrd])\n",
    "        word_labels.append(wrd)\n",
    "        color_list.append('green')\n",
    "        arrays = np.append(arrays, wrd_vector, axis=0)\n",
    "        \n",
    "    # Reduces the dimensionality from 300 to 50 dimensions with PCA\n",
    "    reduc = PCA(n_components=19).fit_transform(arrays)\n",
    "    \n",
    "    # Finds t-SNE coordinates for 2 dimensions\n",
    "    np.set_printoptions(suppress=True)\n",
    "    \n",
    "    Y = TSNE(n_components=2, random_state=0, perplexity=15).fit_transform(reduc)\n",
    "    \n",
    "    # Sets everything up to plot\n",
    "    df = pd.DataFrame({'x': [x for x in Y[:, 0]],\n",
    "                       'y': [y for y in Y[:, 1]],\n",
    "                       'words': word_labels,\n",
    "                       'color': color_list})\n",
    "    \n",
    "    fig, _ = plt.subplots()\n",
    "    fig.set_size_inches(9, 9)\n",
    "    \n",
    "    # Basic plot\n",
    "    p1 = sns.regplot(data=df,\n",
    "                     x=\"x\",\n",
    "                     y=\"y\",\n",
    "                     fit_reg=False,\n",
    "                     marker=\"o\",\n",
    "                     scatter_kws={'s': 40,\n",
    "                                  'facecolors': df['color']\n",
    "                                 }\n",
    "                    )\n",
    "    \n",
    "    # Adds annotations one by one with a loop\n",
    "    for line in range(0, df.shape[0]):\n",
    "         p1.text(df[\"x\"][line],\n",
    "                 df['y'][line],\n",
    "                 '  ' + df[\"words\"][line].title(),\n",
    "                 horizontalalignment='left',\n",
    "                 verticalalignment='bottom', size='medium',\n",
    "                 color=df['color'][line],\n",
    "                 weight='normal'\n",
    "                ).set_size(15)\n",
    "\n",
    "    \n",
    "    plt.xlim(Y[:, 0].min()-50, Y[:, 0].max()+50)\n",
    "    plt.ylim(Y[:, 1].min()-50, Y[:, 1].max()+50)\n",
    "            \n",
    "    plt.title('t-SNE visualization for {}'.format(word.title()))\n"
   ]
  },
  {
   "cell_type": "code",
   "execution_count": 49,
   "id": "ad10706b",
   "metadata": {},
   "outputs": [
    {
     "data": {
      "image/png": "[encoded data removed]",
      "text/plain": [
       "<Figure size 900x900 with 1 Axes>"
      ]
     },
     "metadata": {},
     "output_type": "display_data"
    }
   ],
   "source": [
    "tsnescatterplot(w2v_model, 'homer', ['dog', 'bird', 'ah', 'maude', 'bob', 'mel', 'apu', 'duff'])"
   ]
  },
  {
   "cell_type": "code",
   "execution_count": 50,
   "id": "cd4776ea",
   "metadata": {},
   "outputs": [
    {
     "data": {
      "image/png": "[encoded data removed]",
      "text/plain": [
       "<Figure size 900x900 with 1 Axes>"
      ]
     },
     "metadata": {},
     "output_type": "display_data"
    }
   ],
   "source": [
    "tsnescatterplot(w2v_model, 'maggie', [i[0] for i in w2v_model.wv.most_similar(negative=[\"maggie\"])])"
   ]
  },
  {
   "cell_type": "code",
   "execution_count": 51,
   "id": "9c7b269e",
   "metadata": {},
   "outputs": [
    {
     "data": {
      "image/png": "[encoded data removed]",
      "text/plain": [
       "<Figure size 900x900 with 1 Axes>"
      ]
     },
     "metadata": {},
     "output_type": "display_data"
    }
   ],
   "source": [
    "tsnescatterplot(w2v_model, \"mr_burn\", [t[0] for t in w2v_model.wv.most_similar(positive=[\"mr_burn\"], topn=20)][10:])"
   ]
  },
  {
   "cell_type": "code",
   "execution_count": null,
   "id": "275040d4",
   "metadata": {},
   "outputs": [],
   "source": []
  }
 ],
 "metadata": {
  "kernelspec": {
   "display_name": "pycharm",
   "language": "python",
   "name": "pycharm"
  },
  "language_info": {
   "codemirror_mode": {
    "name": "ipython",
    "version": 3
   },
   "file_extension": ".py",
   "mimetype": "text/x-python",
   "name": "python",
   "nbconvert_exporter": "python",
   "pygments_lexer": "ipython3",
   "version": "3.10.12"
  }
 },
 "nbformat": 4,
 "nbformat_minor": 5
}
